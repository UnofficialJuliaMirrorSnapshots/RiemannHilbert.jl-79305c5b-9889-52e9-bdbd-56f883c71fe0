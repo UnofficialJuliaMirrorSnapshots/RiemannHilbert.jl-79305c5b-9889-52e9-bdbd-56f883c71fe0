{
 "cells": [
  {
   "cell_type": "code",
   "execution_count": 3,
   "metadata": {},
   "outputs": [],
   "source": [
    "using ApproxFun, SingularIntegralEquations, RiemannHilbert, Plots, QuadGK, DualNumbers, ComplexPhasePortrait\n",
    "import ApproxFunBase: SequenceSpace, BasisFunctional, ℓ⁰, SpaceOperator, piece, pieces, npieces\n",
    "import ApproxFunOrthogonalPolynomials: Recurrence \n",
    "import RiemannHilbert: RiemannDual, logpart, finitepart, istieltjes, LogNumber\n",
    "import SingularIntegralEquations: ⁺, ⁻"
   ]
  },
  {
   "cell_type": "markdown",
   "metadata": {},
   "source": [
    "# Riemann–Hilbert problems\n",
    "\n",
    "Sheehan Olver\n",
    "<br>\n",
    "_Imperial College_"
   ]
  },
  {
   "cell_type": "markdown",
   "metadata": {},
   "source": [
    "## RiemannHilbert.jl\n",
    "\n",
    "An in-development package for solving Riemann–Hilbert problems, that builds on ApproxFun.jl and SingularIntegralEquations.jl.\n",
    "\n",
    "Here's an example of calculating the Hastings–McLeod solution. This has the following contour:"
   ]
  },
  {
   "cell_type": "code",
   "execution_count": 67,
   "metadata": {
    "scrolled": false
   },
   "outputs": [
    {
     "data": {
      "text/html": [
       "<?xml version=\"1.0\" encoding=\"utf-8\"?>\n",
       "<svg xmlns=\"http://www.w3.org/2000/svg\" xmlns:xlink=\"http://www.w3.org/1999/xlink\" width=\"600\" height=\"400\" viewBox=\"0 0 600 400\">\n",
       "<defs>\n",
       "  <clipPath id=\"clip00\">\n",
       "    <rect x=\"0\" y=\"0\" width=\"600\" height=\"400\"/>\n",
       "  </clipPath>\n",
       "</defs>\n",
       "<polygon clip-path=\"url(#clip00)\" points=\"\n",
       "0,400 600,400 600,0 0,0 \n",
       "  \" fill=\"#ffffff\" fill-opacity=\"1\"/>\n",
       "<defs>\n",
       "  <clipPath id=\"clip01\">\n",
       "    <rect x=\"120\" y=\"0\" width=\"421\" height=\"400\"/>\n",
       "  </clipPath>\n",
       "</defs>\n",
       "<polygon clip-path=\"url(#clip00)\" points=\"\n",
       "39.1436,375.813 580.315,375.813 580.315,11.811 39.1436,11.811 \n",
       "  \" fill=\"#ffffff\" fill-opacity=\"1\"/>\n",
       "<defs>\n",
       "  <clipPath id=\"clip02\">\n",
       "    <rect x=\"39\" y=\"11\" width=\"542\" height=\"365\"/>\n",
       "  </clipPath>\n",
       "</defs>\n",
       "<polyline clip-path=\"url(#clip02)\" style=\"stroke:#000000; stroke-width:0.5; stroke-opacity:0.1; fill:none\" points=\"\n",
       "  59.7238,370.353 59.7238,17.2711 \n",
       "  \"/>\n",
       "<polyline clip-path=\"url(#clip02)\" style=\"stroke:#000000; stroke-width:0.5; stroke-opacity:0.1; fill:none\" points=\"\n",
       "  184.727,370.353 184.727,17.2711 \n",
       "  \"/>\n",
       "<polyline clip-path=\"url(#clip02)\" style=\"stroke:#000000; stroke-width:0.5; stroke-opacity:0.1; fill:none\" points=\"\n",
       "  309.729,370.353 309.729,17.2711 \n",
       "  \"/>\n",
       "<polyline clip-path=\"url(#clip02)\" style=\"stroke:#000000; stroke-width:0.5; stroke-opacity:0.1; fill:none\" points=\"\n",
       "  434.732,370.353 434.732,17.2711 \n",
       "  \"/>\n",
       "<polyline clip-path=\"url(#clip02)\" style=\"stroke:#000000; stroke-width:0.5; stroke-opacity:0.1; fill:none\" points=\"\n",
       "  559.735,370.353 559.735,17.2711 \n",
       "  \"/>\n",
       "<polyline clip-path=\"url(#clip02)\" style=\"stroke:#000000; stroke-width:0.5; stroke-opacity:0.1; fill:none\" points=\"\n",
       "  47.2612,339.442 572.197,339.442 \n",
       "  \"/>\n",
       "<polyline clip-path=\"url(#clip02)\" style=\"stroke:#000000; stroke-width:0.5; stroke-opacity:0.1; fill:none\" points=\"\n",
       "  47.2612,266.627 572.197,266.627 \n",
       "  \"/>\n",
       "<polyline clip-path=\"url(#clip02)\" style=\"stroke:#000000; stroke-width:0.5; stroke-opacity:0.1; fill:none\" points=\"\n",
       "  47.2612,193.812 572.197,193.812 \n",
       "  \"/>\n",
       "<polyline clip-path=\"url(#clip02)\" style=\"stroke:#000000; stroke-width:0.5; stroke-opacity:0.1; fill:none\" points=\"\n",
       "  47.2612,120.997 572.197,120.997 \n",
       "  \"/>\n",
       "<polyline clip-path=\"url(#clip02)\" style=\"stroke:#000000; stroke-width:0.5; stroke-opacity:0.1; fill:none\" points=\"\n",
       "  47.2612,48.1826 572.197,48.1826 \n",
       "  \"/>\n",
       "<polyline clip-path=\"url(#clip00)\" style=\"stroke:#000000; stroke-width:1; stroke-opacity:1; fill:none\" points=\"\n",
       "  39.1436,375.813 580.315,375.813 \n",
       "  \"/>\n",
       "<polyline clip-path=\"url(#clip00)\" style=\"stroke:#000000; stroke-width:1; stroke-opacity:1; fill:none\" points=\"\n",
       "  59.7238,375.813 59.7238,370.353 \n",
       "  \"/>\n",
       "<polyline clip-path=\"url(#clip00)\" style=\"stroke:#000000; stroke-width:1; stroke-opacity:1; fill:none\" points=\"\n",
       "  184.727,375.813 184.727,370.353 \n",
       "  \"/>\n",
       "<polyline clip-path=\"url(#clip00)\" style=\"stroke:#000000; stroke-width:1; stroke-opacity:1; fill:none\" points=\"\n",
       "  309.729,375.813 309.729,370.353 \n",
       "  \"/>\n",
       "<polyline clip-path=\"url(#clip00)\" style=\"stroke:#000000; stroke-width:1; stroke-opacity:1; fill:none\" points=\"\n",
       "  434.732,375.813 434.732,370.353 \n",
       "  \"/>\n",
       "<polyline clip-path=\"url(#clip00)\" style=\"stroke:#000000; stroke-width:1; stroke-opacity:1; fill:none\" points=\"\n",
       "  559.735,375.813 559.735,370.353 \n",
       "  \"/>\n",
       "<polyline clip-path=\"url(#clip00)\" style=\"stroke:#000000; stroke-width:1; stroke-opacity:1; fill:none\" points=\"\n",
       "  39.1436,375.813 39.1436,11.811 \n",
       "  \"/>\n",
       "<polyline clip-path=\"url(#clip00)\" style=\"stroke:#000000; stroke-width:1; stroke-opacity:1; fill:none\" points=\"\n",
       "  39.1436,339.442 47.2612,339.442 \n",
       "  \"/>\n",
       "<polyline clip-path=\"url(#clip00)\" style=\"stroke:#000000; stroke-width:1; stroke-opacity:1; fill:none\" points=\"\n",
       "  39.1436,266.627 47.2612,266.627 \n",
       "  \"/>\n",
       "<polyline clip-path=\"url(#clip00)\" style=\"stroke:#000000; stroke-width:1; stroke-opacity:1; fill:none\" points=\"\n",
       "  39.1436,193.812 47.2612,193.812 \n",
       "  \"/>\n",
       "<polyline clip-path=\"url(#clip00)\" style=\"stroke:#000000; stroke-width:1; stroke-opacity:1; fill:none\" points=\"\n",
       "  39.1436,120.997 47.2612,120.997 \n",
       "  \"/>\n",
       "<polyline clip-path=\"url(#clip00)\" style=\"stroke:#000000; stroke-width:1; stroke-opacity:1; fill:none\" points=\"\n",
       "  39.1436,48.1826 47.2612,48.1826 \n",
       "  \"/>\n",
       "<g clip-path=\"url(#clip00)\">\n",
       "<text style=\"fill:#000000; fill-opacity:1; font-family:Arial,Helvetica Neue,Helvetica,sans-serif; font-size:12; text-anchor:middle;\" transform=\"rotate(0, 59.7238, 389.613)\" x=\"59.7238\" y=\"389.613\">-2</text>\n",
       "</g>\n",
       "<g clip-path=\"url(#clip00)\">\n",
       "<text style=\"fill:#000000; fill-opacity:1; font-family:Arial,Helvetica Neue,Helvetica,sans-serif; font-size:12; text-anchor:middle;\" transform=\"rotate(0, 184.727, 389.613)\" x=\"184.727\" y=\"389.613\">-1</text>\n",
       "</g>\n",
       "<g clip-path=\"url(#clip00)\">\n",
       "<text style=\"fill:#000000; fill-opacity:1; font-family:Arial,Helvetica Neue,Helvetica,sans-serif; font-size:12; text-anchor:middle;\" transform=\"rotate(0, 309.729, 389.613)\" x=\"309.729\" y=\"389.613\">0</text>\n",
       "</g>\n",
       "<g clip-path=\"url(#clip00)\">\n",
       "<text style=\"fill:#000000; fill-opacity:1; font-family:Arial,Helvetica Neue,Helvetica,sans-serif; font-size:12; text-anchor:middle;\" transform=\"rotate(0, 434.732, 389.613)\" x=\"434.732\" y=\"389.613\">1</text>\n",
       "</g>\n",
       "<g clip-path=\"url(#clip00)\">\n",
       "<text style=\"fill:#000000; fill-opacity:1; font-family:Arial,Helvetica Neue,Helvetica,sans-serif; font-size:12; text-anchor:middle;\" transform=\"rotate(0, 559.735, 389.613)\" x=\"559.735\" y=\"389.613\">2</text>\n",
       "</g>\n",
       "<g clip-path=\"url(#clip00)\">\n",
       "<text style=\"fill:#000000; fill-opacity:1; font-family:Arial,Helvetica Neue,Helvetica,sans-serif; font-size:12; text-anchor:end;\" transform=\"rotate(0, 33.1436, 343.942)\" x=\"33.1436\" y=\"343.942\">-1.0</text>\n",
       "</g>\n",
       "<g clip-path=\"url(#clip00)\">\n",
       "<text style=\"fill:#000000; fill-opacity:1; font-family:Arial,Helvetica Neue,Helvetica,sans-serif; font-size:12; text-anchor:end;\" transform=\"rotate(0, 33.1436, 271.127)\" x=\"33.1436\" y=\"271.127\">-0.5</text>\n",
       "</g>\n",
       "<g clip-path=\"url(#clip00)\">\n",
       "<text style=\"fill:#000000; fill-opacity:1; font-family:Arial,Helvetica Neue,Helvetica,sans-serif; font-size:12; text-anchor:end;\" transform=\"rotate(0, 33.1436, 198.312)\" x=\"33.1436\" y=\"198.312\">0.0</text>\n",
       "</g>\n",
       "<g clip-path=\"url(#clip00)\">\n",
       "<text style=\"fill:#000000; fill-opacity:1; font-family:Arial,Helvetica Neue,Helvetica,sans-serif; font-size:12; text-anchor:end;\" transform=\"rotate(0, 33.1436, 125.497)\" x=\"33.1436\" y=\"125.497\">0.5</text>\n",
       "</g>\n",
       "<g clip-path=\"url(#clip00)\">\n",
       "<text style=\"fill:#000000; fill-opacity:1; font-family:Arial,Helvetica Neue,Helvetica,sans-serif; font-size:12; text-anchor:end;\" transform=\"rotate(0, 33.1436, 52.6826)\" x=\"33.1436\" y=\"52.6826\">1.0</text>\n",
       "</g>\n",
       "<polyline clip-path=\"url(#clip02)\" style=\"stroke:#009af9; stroke-width:1; stroke-opacity:1; fill:none\" points=\"\n",
       "  580.315,11.811 579.889,12.0973 579.04,12.6689 577.768,13.5241 576.079,14.6602 573.978,16.0736 571.471,17.7598 568.566,19.7136 565.273,21.9287 561.601,24.3983 \n",
       "  557.563,27.1146 553.17,30.069 548.438,33.2522 543.38,36.6542 538.013,40.2643 532.353,44.0711 526.419,48.0627 520.228,52.2266 513.801,56.5495 507.158,61.0179 \n",
       "  500.319,65.6177 493.307,70.3346 486.142,75.1535 478.848,80.0594 471.448,85.0369 463.965,90.0702 456.422,95.1436 448.844,100.241 441.254,105.346 433.675,110.444 \n",
       "  426.132,115.517 418.649,120.551 411.249,125.528 403.955,130.434 396.791,135.253 389.778,139.97 382.94,144.57 376.296,149.038 369.869,153.361 363.679,157.525 \n",
       "  357.744,161.516 352.085,165.323 346.717,168.933 341.66,172.335 336.927,175.518 332.535,178.473 328.496,181.189 324.825,183.659 321.531,185.874 318.627,187.828 \n",
       "  316.12,189.514 314.018,190.927 312.329,192.063 311.058,192.919 310.208,193.49 309.783,193.776 \n",
       "  \"/>\n",
       "<polyline clip-path=\"url(#clip02)\" style=\"stroke:#009af9; stroke-width:1; stroke-opacity:1; fill:none\" points=\"\n",
       "  39.1436,11.811 39.5692,12.0973 40.419,12.6689 41.6905,13.5241 43.3795,14.6602 45.4808,16.0736 47.9878,17.7598 50.8925,19.7136 54.1858,21.9287 57.8575,24.3983 \n",
       "  61.8958,27.1146 66.2881,30.069 71.0207,33.2522 76.0785,36.6542 81.4458,40.2643 87.1055,44.0711 93.0399,48.0627 99.2304,52.2266 105.657,56.5495 112.301,61.0179 \n",
       "  119.139,65.6177 126.152,70.3346 133.316,75.1535 140.61,80.0594 148.01,85.0369 155.493,90.0702 163.036,95.1436 170.615,100.241 178.205,105.346 185.783,110.444 \n",
       "  193.326,115.517 200.809,120.551 208.209,125.528 215.503,130.434 222.668,135.253 229.68,139.97 236.519,144.57 243.162,149.038 249.589,153.361 255.78,157.525 \n",
       "  261.714,161.516 267.374,165.323 272.741,168.933 277.799,172.335 282.531,175.518 286.924,178.473 290.962,181.189 294.634,183.659 297.927,185.874 300.832,187.828 \n",
       "  303.339,189.514 305.44,190.927 307.129,192.063 308.401,192.919 309.25,193.49 309.676,193.776 \n",
       "  \"/>\n",
       "<polyline clip-path=\"url(#clip02)\" style=\"stroke:#009af9; stroke-width:1; stroke-opacity:1; fill:none\" points=\"\n",
       "  39.1436,375.813 39.5692,375.527 40.419,374.956 41.6905,374.1 43.3795,372.964 45.4808,371.551 47.9878,369.865 50.8925,367.911 54.1858,365.696 57.8575,363.226 \n",
       "  61.8958,360.51 66.2881,357.555 71.0207,354.372 76.0785,350.97 81.4458,347.36 87.1055,343.553 93.0399,339.562 99.2304,335.398 105.657,331.075 112.301,326.607 \n",
       "  119.139,322.007 126.152,317.29 133.316,312.471 140.61,307.565 148.01,302.588 155.493,297.554 163.036,292.481 170.615,287.383 178.205,282.278 185.783,277.181 \n",
       "  193.326,272.107 200.809,267.074 208.209,262.096 215.503,257.191 222.668,252.372 229.68,247.655 236.519,243.055 243.162,238.586 249.589,234.264 255.78,230.1 \n",
       "  261.714,226.108 267.374,222.301 272.741,218.691 277.799,215.289 282.531,212.106 286.924,209.152 290.962,206.435 294.634,203.966 297.927,201.751 300.832,199.797 \n",
       "  303.339,198.111 305.44,196.697 307.129,195.561 308.401,194.706 309.25,194.134 309.676,193.848 \n",
       "  \"/>\n",
       "<polyline clip-path=\"url(#clip02)\" style=\"stroke:#009af9; stroke-width:1; stroke-opacity:1; fill:none\" points=\"\n",
       "  580.315,375.813 579.889,375.527 579.04,374.956 577.768,374.1 576.079,372.964 573.978,371.551 571.471,369.865 568.566,367.911 565.273,365.696 561.601,363.226 \n",
       "  557.563,360.51 553.17,357.555 548.438,354.372 543.38,350.97 538.013,347.36 532.353,343.553 526.419,339.562 520.228,335.398 513.801,331.075 507.158,326.607 \n",
       "  500.319,322.007 493.307,317.29 486.142,312.471 478.848,307.565 471.448,302.588 463.965,297.554 456.422,292.481 448.844,287.383 441.254,282.278 433.675,277.181 \n",
       "  426.132,272.107 418.649,267.074 411.249,262.096 403.955,257.191 396.791,252.372 389.778,247.655 382.94,243.055 376.296,238.586 369.869,234.264 363.679,230.1 \n",
       "  357.744,226.108 352.085,222.301 346.717,218.691 341.66,215.289 336.927,212.106 332.535,209.152 328.496,206.435 324.825,203.966 321.531,201.751 318.627,199.797 \n",
       "  316.12,198.111 314.018,196.697 312.329,195.561 311.058,194.706 310.208,194.134 309.783,193.848 \n",
       "  \"/>\n",
       "<polygon clip-path=\"url(#clip00)\" points=\"\n",
       "489.799,62.931 562.315,62.931 562.315,32.691 489.799,32.691 \n",
       "  \" fill=\"#ffffff\" fill-opacity=\"1\"/>\n",
       "<polyline clip-path=\"url(#clip00)\" style=\"stroke:#000000; stroke-width:1; stroke-opacity:1; fill:none\" points=\"\n",
       "  489.799,62.931 562.315,62.931 562.315,32.691 489.799,32.691 489.799,62.931 \n",
       "  \"/>\n",
       "<polyline clip-path=\"url(#clip00)\" style=\"stroke:#009af9; stroke-width:1; stroke-opacity:1; fill:none\" points=\"\n",
       "  495.799,47.811 531.799,47.811 \n",
       "  \"/>\n",
       "<g clip-path=\"url(#clip00)\">\n",
       "<text style=\"fill:#000000; fill-opacity:1; font-family:Arial,Helvetica Neue,Helvetica,sans-serif; font-size:12; text-anchor:start;\" transform=\"rotate(0, 537.799, 52.311)\" x=\"537.799\" y=\"52.311\">y1</text>\n",
       "</g>\n",
       "</svg>\n"
      ]
     },
     "execution_count": 67,
     "metadata": {},
     "output_type": "execute_result"
    }
   ],
   "source": [
    "Γ = Segment(0, 2.5exp(im*π/6))   ∪ \n",
    "    Segment(0, 2.5exp(5im*π/6))  ∪\n",
    "    Segment(0, 2.5exp(-5im*π/6)) ∪ \n",
    "    Segment(0, 2.5exp(-im*π/6))\n",
    "\n",
    "plot(Γ)"
   ]
  },
  {
   "cell_type": "markdown",
   "metadata": {},
   "source": [
    "We now define the jump:"
   ]
  },
  {
   "cell_type": "code",
   "execution_count": 71,
   "metadata": {},
   "outputs": [],
   "source": [
    "s₁ = im\n",
    "s₃ = -im\n",
    "\n",
    "G = Fun( z -> if angle(z) ≈ π/6\n",
    "                    [1                 0; \n",
    "                     s₁*exp(8im/3*z^3) 1]\n",
    "                elseif angle(z) ≈ 5π/6\n",
    "                    [1                 0; \n",
    "                     s₃*exp(8im/3*z^3) 1]\n",
    "                elseif angle(z) ≈ -π/6\n",
    "                    [1                -s₃*exp(-8im/3*z^3); \n",
    "                     0                 1]\n",
    "                elseif angle(z) ≈ -5π/6\n",
    "                    [1                -s₁*exp(-8im/3*z^3); \n",
    "                     0                 1]\n",
    "                end\n",
    "                    , Γ);"
   ]
  },
  {
   "cell_type": "markdown",
   "metadata": {},
   "source": [
    "We can now solve the Riemann–Hilbert problem. The default is to solve $\\Phi_+ = G \\Phi_-$, so we transpose twice:"
   ]
  },
  {
   "cell_type": "code",
   "execution_count": 72,
   "metadata": {
    "collapsed": true
   },
   "outputs": [],
   "source": [
    "Φ = rhsolve(G.', 800).';"
   ]
  },
  {
   "cell_type": "code",
   "execution_count": 73,
   "metadata": {},
   "outputs": [
    {
     "data": {
      "text/plain": [
       "2×2 Array{Complex{Float64},2}:\n",
       "         1.0-0.000345453im  -0.00183531+6.75051e-6im \n",
       " -0.00183531-6.75051e-6im           1.0+0.000345453im"
      ]
     },
     "execution_count": 73,
     "metadata": {},
     "output_type": "execute_result"
    }
   ],
   "source": [
    "Φ(100.0)"
   ]
  },
  {
   "cell_type": "code",
   "execution_count": 5,
   "metadata": {},
   "outputs": [
    {
     "data": {
      "image/png": "[encoded data removed]",
      "text/plain": [
       "200×200 Array{RGB{Float64},2}:\n",
       " RGB{Float64}(1.0,0.801336,0.0)  …  RGB{Float64}(0.0,1.0,0.193656)\n",
       " RGB{Float64}(1.0,0.791319,0.0)     RGB{Float64}(0.0,1.0,0.203673)\n",
       " RGB{Float64}(1.0,0.791319,0.0)     RGB{Float64}(0.0,1.0,0.203673)\n",
       " RGB{Float64}(1.0,0.781302,0.0)     RGB{Float64}(0.0,1.0,0.213689)\n",
       " RGB{Float64}(1.0,0.781302,0.0)     RGB{Float64}(0.0,1.0,0.213689)\n",
       " RGB{Float64}(1.0,0.781302,0.0)  …  RGB{Float64}(0.0,1.0,0.213689)\n",
       " RGB{Float64}(1.0,0.771285,0.0)     RGB{Float64}(0.0,1.0,0.223706)\n",
       " RGB{Float64}(1.0,0.771285,0.0)     RGB{Float64}(0.0,1.0,0.223706)\n",
       " RGB{Float64}(1.0,0.761269,0.0)     RGB{Float64}(0.0,1.0,0.233723)\n",
       " RGB{Float64}(1.0,0.761269,0.0)     RGB{Float64}(0.0,1.0,0.233723)\n",
       " RGB{Float64}(1.0,0.751252,0.0)  …  RGB{Float64}(0.0,1.0,0.24374) \n",
       " RGB{Float64}(1.0,0.751252,0.0)     RGB{Float64}(0.0,1.0,0.24374) \n",
       " RGB{Float64}(1.0,0.741235,0.0)     RGB{Float64}(0.0,1.0,0.253756)\n",
       " ⋮                               ⋱                                \n",
       " RGB{Float64}(1.0,0.0,0.641068)     RGB{Float64}(0.0,0.353923,1.0)\n",
       " RGB{Float64}(1.0,0.0,0.641068)     RGB{Float64}(0.0,0.353923,1.0)\n",
       " RGB{Float64}(1.0,0.0,0.651085)  …  RGB{Float64}(0.0,0.343907,1.0)\n",
       " RGB{Float64}(1.0,0.0,0.651085)     RGB{Float64}(0.0,0.343907,1.0)\n",
       " RGB{Float64}(1.0,0.0,0.661102)     RGB{Float64}(0.0,0.33389,1.0) \n",
       " RGB{Float64}(1.0,0.0,0.671119)     RGB{Float64}(0.0,0.323873,1.0)\n",
       " RGB{Float64}(1.0,0.0,0.671119)     RGB{Float64}(0.0,0.323873,1.0)\n",
       " RGB{Float64}(1.0,0.0,0.681135)  …  RGB{Float64}(0.0,0.313856,1.0)\n",
       " RGB{Float64}(1.0,0.0,0.681135)     RGB{Float64}(0.0,0.313856,1.0)\n",
       " RGB{Float64}(1.0,0.0,0.691152)     RGB{Float64}(0.0,0.30384,1.0) \n",
       " RGB{Float64}(1.0,0.0,0.691152)     RGB{Float64}(0.0,0.30384,1.0) \n",
       " RGB{Float64}(1.0,0.0,0.701169)     RGB{Float64}(0.0,0.293823,1.0)"
      ]
     },
     "execution_count": 5,
     "metadata": {},
     "output_type": "execute_result"
    }
   ],
   "source": [
    "xx = linspace(-3.5,3.5,200)\n",
    "Z = Φ[1,2].(xx' .+ im.*xx)\n",
    "portrait(Z)"
   ]
  },
  {
   "cell_type": "code",
   "execution_count": 78,
   "metadata": {},
   "outputs": [
    {
     "data": {
      "text/plain": [
       "4.4191721953081e-16"
      ]
     },
     "execution_count": 78,
     "metadata": {},
     "output_type": "execute_result"
    }
   ],
   "source": [
    "ζ = exp(im*π/6)\n",
    "Φ(ζ*⁺) - Φ(ζ*⁻)*G(ζ)|>norm"
   ]
  },
  {
   "cell_type": "markdown",
   "metadata": {},
   "source": [
    "To recover Painleve II, we actually want the limit:"
   ]
  },
  {
   "cell_type": "code",
   "execution_count": 81,
   "metadata": {},
   "outputs": [
    {
     "data": {
      "text/plain": [
       "2×2 Array{Complex{Float64},2}:\n",
       "   10000.0-0.0345457im   -0.183531+6.75028e-6im\n",
       " -0.183531-6.75028e-6im    10000.0+0.0345457im "
      ]
     },
     "execution_count": 81,
     "metadata": {},
     "output_type": "execute_result"
    }
   ],
   "source": [
    "10000.0Φ(10000.0)"
   ]
  },
  {
   "cell_type": "code",
   "execution_count": 82,
   "metadata": {},
   "outputs": [
    {
     "data": {
      "text/plain": [
       "-0.36706155154807807 + 2.220446049250313e-16im"
      ]
     },
     "execution_count": 82,
     "metadata": {},
     "output_type": "execute_result"
    }
   ],
   "source": [
    "z = Fun(ℂ)\n",
    "2(z*Φ[1,2])(Inf)"
   ]
  },
  {
   "cell_type": "markdown",
   "metadata": {},
   "source": [
    "## Stieltjes transforms, Cauchy transforms, Riemann–Hilbert problems and singular integral equations\n",
    "\n",
    "\n",
    "The Stieltjes transform is defined via\n",
    "$$\n",
    "    {\\cal S}_\\Gamma f(z) = \\int_\\Gamma {f(\\zeta) \\over z - \\zeta} {\\rm d} \\zeta\n",
    "$$\n",
    "And the Cauchy transform is\n",
    "$$\n",
    "    {\\cal C}_\\Gamma f(z) = -{1 \\over 2 \\pi {\\rm i}} {\\cal S}_\\Gamma(z)\n",
    "$$\n",
    "\n",
    "The solution is given by\n",
    "$$\n",
    "\\Phi(z) = I + {\\cal S}_\\Gamma U(z)\n",
    "$$ for some $U$ defined on $\\Gamma$:"
   ]
  },
  {
   "cell_type": "code",
   "execution_count": 85,
   "metadata": {},
   "outputs": [
    {
     "data": {
      "text/html": [
       "<?xml version=\"1.0\" encoding=\"utf-8\"?>\n",
       "<svg xmlns=\"http://www.w3.org/2000/svg\" xmlns:xlink=\"http://www.w3.org/1999/xlink\" width=\"600\" height=\"400\" viewBox=\"0 0 600 400\">\n",
       "<defs>\n",
       "  <clipPath id=\"clip00\">\n",
       "    <rect x=\"0\" y=\"0\" width=\"600\" height=\"400\"/>\n",
       "  </clipPath>\n",
       "</defs>\n",
       "<polygon clip-path=\"url(#clip00)\" points=\"\n",
       "0,400 600,400 600,0 0,0 \n",
       "  \" fill=\"#ffffff\" fill-opacity=\"1\"/>\n",
       "<defs>\n",
       "  <clipPath id=\"clip01\">\n",
       "    <rect x=\"120\" y=\"0\" width=\"421\" height=\"400\"/>\n",
       "  </clipPath>\n",
       "</defs>\n",
       "<polygon clip-path=\"url(#clip00)\" points=\"\n",
       "39.1436,375.813 580.315,375.813 580.315,11.811 39.1436,11.811 \n",
       "  \" fill=\"#ffffff\" fill-opacity=\"1\"/>\n",
       "<defs>\n",
       "  <clipPath id=\"clip02\">\n",
       "    <rect x=\"39\" y=\"11\" width=\"542\" height=\"365\"/>\n",
       "  </clipPath>\n",
       "</defs>\n",
       "<polyline clip-path=\"url(#clip02)\" style=\"stroke:#000000; stroke-width:0.5; stroke-opacity:0.1; fill:none\" points=\"\n",
       "  59.7238,370.353 59.7238,17.2711 \n",
       "  \"/>\n",
       "<polyline clip-path=\"url(#clip02)\" style=\"stroke:#000000; stroke-width:0.5; stroke-opacity:0.1; fill:none\" points=\"\n",
       "  184.727,370.353 184.727,17.2711 \n",
       "  \"/>\n",
       "<polyline clip-path=\"url(#clip02)\" style=\"stroke:#000000; stroke-width:0.5; stroke-opacity:0.1; fill:none\" points=\"\n",
       "  309.729,370.353 309.729,17.2711 \n",
       "  \"/>\n",
       "<polyline clip-path=\"url(#clip02)\" style=\"stroke:#000000; stroke-width:0.5; stroke-opacity:0.1; fill:none\" points=\"\n",
       "  434.732,370.353 434.732,17.2711 \n",
       "  \"/>\n",
       "<polyline clip-path=\"url(#clip02)\" style=\"stroke:#000000; stroke-width:0.5; stroke-opacity:0.1; fill:none\" points=\"\n",
       "  559.735,370.353 559.735,17.2711 \n",
       "  \"/>\n",
       "<polyline clip-path=\"url(#clip02)\" style=\"stroke:#000000; stroke-width:0.5; stroke-opacity:0.1; fill:none\" points=\"\n",
       "  47.2612,339.442 572.197,339.442 \n",
       "  \"/>\n",
       "<polyline clip-path=\"url(#clip02)\" style=\"stroke:#000000; stroke-width:0.5; stroke-opacity:0.1; fill:none\" points=\"\n",
       "  47.2612,266.627 572.197,266.627 \n",
       "  \"/>\n",
       "<polyline clip-path=\"url(#clip02)\" style=\"stroke:#000000; stroke-width:0.5; stroke-opacity:0.1; fill:none\" points=\"\n",
       "  47.2612,193.812 572.197,193.812 \n",
       "  \"/>\n",
       "<polyline clip-path=\"url(#clip02)\" style=\"stroke:#000000; stroke-width:0.5; stroke-opacity:0.1; fill:none\" points=\"\n",
       "  47.2612,120.997 572.197,120.997 \n",
       "  \"/>\n",
       "<polyline clip-path=\"url(#clip02)\" style=\"stroke:#000000; stroke-width:0.5; stroke-opacity:0.1; fill:none\" points=\"\n",
       "  47.2612,48.1826 572.197,48.1826 \n",
       "  \"/>\n",
       "<polyline clip-path=\"url(#clip00)\" style=\"stroke:#000000; stroke-width:1; stroke-opacity:1; fill:none\" points=\"\n",
       "  39.1436,375.813 580.315,375.813 \n",
       "  \"/>\n",
       "<polyline clip-path=\"url(#clip00)\" style=\"stroke:#000000; stroke-width:1; stroke-opacity:1; fill:none\" points=\"\n",
       "  59.7238,375.813 59.7238,370.353 \n",
       "  \"/>\n",
       "<polyline clip-path=\"url(#clip00)\" style=\"stroke:#000000; stroke-width:1; stroke-opacity:1; fill:none\" points=\"\n",
       "  184.727,375.813 184.727,370.353 \n",
       "  \"/>\n",
       "<polyline clip-path=\"url(#clip00)\" style=\"stroke:#000000; stroke-width:1; stroke-opacity:1; fill:none\" points=\"\n",
       "  309.729,375.813 309.729,370.353 \n",
       "  \"/>\n",
       "<polyline clip-path=\"url(#clip00)\" style=\"stroke:#000000; stroke-width:1; stroke-opacity:1; fill:none\" points=\"\n",
       "  434.732,375.813 434.732,370.353 \n",
       "  \"/>\n",
       "<polyline clip-path=\"url(#clip00)\" style=\"stroke:#000000; stroke-width:1; stroke-opacity:1; fill:none\" points=\"\n",
       "  559.735,375.813 559.735,370.353 \n",
       "  \"/>\n",
       "<polyline clip-path=\"url(#clip00)\" style=\"stroke:#000000; stroke-width:1; stroke-opacity:1; fill:none\" points=\"\n",
       "  39.1436,375.813 39.1436,11.811 \n",
       "  \"/>\n",
       "<polyline clip-path=\"url(#clip00)\" style=\"stroke:#000000; stroke-width:1; stroke-opacity:1; fill:none\" points=\"\n",
       "  39.1436,339.442 47.2612,339.442 \n",
       "  \"/>\n",
       "<polyline clip-path=\"url(#clip00)\" style=\"stroke:#000000; stroke-width:1; stroke-opacity:1; fill:none\" points=\"\n",
       "  39.1436,266.627 47.2612,266.627 \n",
       "  \"/>\n",
       "<polyline clip-path=\"url(#clip00)\" style=\"stroke:#000000; stroke-width:1; stroke-opacity:1; fill:none\" points=\"\n",
       "  39.1436,193.812 47.2612,193.812 \n",
       "  \"/>\n",
       "<polyline clip-path=\"url(#clip00)\" style=\"stroke:#000000; stroke-width:1; stroke-opacity:1; fill:none\" points=\"\n",
       "  39.1436,120.997 47.2612,120.997 \n",
       "  \"/>\n",
       "<polyline clip-path=\"url(#clip00)\" style=\"stroke:#000000; stroke-width:1; stroke-opacity:1; fill:none\" points=\"\n",
       "  39.1436,48.1826 47.2612,48.1826 \n",
       "  \"/>\n",
       "<g clip-path=\"url(#clip00)\">\n",
       "<text style=\"fill:#000000; fill-opacity:1; font-family:Arial,Helvetica Neue,Helvetica,sans-serif; font-size:12; text-anchor:middle;\" transform=\"rotate(0, 59.7238, 389.613)\" x=\"59.7238\" y=\"389.613\">-2</text>\n",
       "</g>\n",
       "<g clip-path=\"url(#clip00)\">\n",
       "<text style=\"fill:#000000; fill-opacity:1; font-family:Arial,Helvetica Neue,Helvetica,sans-serif; font-size:12; text-anchor:middle;\" transform=\"rotate(0, 184.727, 389.613)\" x=\"184.727\" y=\"389.613\">-1</text>\n",
       "</g>\n",
       "<g clip-path=\"url(#clip00)\">\n",
       "<text style=\"fill:#000000; fill-opacity:1; font-family:Arial,Helvetica Neue,Helvetica,sans-serif; font-size:12; text-anchor:middle;\" transform=\"rotate(0, 309.729, 389.613)\" x=\"309.729\" y=\"389.613\">0</text>\n",
       "</g>\n",
       "<g clip-path=\"url(#clip00)\">\n",
       "<text style=\"fill:#000000; fill-opacity:1; font-family:Arial,Helvetica Neue,Helvetica,sans-serif; font-size:12; text-anchor:middle;\" transform=\"rotate(0, 434.732, 389.613)\" x=\"434.732\" y=\"389.613\">1</text>\n",
       "</g>\n",
       "<g clip-path=\"url(#clip00)\">\n",
       "<text style=\"fill:#000000; fill-opacity:1; font-family:Arial,Helvetica Neue,Helvetica,sans-serif; font-size:12; text-anchor:middle;\" transform=\"rotate(0, 559.735, 389.613)\" x=\"559.735\" y=\"389.613\">2</text>\n",
       "</g>\n",
       "<g clip-path=\"url(#clip00)\">\n",
       "<text style=\"fill:#000000; fill-opacity:1; font-family:Arial,Helvetica Neue,Helvetica,sans-serif; font-size:12; text-anchor:end;\" transform=\"rotate(0, 33.1436, 343.942)\" x=\"33.1436\" y=\"343.942\">-1.0</text>\n",
       "</g>\n",
       "<g clip-path=\"url(#clip00)\">\n",
       "<text style=\"fill:#000000; fill-opacity:1; font-family:Arial,Helvetica Neue,Helvetica,sans-serif; font-size:12; text-anchor:end;\" transform=\"rotate(0, 33.1436, 271.127)\" x=\"33.1436\" y=\"271.127\">-0.5</text>\n",
       "</g>\n",
       "<g clip-path=\"url(#clip00)\">\n",
       "<text style=\"fill:#000000; fill-opacity:1; font-family:Arial,Helvetica Neue,Helvetica,sans-serif; font-size:12; text-anchor:end;\" transform=\"rotate(0, 33.1436, 198.312)\" x=\"33.1436\" y=\"198.312\">0.0</text>\n",
       "</g>\n",
       "<g clip-path=\"url(#clip00)\">\n",
       "<text style=\"fill:#000000; fill-opacity:1; font-family:Arial,Helvetica Neue,Helvetica,sans-serif; font-size:12; text-anchor:end;\" transform=\"rotate(0, 33.1436, 125.497)\" x=\"33.1436\" y=\"125.497\">0.5</text>\n",
       "</g>\n",
       "<g clip-path=\"url(#clip00)\">\n",
       "<text style=\"fill:#000000; fill-opacity:1; font-family:Arial,Helvetica Neue,Helvetica,sans-serif; font-size:12; text-anchor:end;\" transform=\"rotate(0, 33.1436, 52.6826)\" x=\"33.1436\" y=\"52.6826\">1.0</text>\n",
       "</g>\n",
       "<polyline clip-path=\"url(#clip02)\" style=\"stroke:#009af9; stroke-width:1; stroke-opacity:1; fill:none\" points=\"\n",
       "  580.315,11.811 579.889,12.0973 579.04,12.6689 577.768,13.5241 576.079,14.6602 573.978,16.0736 571.471,17.7598 568.566,19.7136 565.273,21.9287 561.601,24.3983 \n",
       "  557.563,27.1146 553.17,30.069 548.438,33.2522 543.38,36.6542 538.013,40.2643 532.353,44.0711 526.419,48.0627 520.228,52.2266 513.801,56.5495 507.158,61.0179 \n",
       "  500.319,65.6177 493.307,70.3346 486.142,75.1535 478.848,80.0594 471.448,85.0369 463.965,90.0702 456.422,95.1436 448.844,100.241 441.254,105.346 433.675,110.444 \n",
       "  426.132,115.517 418.649,120.551 411.249,125.528 403.955,130.434 396.791,135.253 389.778,139.97 382.94,144.57 376.296,149.038 369.869,153.361 363.679,157.525 \n",
       "  357.744,161.516 352.085,165.323 346.717,168.933 341.66,172.335 336.927,175.518 332.535,178.473 328.496,181.189 324.825,183.659 321.531,185.874 318.627,187.828 \n",
       "  316.12,189.514 314.018,190.927 312.329,192.063 311.058,192.919 310.208,193.49 309.783,193.776 \n",
       "  \"/>\n",
       "<polyline clip-path=\"url(#clip02)\" style=\"stroke:#009af9; stroke-width:1; stroke-opacity:1; fill:none\" points=\"\n",
       "  39.1436,11.811 39.5692,12.0973 40.419,12.6689 41.6905,13.5241 43.3795,14.6602 45.4808,16.0736 47.9878,17.7598 50.8925,19.7136 54.1858,21.9287 57.8575,24.3983 \n",
       "  61.8958,27.1146 66.2881,30.069 71.0207,33.2522 76.0785,36.6542 81.4458,40.2643 87.1055,44.0711 93.0399,48.0627 99.2304,52.2266 105.657,56.5495 112.301,61.0179 \n",
       "  119.139,65.6177 126.152,70.3346 133.316,75.1535 140.61,80.0594 148.01,85.0369 155.493,90.0702 163.036,95.1436 170.615,100.241 178.205,105.346 185.783,110.444 \n",
       "  193.326,115.517 200.809,120.551 208.209,125.528 215.503,130.434 222.668,135.253 229.68,139.97 236.519,144.57 243.162,149.038 249.589,153.361 255.78,157.525 \n",
       "  261.714,161.516 267.374,165.323 272.741,168.933 277.799,172.335 282.531,175.518 286.924,178.473 290.962,181.189 294.634,183.659 297.927,185.874 300.832,187.828 \n",
       "  303.339,189.514 305.44,190.927 307.129,192.063 308.401,192.919 309.25,193.49 309.676,193.776 \n",
       "  \"/>\n",
       "<polyline clip-path=\"url(#clip02)\" style=\"stroke:#009af9; stroke-width:1; stroke-opacity:1; fill:none\" points=\"\n",
       "  39.1436,375.813 39.5692,375.527 40.419,374.956 41.6905,374.1 43.3795,372.964 45.4808,371.551 47.9878,369.865 50.8925,367.911 54.1858,365.696 57.8575,363.226 \n",
       "  61.8958,360.51 66.2881,357.555 71.0207,354.372 76.0785,350.97 81.4458,347.36 87.1055,343.553 93.0399,339.562 99.2304,335.398 105.657,331.075 112.301,326.607 \n",
       "  119.139,322.007 126.152,317.29 133.316,312.471 140.61,307.565 148.01,302.588 155.493,297.554 163.036,292.481 170.615,287.383 178.205,282.278 185.783,277.181 \n",
       "  193.326,272.107 200.809,267.074 208.209,262.096 215.503,257.191 222.668,252.372 229.68,247.655 236.519,243.055 243.162,238.586 249.589,234.264 255.78,230.1 \n",
       "  261.714,226.108 267.374,222.301 272.741,218.691 277.799,215.289 282.531,212.106 286.924,209.152 290.962,206.435 294.634,203.966 297.927,201.751 300.832,199.797 \n",
       "  303.339,198.111 305.44,196.697 307.129,195.561 308.401,194.706 309.25,194.134 309.676,193.848 \n",
       "  \"/>\n",
       "<polyline clip-path=\"url(#clip02)\" style=\"stroke:#009af9; stroke-width:1; stroke-opacity:1; fill:none\" points=\"\n",
       "  580.315,375.813 579.889,375.527 579.04,374.956 577.768,374.1 576.079,372.964 573.978,371.551 571.471,369.865 568.566,367.911 565.273,365.696 561.601,363.226 \n",
       "  557.563,360.51 553.17,357.555 548.438,354.372 543.38,350.97 538.013,347.36 532.353,343.553 526.419,339.562 520.228,335.398 513.801,331.075 507.158,326.607 \n",
       "  500.319,322.007 493.307,317.29 486.142,312.471 478.848,307.565 471.448,302.588 463.965,297.554 456.422,292.481 448.844,287.383 441.254,282.278 433.675,277.181 \n",
       "  426.132,272.107 418.649,267.074 411.249,262.096 403.955,257.191 396.791,252.372 389.778,247.655 382.94,243.055 376.296,238.586 369.869,234.264 363.679,230.1 \n",
       "  357.744,226.108 352.085,222.301 346.717,218.691 341.66,215.289 336.927,212.106 332.535,209.152 328.496,206.435 324.825,203.966 321.531,201.751 318.627,199.797 \n",
       "  316.12,198.111 314.018,196.697 312.329,195.561 311.058,194.706 310.208,194.134 309.783,193.848 \n",
       "  \"/>\n",
       "<polygon clip-path=\"url(#clip00)\" points=\"\n",
       "489.799,62.931 562.315,62.931 562.315,32.691 489.799,32.691 \n",
       "  \" fill=\"#ffffff\" fill-opacity=\"1\"/>\n",
       "<polyline clip-path=\"url(#clip00)\" style=\"stroke:#000000; stroke-width:1; stroke-opacity:1; fill:none\" points=\"\n",
       "  489.799,62.931 562.315,62.931 562.315,32.691 489.799,32.691 489.799,62.931 \n",
       "  \"/>\n",
       "<polyline clip-path=\"url(#clip00)\" style=\"stroke:#009af9; stroke-width:1; stroke-opacity:1; fill:none\" points=\"\n",
       "  495.799,47.811 531.799,47.811 \n",
       "  \"/>\n",
       "<g clip-path=\"url(#clip00)\">\n",
       "<text style=\"fill:#000000; fill-opacity:1; font-family:Arial,Helvetica Neue,Helvetica,sans-serif; font-size:12; text-anchor:start;\" transform=\"rotate(0, 537.799, 52.311)\" x=\"537.799\" y=\"52.311\">y1</text>\n",
       "</g>\n",
       "</svg>\n"
      ]
     },
     "execution_count": 85,
     "metadata": {},
     "output_type": "execute_result"
    }
   ],
   "source": [
    "U = istieltjes(Φ)\n",
    "plot(domain(U))"
   ]
  },
  {
   "cell_type": "code",
   "execution_count": 87,
   "metadata": {},
   "outputs": [
    {
     "data": {
      "text/plain": [
       "true"
      ]
     },
     "execution_count": 87,
     "metadata": {},
     "output_type": "execute_result"
    }
   ],
   "source": [
    "I + stieltjes(U,10.0) == Φ(10.0)"
   ]
  },
  {
   "cell_type": "markdown",
   "metadata": {},
   "source": [
    "Thus we want to solve:"
   ]
  },
  {
   "cell_type": "code",
   "execution_count": 88,
   "metadata": {},
   "outputs": [
    {
     "data": {
      "text/plain": [
       "true"
      ]
     },
     "execution_count": 88,
     "metadata": {},
     "output_type": "execute_result"
    }
   ],
   "source": [
    "Φ(ζ*⁺) ≈ Φ(ζ*⁻)*G(ζ)\n",
    "I + stieltjes(U,ζ*⁺) ≈ (I + stieltjes(U,ζ*⁻))*G(ζ)\n",
    "stieltjes(U,ζ*⁺) - stieltjes(U,ζ*⁻)*G(ζ) ≈ G(ζ)-I\n",
    "V = U*(-2π*im)\n",
    "cauchy(V,ζ*⁺) - cauchy(V,ζ*⁻)*G(ζ) ≈ G(ζ)-I"
   ]
  },
  {
   "cell_type": "markdown",
   "metadata": {},
   "source": [
    "We also have Plemelj that tells us ${\\cal C}^+ -{\\cal C^-} = I$, this changes (simplifies?) the equation to:"
   ]
  },
  {
   "cell_type": "code",
   "execution_count": 89,
   "metadata": {},
   "outputs": [
    {
     "data": {
      "text/plain": [
       "true"
      ]
     },
     "execution_count": 89,
     "metadata": {},
     "output_type": "execute_result"
    }
   ],
   "source": [
    "V(ζ) + cauchy(V,ζ*⁻) - cauchy(V,ζ*⁻)*G(ζ) ≈ G(ζ)-I\n",
    "V(ζ)  - cauchy(V,ζ*⁻)*(G(ζ)-I) ≈ G(ζ)-I"
   ]
  },
  {
   "cell_type": "markdown",
   "metadata": {
    "collapsed": true
   },
   "source": [
    "## Stieltjes transforms and OPs\n",
    "\n",
    "The Stieltjes transform of weighted orthogonal polynomials \n",
    "satisfy the same recurrence as OPs themselves. \n",
    "\n",
    "We need to calculate Stieltjes transforms of OPs:"
   ]
  },
  {
   "cell_type": "code",
   "execution_count": 90,
   "metadata": {},
   "outputs": [
    {
     "data": {
      "image/png": "[encoded data removed]",
      "text/plain": [
       "200×200 Array{RGB{Float64},2}:\n",
       " RGB{Float64}(0.69783,0.0,1.0)   …  RGB{Float64}(0.69783,1.0,0.0) \n",
       " RGB{Float64}(0.66778,0.0,1.0)      RGB{Float64}(0.66778,1.0,0.0) \n",
       " RGB{Float64}(0.63773,0.0,1.0)      RGB{Float64}(0.63773,1.0,0.0) \n",
       " RGB{Float64}(0.617696,0.0,1.0)     RGB{Float64}(0.617696,1.0,0.0)\n",
       " RGB{Float64}(0.587646,0.0,1.0)     RGB{Float64}(0.587646,1.0,0.0)\n",
       " RGB{Float64}(0.557596,0.0,1.0)  …  RGB{Float64}(0.557596,1.0,0.0)\n",
       " RGB{Float64}(0.527546,0.0,1.0)     RGB{Float64}(0.527546,1.0,0.0)\n",
       " RGB{Float64}(0.497496,0.0,1.0)     RGB{Float64}(0.497496,1.0,0.0)\n",
       " RGB{Float64}(0.467446,0.0,1.0)     RGB{Float64}(0.467446,1.0,0.0)\n",
       " RGB{Float64}(0.447412,0.0,1.0)     RGB{Float64}(0.447412,1.0,0.0)\n",
       " RGB{Float64}(0.417362,0.0,1.0)  …  RGB{Float64}(0.417362,1.0,0.0)\n",
       " RGB{Float64}(0.387312,0.0,1.0)     RGB{Float64}(0.387312,1.0,0.0)\n",
       " RGB{Float64}(0.357262,0.0,1.0)     RGB{Float64}(0.357262,1.0,0.0)\n",
       " ⋮                               ⋱                                \n",
       " RGB{Float64}(0.387312,1.0,0.0)     RGB{Float64}(0.387312,0.0,1.0)\n",
       " RGB{Float64}(0.417362,1.0,0.0)     RGB{Float64}(0.417362,0.0,1.0)\n",
       " RGB{Float64}(0.447412,1.0,0.0)  …  RGB{Float64}(0.447412,0.0,1.0)\n",
       " RGB{Float64}(0.467446,1.0,0.0)     RGB{Float64}(0.467446,0.0,1.0)\n",
       " RGB{Float64}(0.497496,1.0,0.0)     RGB{Float64}(0.497496,0.0,1.0)\n",
       " RGB{Float64}(0.527546,1.0,0.0)     RGB{Float64}(0.527546,0.0,1.0)\n",
       " RGB{Float64}(0.557596,1.0,0.0)     RGB{Float64}(0.557596,0.0,1.0)\n",
       " RGB{Float64}(0.587646,1.0,0.0)  …  RGB{Float64}(0.587646,0.0,1.0)\n",
       " RGB{Float64}(0.617696,1.0,0.0)     RGB{Float64}(0.617696,0.0,1.0)\n",
       " RGB{Float64}(0.63773,1.0,0.0)      RGB{Float64}(0.63773,0.0,1.0) \n",
       " RGB{Float64}(0.66778,1.0,0.0)      RGB{Float64}(0.66778,0.0,1.0) \n",
       " RGB{Float64}(0.69783,1.0,0.0)      RGB{Float64}(0.69783,0.0,1.0) "
      ]
     },
     "execution_count": 90,
     "metadata": {},
     "output_type": "execute_result"
    }
   ],
   "source": [
    "P = k -> Fun(Legendre(), [zeros(k);1])\n",
    "\n",
    "xx = linspace(-2.,2.,200)\n",
    "Z = xx' .+ im.*xx\n",
    "\n",
    "portrait(stieltjes.(P(5), Z))"
   ]
  },
  {
   "cell_type": "code",
   "execution_count": 92,
   "metadata": {},
   "outputs": [
    {
     "data": {
      "image/png": "[encoded data removed]",
      "text/plain": [
       "200×200 Array{RGB{Float64},2}:\n",
       " RGB{Float64}(0.507513,0.0,1.0)  …  RGB{Float64}(0.497496,1.0,0.0)\n",
       " RGB{Float64}(0.477462,0.0,1.0)     RGB{Float64}(0.477462,1.0,0.0)\n",
       " RGB{Float64}(0.447412,0.0,1.0)     RGB{Float64}(0.447412,1.0,0.0)\n",
       " RGB{Float64}(0.417362,0.0,1.0)     RGB{Float64}(0.417362,1.0,0.0)\n",
       " RGB{Float64}(0.387312,0.0,1.0)     RGB{Float64}(0.387312,1.0,0.0)\n",
       " RGB{Float64}(0.357262,0.0,1.0)  …  RGB{Float64}(0.357262,1.0,0.0)\n",
       " RGB{Float64}(0.327212,0.0,1.0)     RGB{Float64}(0.327212,1.0,0.0)\n",
       " RGB{Float64}(0.297162,0.0,1.0)     RGB{Float64}(0.297162,1.0,0.0)\n",
       " RGB{Float64}(0.267112,0.0,1.0)     RGB{Float64}(0.267112,1.0,0.0)\n",
       " RGB{Float64}(0.227045,0.0,1.0)     RGB{Float64}(0.227045,1.0,0.0)\n",
       " RGB{Float64}(0.196995,0.0,1.0)  …  RGB{Float64}(0.196995,1.0,0.0)\n",
       " RGB{Float64}(0.166945,0.0,1.0)     RGB{Float64}(0.166945,1.0,0.0)\n",
       " RGB{Float64}(0.136895,0.0,1.0)     RGB{Float64}(0.136895,1.0,0.0)\n",
       " ⋮                               ⋱                                \n",
       " RGB{Float64}(0.166945,1.0,0.0)     RGB{Float64}(0.166945,0.0,1.0)\n",
       " RGB{Float64}(0.196995,1.0,0.0)     RGB{Float64}(0.196995,0.0,1.0)\n",
       " RGB{Float64}(0.227045,1.0,0.0)  …  RGB{Float64}(0.227045,0.0,1.0)\n",
       " RGB{Float64}(0.267112,1.0,0.0)     RGB{Float64}(0.267112,0.0,1.0)\n",
       " RGB{Float64}(0.297162,1.0,0.0)     RGB{Float64}(0.297162,0.0,1.0)\n",
       " RGB{Float64}(0.327212,1.0,0.0)     RGB{Float64}(0.327212,0.0,1.0)\n",
       " RGB{Float64}(0.357262,1.0,0.0)     RGB{Float64}(0.357262,0.0,1.0)\n",
       " RGB{Float64}(0.387312,1.0,0.0)  …  RGB{Float64}(0.387312,0.0,1.0)\n",
       " RGB{Float64}(0.417362,1.0,0.0)     RGB{Float64}(0.417362,0.0,1.0)\n",
       " RGB{Float64}(0.447412,1.0,0.0)     RGB{Float64}(0.447412,0.0,1.0)\n",
       " RGB{Float64}(0.477462,1.0,0.0)     RGB{Float64}(0.477462,0.0,1.0)\n",
       " RGB{Float64}(0.497496,1.0,0.0)     RGB{Float64}(0.507513,0.0,1.0)"
      ]
     },
     "execution_count": 92,
     "metadata": {},
     "output_type": "execute_result"
    }
   ],
   "source": [
    "portrait(Z.^(-6))"
   ]
  },
  {
   "cell_type": "markdown",
   "metadata": {},
   "source": [
    "Recall: the Jacobi operator is a tridiagonal operator that encodes multiplication by $x$:"
   ]
  },
  {
   "cell_type": "code",
   "execution_count": 93,
   "metadata": {},
   "outputs": [
    {
     "data": {
      "text/plain": [
       "0.0"
      ]
     },
     "execution_count": 93,
     "metadata": {},
     "output_type": "execute_result"
    }
   ],
   "source": [
    "x = Fun(Legendre())\n",
    "J = Recurrence(Legendre())\n",
    "\n",
    "\n",
    "f = Fun(exp, Legendre())\n",
    "norm(J*f - x*f)"
   ]
  },
  {
   "cell_type": "markdown",
   "metadata": {},
   "source": [
    "The Jacobi operator also encodes the three-term recurrence:"
   ]
  },
  {
   "cell_type": "code",
   "execution_count": 15,
   "metadata": {},
   "outputs": [
    {
     "data": {
      "text/plain": [
       "true"
      ]
     },
     "execution_count": 15,
     "metadata": {},
     "output_type": "execute_result"
    }
   ],
   "source": [
    "n=0\n",
    "x*P(n) ≈ J[n+1,n+1]*P(n) + J[n+2,n+1]*P(n+1)\n",
    "\n",
    "\n",
    "n=1\n",
    "x*P(n) ≈ J[n,n+1]*P(n-1) + J[n+1,n+1]*P(n) + J[n+2,n+1]*P(n+1)\n"
   ]
  },
  {
   "cell_type": "markdown",
   "metadata": {},
   "source": [
    "The Stieltjes transform satisfies the exact same recurrence for $n \\geq 1$:"
   ]
  },
  {
   "cell_type": "code",
   "execution_count": 94,
   "metadata": {},
   "outputs": [
    {
     "data": {
      "text/plain": [
       "true"
      ]
     },
     "execution_count": 94,
     "metadata": {},
     "output_type": "execute_result"
    }
   ],
   "source": [
    "z = 1.0+2.0im\n",
    "w = 1 # in general, the weight corresponding to OP\n",
    "Q = (n,z) -> sum(P(n)*w/(z-x)) # sum means integral\n",
    "\n",
    "n = 1\n",
    "z*Q(n,z) ≈ J[n,n+1]*Q(n-1,z) + J[n+1,n+1]*Q(n,z) + J[n+2,n+1]*Q(n+1,z)"
   ]
  },
  {
   "cell_type": "markdown",
   "metadata": {},
   "source": [
    "But not for $n = 0$:"
   ]
  },
  {
   "cell_type": "code",
   "execution_count": 17,
   "metadata": {},
   "outputs": [
    {
     "data": {
      "text/plain": [
       "false"
      ]
     },
     "execution_count": 17,
     "metadata": {},
     "output_type": "execute_result"
    }
   ],
   "source": [
    "n = 0\n",
    "z*Q(n,z) ≈ J[n+1,n+1]*Q(n,z) + J[n+2,n+1]*Q(n+1,z)"
   ]
  },
  {
   "cell_type": "markdown",
   "metadata": {},
   "source": [
    "But if we know `Q(0,z)` and `Q(1,z)` in closed form (We do!), we can calculate `Q` via recurrence. \n",
    "\n",
    "I like to represent this as a lower triangular operator:"
   ]
  },
  {
   "cell_type": "code",
   "execution_count": 18,
   "metadata": {},
   "outputs": [
    {
     "data": {
      "text/plain": [
       "InterlaceOperator:ApproxFun.SequenceSpace()→3-element ArraySpace:\n",
       " ConstantSpace            \n",
       " ConstantSpace            \n",
       " ApproxFun.SequenceSpace()\n",
       " 1.0       0.0  0.0       0.0       …                                 \n",
       " 0.0       1.0  0.0       0.0                                         \n",
       " 0.333333  0.0  0.666667  0.0                                         \n",
       "           0.4  0.0       0.6          0.0                            \n",
       "                0.428571  0.0          0.0       0.0                  \n",
       "                          0.444444  …  0.0       0.0       0.0        \n",
       "                                       0.0       0.0       0.0       ⋱\n",
       "                                       0.538462  0.0       0.0       ⋱\n",
       "                                       0.0       0.533333  0.0       ⋱\n",
       "                                       0.470588  0.0       0.529412  ⋱\n",
       "                                    …             ⋱         ⋱        ⋱"
      ]
     },
     "execution_count": 18,
     "metadata": {},
     "output_type": "execute_result"
    }
   ],
   "source": [
    "L = z -> [BasisFunctional(1);\n",
    "     BasisFunctional(2);\n",
    "    SpaceOperator((J - z*I).'[2:end,:],ℓ⁰,ℓ⁰)]\n",
    "        \n",
    "L(0)        "
   ]
  },
  {
   "cell_type": "code",
   "execution_count": 19,
   "metadata": {},
   "outputs": [
    {
     "data": {
      "text/plain": [
       "5-element Array{Complex{Float64},1}:\n",
       "     0.346574-0.785398im   \n",
       "   -0.0826301-0.092251im   \n",
       "    -0.020479+0.00643236im \n",
       " -0.000486092+0.00395802im \n",
       "   0.00065551+0.000400938im"
      ]
     },
     "execution_count": 19,
     "metadata": {},
     "output_type": "execute_result"
    }
   ],
   "source": [
    "μ₀ = stieltjes(P(0)*w,z)\n",
    "μ₁ = stieltjes(P(1)*w,z)\n",
    "\n",
    "n = 5\n",
    "u = L(z)[1:n,1:n] \\ [μ₀; μ₁; zeros(n-2)]"
   ]
  },
  {
   "cell_type": "markdown",
   "metadata": {},
   "source": [
    "This works great on or near the interval:"
   ]
  },
  {
   "cell_type": "code",
   "execution_count": 97,
   "metadata": {},
   "outputs": [
    {
     "data": {
      "text/plain": [
       "100-element Array{Complex{Float64},1}:\n",
       "   0.200671-3.14159im  \n",
       "   -1.97993-0.314159im \n",
       "  -0.397325+1.52367im  \n",
       "    1.25373+0.463385im \n",
       "   0.517397-1.06166im  \n",
       "  -0.909856-0.561807im \n",
       "  -0.597972+0.78172im  \n",
       "   0.668825+0.626726im \n",
       "    0.64863-0.566494im \n",
       "  -0.471992-0.664094im \n",
       "  -0.673445+0.383667im \n",
       "   0.300517+0.676967im \n",
       "   0.674924-0.221943im \n",
       "           ⋮           \n",
       "   0.141849+0.226344im \n",
       "   0.238053-0.11784im  \n",
       " -0.0929272-0.247266im \n",
       "  -0.253921+0.067364im \n",
       "  0.0414089+0.257978im \n",
       "   0.259428-0.0153213im\n",
       "  0.0106411-0.258282im \n",
       "   -0.25458-0.0362244im\n",
       "  -0.061181+0.248384im \n",
       "   0.239782+0.0852718im\n",
       "   0.108268-0.228882im \n",
       "  -0.215816-0.129956im "
      ]
     },
     "execution_count": 97,
     "metadata": {},
     "output_type": "execute_result"
    }
   ],
   "source": [
    "z = 0.1+eps()im\n",
    "\n",
    "μ₀ = stieltjes(P(0)*w,z)\n",
    "μ₁ = stieltjes(P(1)*w,z)\n",
    "\n",
    "n = 100\n",
    "u = L(z)[1:n,1:n] \\ [μ₀; μ₁; zeros(n-2)]"
   ]
  },
  {
   "cell_type": "code",
   "execution_count": 98,
   "metadata": {},
   "outputs": [
    {
     "data": {
      "text/plain": [
       "2.7755575615628914e-17 + 1.1102230246251565e-16im"
      ]
     },
     "execution_count": 98,
     "metadata": {},
     "output_type": "execute_result"
    }
   ],
   "source": [
    "stieltjes(P(n-1),z)-u[end]"
   ]
  },
  {
   "cell_type": "markdown",
   "metadata": {},
   "source": [
    "Note this is _much_ better than quadrature:"
   ]
  },
  {
   "cell_type": "code",
   "execution_count": 22,
   "metadata": {},
   "outputs": [
    {
     "name": "stdout",
     "output_type": "stream",
     "text": [
      "  0.000172 seconds (165 allocations: 14.670 KiB)\n",
      "  0.077479 seconds (457.23 k allocations: 56.141 MiB, 33.08% gc time)\n",
      "abs(sum(P(n - 1) / (z - x)) - μ) = 2.204983093081963e-14\n",
      "  0.938067 seconds (1.00 M allocations: 54.327 MiB, 5.27% gc time)\n",
      "abs((quadgk((x->begin  # In[22], line 6:\n",
      "                    (P(n - 1))(x) / (z - x)\n",
      "                end), -1, 1))[1] - μ) = 4.3885418357208767e-16\n"
     ]
    }
   ],
   "source": [
    "z=0.1+0.001im\n",
    "@time μ=stieltjes(P(n-1),z)\n",
    "@time sum(P(n-1)/(z-x))\n",
    "@show abs(sum(P(n-1)/(z-x))-μ)\n",
    "@time quadgk(x->P(n-1)(x)/(z-x),-1,1)\n",
    "@show abs(quadgk(x->P(n-1)(x)/(z-x),-1,1)[1] - μ);"
   ]
  },
  {
   "cell_type": "markdown",
   "metadata": {},
   "source": [
    "Unfortunately, this breaks down for large $z$:"
   ]
  },
  {
   "cell_type": "code",
   "execution_count": 23,
   "metadata": {},
   "outputs": [
    {
     "data": {
      "text/plain": [
       "100-element Array{Float64,1}:\n",
       "     0.0200007  \n",
       "     6.66707e-5 \n",
       "     2.6669e-7  \n",
       "     1.14298e-9 \n",
       "     5.0955e-12 \n",
       "     2.80279e-12\n",
       "     5.09598e-10\n",
       "     9.46372e-8 \n",
       "     1.7744e-5  \n",
       "     0.00335157 \n",
       "     0.636782   \n",
       "   121.564      \n",
       " 23299.2        \n",
       "     ⋮          \n",
       "     6.54713e178\n",
       "     1.30204e181\n",
       "     2.58954e183\n",
       "     5.1505e185 \n",
       "     1.02448e188\n",
       "     2.03789e190\n",
       "     4.05399e192\n",
       "     8.06511e194\n",
       "     1.60458e197\n",
       "     3.19254e199\n",
       "     6.35234e201\n",
       "     1.26402e204"
      ]
     },
     "execution_count": 23,
     "metadata": {},
     "output_type": "execute_result"
    }
   ],
   "source": [
    "z = 100.0\n",
    "\n",
    "μ₀ = stieltjes(P(0)*w,z)\n",
    "μ₁ = stieltjes(P(1)*w,z)\n",
    "\n",
    "n = 100\n",
    "u = L(z)[1:n,1:n] \\ [μ₀; μ₁; zeros(n-2)]"
   ]
  },
  {
   "cell_type": "code",
   "execution_count": 24,
   "metadata": {},
   "outputs": [
    {
     "data": {
      "text/plain": [
       "0.0"
      ]
     },
     "execution_count": 24,
     "metadata": {},
     "output_type": "execute_result"
    }
   ],
   "source": [
    "stieltjes(P(n-1), z)"
   ]
  },
  {
   "cell_type": "markdown",
   "metadata": {},
   "source": [
    "But note that the true stieltjes is in $\\ell^2$:"
   ]
  },
  {
   "cell_type": "code",
   "execution_count": 25,
   "metadata": {},
   "outputs": [
    {
     "data": {
      "text/plain": [
       "0.020000777828880434"
      ]
     },
     "execution_count": 25,
     "metadata": {},
     "output_type": "execute_result"
    }
   ],
   "source": [
    "[stieltjes(P(k), z) for k=0:100] |>norm"
   ]
  },
  {
   "cell_type": "markdown",
   "metadata": {},
   "source": [
    "Thus we can solve it using one boundary condition:"
   ]
  },
  {
   "cell_type": "code",
   "execution_count": 26,
   "metadata": {},
   "outputs": [
    {
     "data": {
      "text/plain": [
       "InterlaceOperator:ApproxFun.SequenceSpace()→2-element ArraySpace:\n",
       " ConstantSpace            \n",
       " ApproxFun.SequenceSpace()\n",
       " 1.0          0.0     0.0          0.0       …                             \n",
       " 0.333333  -100.0     0.666667     0.0                                     \n",
       "              0.4  -100.0          0.6                                     \n",
       "                      0.428571  -100.0                                     \n",
       "                                   0.444444                                \n",
       "                                             …     0.0                     \n",
       "                                                   0.0          0.0        \n",
       "                                                   0.533333     0.0       ⋱\n",
       "                                                -100.0          0.529412  ⋱\n",
       "                                                   0.473684  -100.0       ⋱\n",
       "                                             …                   ⋱        ⋱"
      ]
     },
     "execution_count": 26,
     "metadata": {},
     "output_type": "execute_result"
    }
   ],
   "source": [
    "T = z -> [BasisFunctional(1);\n",
    "    SpaceOperator((J - z*I).'[2:end,:],ℓ⁰,ℓ⁰)]\n",
    "T(z)"
   ]
  },
  {
   "cell_type": "code",
   "execution_count": 105,
   "metadata": {},
   "outputs": [
    {
     "data": {
      "text/plain": [
       "100-element Array{Float64,1}:\n",
       " 0.0200007   \n",
       " 6.66707e-5  \n",
       " 2.6669e-7   \n",
       " 1.14298e-9  \n",
       " 5.08006e-12 \n",
       " 2.30918e-14 \n",
       " 1.0658e-16  \n",
       " 4.97386e-19 \n",
       " 2.3407e-21  \n",
       " 1.10878e-23 \n",
       " 5.28003e-26 \n",
       " 2.5253e-28  \n",
       " 1.21217e-30 \n",
       " ⋮           \n",
       " 6.09287e-206\n",
       " 3.02949e-208\n",
       " 1.50642e-210\n",
       " 7.4911e-213 \n",
       " 3.7254e-215 \n",
       " 1.85278e-217\n",
       " 9.21514e-220\n",
       " 4.58356e-222\n",
       " 2.27996e-224\n",
       " 1.13416e-226\n",
       " 5.64217e-229\n",
       " 2.80691e-231"
      ]
     },
     "execution_count": 105,
     "metadata": {},
     "output_type": "execute_result"
    }
   ],
   "source": [
    "z = 100.0\n",
    "\n",
    "μ₀ = stieltjes(P(0)*w,z)        \n",
    "        \n",
    "n = 100\n",
    "u = T(z)[1:n,1:n] \\ [μ₀;zeros(n-1)]"
   ]
  },
  {
   "cell_type": "code",
   "execution_count": 106,
   "metadata": {},
   "outputs": [
    {
     "data": {
      "text/plain": [
       "5.739713219974347e-23"
      ]
     },
     "execution_count": 106,
     "metadata": {},
     "output_type": "execute_result"
    }
   ],
   "source": [
    "norm(u - [stieltjes(P(k), z) for k=0:n-1])"
   ]
  },
  {
   "cell_type": "markdown",
   "metadata": {},
   "source": [
    "In practice, this can be determined adaptively using adaptive QR or F.W.J. Olver's algorithm (adaptive Gaussian elimination), but that's getting away.\n",
    "\n",
    "Thus we have this algorithm:\n",
    "\n",
    "1. If $z$ is close to $[-1,1]$ (where closed depends on $n$), solve a lower triangular system using forward recurrence.\n",
    "2. If $z$ is far from $[-1,1]$, solve a tridiagonal system using adaptive QR."
   ]
  },
  {
   "cell_type": "markdown",
   "metadata": {},
   "source": [
    "## Dual numbers and \"Log numbers\"\n",
    "\n",
    "We want to capture the behaviour of the singularities to set up a collocation system:"
   ]
  },
  {
   "cell_type": "code",
   "execution_count": 108,
   "metadata": {},
   "outputs": [
    {
     "data": {
      "text/plain": [
       "35.85252983289078"
      ]
     },
     "execution_count": 108,
     "metadata": {},
     "output_type": "execute_result"
    }
   ],
   "source": [
    "f = Fun(exp, -1..1)\n",
    "stieltjes(f, 1.000001)"
   ]
  },
  {
   "cell_type": "code",
   "execution_count": 110,
   "metadata": {},
   "outputs": [
    {
     "data": {
      "text/plain": [
       "35.85249534778163 - 4.269828356622017im"
      ]
     },
     "execution_count": 110,
     "metadata": {},
     "output_type": "execute_result"
    }
   ],
   "source": [
    "stieltjes(f, 1+0.000001im)"
   ]
  },
  {
   "cell_type": "markdown",
   "metadata": {},
   "source": [
    "The value has a \"log part\" which blows up, and a \"finite part\" that depends on the angle of approach. How do we represent this on a computer?\n",
    "\n",
    "For inspiration, we use dual numbers:"
   ]
  },
  {
   "cell_type": "code",
   "execution_count": 31,
   "metadata": {},
   "outputs": [
    {
     "data": {
      "text/plain": [
       "0.5403023058681398 - 1.682941969615793ɛ"
      ]
     },
     "execution_count": 31,
     "metadata": {},
     "output_type": "execute_result"
    }
   ],
   "source": [
    "x = dual(1,2)\n",
    "cos(x)"
   ]
  },
  {
   "cell_type": "code",
   "execution_count": 32,
   "metadata": {},
   "outputs": [
    {
     "data": {
      "text/plain": [
       "(0.5403023058681398, -1.682941969615793)"
      ]
     },
     "execution_count": 32,
     "metadata": {},
     "output_type": "execute_result"
    }
   ],
   "source": [
    "cos(1), -2sin(1)"
   ]
  },
  {
   "cell_type": "code",
   "execution_count": 33,
   "metadata": {},
   "outputs": [
    {
     "data": {
      "text/plain": [
       "0.8575532158463934 + 0.8656973695406469ɛ"
      ]
     },
     "execution_count": 33,
     "metadata": {},
     "output_type": "execute_result"
    }
   ],
   "source": [
    "cos(cos(x))"
   ]
  },
  {
   "cell_type": "code",
   "execution_count": 34,
   "metadata": {},
   "outputs": [
    {
     "data": {
      "text/plain": [
       "(0.8575532158463934, 0.8656973695406469)"
      ]
     },
     "execution_count": 34,
     "metadata": {},
     "output_type": "execute_result"
    }
   ],
   "source": [
    "cos(cos(1)), 2sin(cos(1))*sin(1)"
   ]
  },
  {
   "cell_type": "markdown",
   "metadata": {},
   "source": [
    "This is _not_ numerical differentation: it is numerically stable."
   ]
  },
  {
   "cell_type": "code",
   "execution_count": 35,
   "metadata": {},
   "outputs": [
    {
     "data": {
      "text/plain": [
       "0.16885248872798114 + 0.007397239571120209ɛ"
      ]
     },
     "execution_count": 35,
     "metadata": {},
     "output_type": "execute_result"
    }
   ],
   "source": [
    "# cos^n(x)\n",
    "n = 100\n",
    "ret = sin(x)\n",
    "for k=1:n-1\n",
    "    ret = sin(ret)\n",
    "end\n",
    "ret"
   ]
  },
  {
   "cell_type": "code",
   "execution_count": 36,
   "metadata": {},
   "outputs": [
    {
     "data": {
      "text/plain": [
       "-3.469446951953614e-18"
      ]
     },
     "execution_count": 36,
     "metadata": {},
     "output_type": "execute_result"
    }
   ],
   "source": [
    "dualpart(ret) - 2*0.0036986197855601063"
   ]
  },
  {
   "cell_type": "markdown",
   "metadata": {},
   "source": [
    "The direction can be complex as well:"
   ]
  },
  {
   "cell_type": "code",
   "execution_count": 37,
   "metadata": {},
   "outputs": [
    {
     "data": {
      "text/plain": [
       "0.5403023058681398 - 0.0im + 0.0ɛ - 0.8414709848078965imɛ"
      ]
     },
     "execution_count": 37,
     "metadata": {},
     "output_type": "execute_result"
    }
   ],
   "source": [
    "cos(dual(1.0,im))"
   ]
  },
  {
   "cell_type": "code",
   "execution_count": 38,
   "metadata": {},
   "outputs": [
    {
     "data": {
      "text/plain": [
       "0.0 + 1.0im + 0.5ɛ + 0.0imɛ"
      ]
     },
     "execution_count": 38,
     "metadata": {},
     "output_type": "execute_result"
    }
   ],
   "source": [
    "sqrt(dual(-1.0+0im,im))"
   ]
  },
  {
   "cell_type": "code",
   "execution_count": 39,
   "metadata": {},
   "outputs": [
    {
     "data": {
      "text/plain": [
       "0.0 - 1.0im + 0.5ɛ + 0.0imɛ"
      ]
     },
     "execution_count": 39,
     "metadata": {},
     "output_type": "execute_result"
    }
   ],
   "source": [
    "sqrt(dual(-1.0-0im,-im))"
   ]
  },
  {
   "cell_type": "code",
   "execution_count": 40,
   "metadata": {},
   "outputs": [
    {
     "data": {
      "text/plain": [
       "Dual{Float64}(-Inf,Inf)"
      ]
     },
     "execution_count": 40,
     "metadata": {},
     "output_type": "execute_result"
    }
   ],
   "source": [
    "log(dual(0.0,1.0))"
   ]
  },
  {
   "cell_type": "markdown",
   "metadata": {},
   "source": [
    "We use a dual-like number to annotate a number with a direction. When evaluated on a logarithmic singularity, it returns a \"Log number\", which represents local logarithmic behaviour of a function $f(z)$ by two numbers $a$ and $b$ so that\n",
    "$$\n",
    "f(c + hd) \\sim a \\log h + b\n",
    "$$"
   ]
  },
  {
   "cell_type": "code",
   "execution_count": 111,
   "metadata": {},
   "outputs": [
    {
     "data": {
      "text/plain": [
       "(1.0 + 0.0im)log ε + 0.0 + 0.0im"
      ]
     },
     "execution_count": 111,
     "metadata": {},
     "output_type": "execute_result"
    }
   ],
   "source": [
    "log(RiemannDual(0.0,1.0))"
   ]
  },
  {
   "cell_type": "code",
   "execution_count": 42,
   "metadata": {},
   "outputs": [
    {
     "data": {
      "text/plain": [
       "(1.0 + 0.0im)log ε + 0.0 + 1.5707963267948966im"
      ]
     },
     "execution_count": 42,
     "metadata": {},
     "output_type": "execute_result"
    }
   ],
   "source": [
    "l = log(RiemannDual(0.0,im))"
   ]
  },
  {
   "cell_type": "code",
   "execution_count": 43,
   "metadata": {},
   "outputs": [
    {
     "data": {
      "text/plain": [
       "-11.512925464970229 + 1.5707963267948966im"
      ]
     },
     "execution_count": 43,
     "metadata": {},
     "output_type": "execute_result"
    }
   ],
   "source": [
    "h = 0.00001\n",
    "logpart(l)*log(h) + finitepart(l)"
   ]
  },
  {
   "cell_type": "code",
   "execution_count": 44,
   "metadata": {},
   "outputs": [
    {
     "data": {
      "text/plain": [
       "29.593415861168136 - 4.269867111336779im"
      ]
     },
     "execution_count": 44,
     "metadata": {},
     "output_type": "execute_result"
    }
   ],
   "source": [
    "l = stieltjes(f, RiemannDual(1.0,im))\n",
    "\n",
    "l(h)"
   ]
  },
  {
   "cell_type": "code",
   "execution_count": 45,
   "metadata": {},
   "outputs": [
    {
     "data": {
      "text/plain": [
       "29.593458558151106 - 4.26954215474919im"
      ]
     },
     "execution_count": 45,
     "metadata": {},
     "output_type": "execute_result"
    }
   ],
   "source": [
    "stieltjes(f, 1.0 + im*h)"
   ]
  },
  {
   "cell_type": "markdown",
   "metadata": {},
   "source": [
    "## Zero-sum condition\n",
    "\n",
    "When we have contours meeting at a junction, it's possible for the logarithmic singularities to cancel. This is the case if they satisfy the \"zero-sum condition\": that the values of the limits sum to zero. \n",
    "\n",
    "Here's a simple example of two contours who have 0 as a joint junction point:"
   ]
  },
  {
   "cell_type": "code",
   "execution_count": 46,
   "metadata": {},
   "outputs": [
    {
     "data": {
      "text/html": [
       "<?xml version=\"1.0\" encoding=\"utf-8\"?>\n",
       "<svg xmlns=\"http://www.w3.org/2000/svg\" xmlns:xlink=\"http://www.w3.org/1999/xlink\" width=\"600\" height=\"400\" viewBox=\"0 0 600 400\">\n",
       "<defs>\n",
       "  <clipPath id=\"clip00\">\n",
       "    <rect x=\"0\" y=\"0\" width=\"600\" height=\"400\"/>\n",
       "  </clipPath>\n",
       "</defs>\n",
       "<polygon clip-path=\"url(#clip00)\" points=\"\n",
       "0,400 600,400 600,0 0,0 \n",
       "  \" fill=\"#ffffff\" fill-opacity=\"1\"/>\n",
       "<defs>\n",
       "  <clipPath id=\"clip01\">\n",
       "    <rect x=\"120\" y=\"0\" width=\"421\" height=\"400\"/>\n",
       "  </clipPath>\n",
       "</defs>\n",
       "<polygon clip-path=\"url(#clip00)\" points=\"\n",
       "29.2591,375.813 580.315,375.813 580.315,11.811 29.2591,11.811 \n",
       "  \" fill=\"#ffffff\" fill-opacity=\"1\"/>\n",
       "<defs>\n",
       "  <clipPath id=\"clip02\">\n",
       "    <rect x=\"29\" y=\"11\" width=\"552\" height=\"365\"/>\n",
       "  </clipPath>\n",
       "</defs>\n",
       "<polyline clip-path=\"url(#clip02)\" style=\"stroke:#000000; stroke-width:0.5; stroke-opacity:0.1; fill:none\" points=\"\n",
       "  29.2591,370.353 29.2591,17.2711 \n",
       "  \"/>\n",
       "<polyline clip-path=\"url(#clip02)\" style=\"stroke:#000000; stroke-width:0.5; stroke-opacity:0.1; fill:none\" points=\"\n",
       "  167.023,370.353 167.023,17.2711 \n",
       "  \"/>\n",
       "<polyline clip-path=\"url(#clip02)\" style=\"stroke:#000000; stroke-width:0.5; stroke-opacity:0.1; fill:none\" points=\"\n",
       "  304.787,370.353 304.787,17.2711 \n",
       "  \"/>\n",
       "<polyline clip-path=\"url(#clip02)\" style=\"stroke:#000000; stroke-width:0.5; stroke-opacity:0.1; fill:none\" points=\"\n",
       "  442.551,370.353 442.551,17.2711 \n",
       "  \"/>\n",
       "<polyline clip-path=\"url(#clip02)\" style=\"stroke:#000000; stroke-width:0.5; stroke-opacity:0.1; fill:none\" points=\"\n",
       "  580.315,370.353 580.315,17.2711 \n",
       "  \"/>\n",
       "<polyline clip-path=\"url(#clip02)\" style=\"stroke:#000000; stroke-width:0.5; stroke-opacity:0.1; fill:none\" points=\"\n",
       "  37.525,375.813 572.049,375.813 \n",
       "  \"/>\n",
       "<polyline clip-path=\"url(#clip02)\" style=\"stroke:#000000; stroke-width:0.5; stroke-opacity:0.1; fill:none\" points=\"\n",
       "  37.525,284.813 572.049,284.813 \n",
       "  \"/>\n",
       "<polyline clip-path=\"url(#clip02)\" style=\"stroke:#000000; stroke-width:0.5; stroke-opacity:0.1; fill:none\" points=\"\n",
       "  37.525,193.812 572.049,193.812 \n",
       "  \"/>\n",
       "<polyline clip-path=\"url(#clip02)\" style=\"stroke:#000000; stroke-width:0.5; stroke-opacity:0.1; fill:none\" points=\"\n",
       "  37.525,102.812 572.049,102.812 \n",
       "  \"/>\n",
       "<polyline clip-path=\"url(#clip02)\" style=\"stroke:#000000; stroke-width:0.5; stroke-opacity:0.1; fill:none\" points=\"\n",
       "  37.525,11.811 572.049,11.811 \n",
       "  \"/>\n",
       "<polyline clip-path=\"url(#clip00)\" style=\"stroke:#000000; stroke-width:1; stroke-opacity:1; fill:none\" points=\"\n",
       "  29.2591,375.813 580.315,375.813 \n",
       "  \"/>\n",
       "<polyline clip-path=\"url(#clip00)\" style=\"stroke:#000000; stroke-width:1; stroke-opacity:1; fill:none\" points=\"\n",
       "  29.2591,375.813 29.2591,370.353 \n",
       "  \"/>\n",
       "<polyline clip-path=\"url(#clip00)\" style=\"stroke:#000000; stroke-width:1; stroke-opacity:1; fill:none\" points=\"\n",
       "  167.023,375.813 167.023,370.353 \n",
       "  \"/>\n",
       "<polyline clip-path=\"url(#clip00)\" style=\"stroke:#000000; stroke-width:1; stroke-opacity:1; fill:none\" points=\"\n",
       "  304.787,375.813 304.787,370.353 \n",
       "  \"/>\n",
       "<polyline clip-path=\"url(#clip00)\" style=\"stroke:#000000; stroke-width:1; stroke-opacity:1; fill:none\" points=\"\n",
       "  442.551,375.813 442.551,370.353 \n",
       "  \"/>\n",
       "<polyline clip-path=\"url(#clip00)\" style=\"stroke:#000000; stroke-width:1; stroke-opacity:1; fill:none\" points=\"\n",
       "  580.315,375.813 580.315,370.353 \n",
       "  \"/>\n",
       "<polyline clip-path=\"url(#clip00)\" style=\"stroke:#000000; stroke-width:1; stroke-opacity:1; fill:none\" points=\"\n",
       "  29.2591,375.813 29.2591,11.811 \n",
       "  \"/>\n",
       "<polyline clip-path=\"url(#clip00)\" style=\"stroke:#000000; stroke-width:1; stroke-opacity:1; fill:none\" points=\"\n",
       "  29.2591,375.813 37.525,375.813 \n",
       "  \"/>\n",
       "<polyline clip-path=\"url(#clip00)\" style=\"stroke:#000000; stroke-width:1; stroke-opacity:1; fill:none\" points=\"\n",
       "  29.2591,284.813 37.525,284.813 \n",
       "  \"/>\n",
       "<polyline clip-path=\"url(#clip00)\" style=\"stroke:#000000; stroke-width:1; stroke-opacity:1; fill:none\" points=\"\n",
       "  29.2591,193.812 37.525,193.812 \n",
       "  \"/>\n",
       "<polyline clip-path=\"url(#clip00)\" style=\"stroke:#000000; stroke-width:1; stroke-opacity:1; fill:none\" points=\"\n",
       "  29.2591,102.812 37.525,102.812 \n",
       "  \"/>\n",
       "<polyline clip-path=\"url(#clip00)\" style=\"stroke:#000000; stroke-width:1; stroke-opacity:1; fill:none\" points=\"\n",
       "  29.2591,11.811 37.525,11.811 \n",
       "  \"/>\n",
       "<g clip-path=\"url(#clip00)\">\n",
       "<text style=\"fill:#000000; fill-opacity:1; font-family:Arial,Helvetica Neue,Helvetica,sans-serif; font-size:12; text-anchor:middle;\" transform=\"rotate(0, 29.2591, 389.613)\" x=\"29.2591\" y=\"389.613\">-2</text>\n",
       "</g>\n",
       "<g clip-path=\"url(#clip00)\">\n",
       "<text style=\"fill:#000000; fill-opacity:1; font-family:Arial,Helvetica Neue,Helvetica,sans-serif; font-size:12; text-anchor:middle;\" transform=\"rotate(0, 167.023, 389.613)\" x=\"167.023\" y=\"389.613\">-1</text>\n",
       "</g>\n",
       "<g clip-path=\"url(#clip00)\">\n",
       "<text style=\"fill:#000000; fill-opacity:1; font-family:Arial,Helvetica Neue,Helvetica,sans-serif; font-size:12; text-anchor:middle;\" transform=\"rotate(0, 304.787, 389.613)\" x=\"304.787\" y=\"389.613\">0</text>\n",
       "</g>\n",
       "<g clip-path=\"url(#clip00)\">\n",
       "<text style=\"fill:#000000; fill-opacity:1; font-family:Arial,Helvetica Neue,Helvetica,sans-serif; font-size:12; text-anchor:middle;\" transform=\"rotate(0, 442.551, 389.613)\" x=\"442.551\" y=\"389.613\">1</text>\n",
       "</g>\n",
       "<g clip-path=\"url(#clip00)\">\n",
       "<text style=\"fill:#000000; fill-opacity:1; font-family:Arial,Helvetica Neue,Helvetica,sans-serif; font-size:12; text-anchor:middle;\" transform=\"rotate(0, 580.315, 389.613)\" x=\"580.315\" y=\"389.613\">2</text>\n",
       "</g>\n",
       "<g clip-path=\"url(#clip00)\">\n",
       "<text style=\"fill:#000000; fill-opacity:1; font-family:Arial,Helvetica Neue,Helvetica,sans-serif; font-size:12; text-anchor:end;\" transform=\"rotate(0, 23.2591, 380.313)\" x=\"23.2591\" y=\"380.313\">-2</text>\n",
       "</g>\n",
       "<g clip-path=\"url(#clip00)\">\n",
       "<text style=\"fill:#000000; fill-opacity:1; font-family:Arial,Helvetica Neue,Helvetica,sans-serif; font-size:12; text-anchor:end;\" transform=\"rotate(0, 23.2591, 289.313)\" x=\"23.2591\" y=\"289.313\">-1</text>\n",
       "</g>\n",
       "<g clip-path=\"url(#clip00)\">\n",
       "<text style=\"fill:#000000; fill-opacity:1; font-family:Arial,Helvetica Neue,Helvetica,sans-serif; font-size:12; text-anchor:end;\" transform=\"rotate(0, 23.2591, 198.312)\" x=\"23.2591\" y=\"198.312\">0</text>\n",
       "</g>\n",
       "<g clip-path=\"url(#clip00)\">\n",
       "<text style=\"fill:#000000; fill-opacity:1; font-family:Arial,Helvetica Neue,Helvetica,sans-serif; font-size:12; text-anchor:end;\" transform=\"rotate(0, 23.2591, 107.312)\" x=\"23.2591\" y=\"107.312\">1</text>\n",
       "</g>\n",
       "<g clip-path=\"url(#clip00)\">\n",
       "<text style=\"fill:#000000; fill-opacity:1; font-family:Arial,Helvetica Neue,Helvetica,sans-serif; font-size:12; text-anchor:end;\" transform=\"rotate(0, 23.2591, 16.311)\" x=\"23.2591\" y=\"16.311\">2</text>\n",
       "</g>\n",
       "<polyline clip-path=\"url(#clip02)\" style=\"stroke:#009af9; stroke-width:1; stroke-opacity:1; fill:none\" points=\"\n",
       "  442.524,193.812 442.307,193.812 441.875,193.812 441.227,193.812 440.368,193.812 439.298,193.812 438.022,193.812 436.543,193.812 434.867,193.812 432.998,193.812 \n",
       "  430.942,193.812 428.706,193.812 426.297,193.812 423.723,193.812 420.991,193.812 418.11,193.812 415.089,193.812 411.938,193.812 408.666,193.812 405.285,193.812 \n",
       "  401.803,193.812 398.234,193.812 394.587,193.812 390.874,193.812 387.107,193.812 383.298,193.812 379.459,193.812 375.601,193.812 371.737,193.812 367.879,193.812 \n",
       "  364.04,193.812 360.231,193.812 356.464,193.812 352.751,193.812 349.104,193.812 345.535,193.812 342.053,193.812 338.672,193.812 335.4,193.812 332.249,193.812 \n",
       "  329.228,193.812 326.347,193.812 323.615,193.812 321.041,193.812 318.632,193.812 316.396,193.812 314.34,193.812 312.471,193.812 310.795,193.812 309.316,193.812 \n",
       "  308.04,193.812 306.97,193.812 306.111,193.812 305.463,193.812 305.031,193.812 304.814,193.812 \n",
       "  \"/>\n",
       "<polyline clip-path=\"url(#clip02)\" style=\"stroke:#009af9; stroke-width:1; stroke-opacity:1; fill:none\" points=\"\n",
       "  304.787,102.83 304.787,102.973 304.787,103.258 304.787,103.686 304.787,104.254 304.787,104.96 304.787,105.803 304.787,106.78 304.787,107.887 304.787,109.122 \n",
       "  304.787,110.48 304.787,111.957 304.787,113.548 304.787,115.249 304.787,117.053 304.787,118.956 304.787,120.952 304.787,123.033 304.787,125.194 304.787,127.428 \n",
       "  304.787,129.728 304.787,132.086 304.787,134.495 304.787,136.947 304.787,139.435 304.787,141.951 304.787,144.488 304.787,147.036 304.787,149.588 304.787,152.136 \n",
       "  304.787,154.672 304.787,157.189 304.787,159.677 304.787,162.129 304.787,164.538 304.787,166.896 304.787,169.196 304.787,171.43 304.787,173.591 304.787,175.672 \n",
       "  304.787,177.667 304.787,179.571 304.787,181.375 304.787,183.076 304.787,184.667 304.787,186.144 304.787,187.502 304.787,188.736 304.787,189.844 304.787,190.821 \n",
       "  304.787,191.663 304.787,192.37 304.787,192.938 304.787,193.365 304.787,193.651 304.787,193.794 \n",
       "  \"/>\n",
       "<polygon clip-path=\"url(#clip00)\" points=\"\n",
       "489.799,62.931 562.315,62.931 562.315,32.691 489.799,32.691 \n",
       "  \" fill=\"#ffffff\" fill-opacity=\"1\"/>\n",
       "<polyline clip-path=\"url(#clip00)\" style=\"stroke:#000000; stroke-width:1; stroke-opacity:1; fill:none\" points=\"\n",
       "  489.799,62.931 562.315,62.931 562.315,32.691 489.799,32.691 489.799,62.931 \n",
       "  \"/>\n",
       "<polyline clip-path=\"url(#clip00)\" style=\"stroke:#009af9; stroke-width:1; stroke-opacity:1; fill:none\" points=\"\n",
       "  495.799,47.811 531.799,47.811 \n",
       "  \"/>\n",
       "<g clip-path=\"url(#clip00)\">\n",
       "<text style=\"fill:#000000; fill-opacity:1; font-family:Arial,Helvetica Neue,Helvetica,sans-serif; font-size:12; text-anchor:start;\" transform=\"rotate(0, 537.799, 52.311)\" x=\"537.799\" y=\"52.311\">y1</text>\n",
       "</g>\n",
       "</svg>\n"
      ]
     },
     "execution_count": 46,
     "metadata": {},
     "output_type": "execute_result"
    }
   ],
   "source": [
    "Γ = Segment(0,1) ∪ Segment(0, im)\n",
    "\n",
    "plot(Γ;xlims=(-2,2),ylims=(-2,2))"
   ]
  },
  {
   "cell_type": "markdown",
   "metadata": {},
   "source": [
    "And here's a function that satisfies the zero-sum condition:"
   ]
  },
  {
   "cell_type": "code",
   "execution_count": 47,
   "metadata": {},
   "outputs": [
    {
     "data": {
      "text/plain": [
       "-4.440892098500626e-16 + 0.0im"
      ]
     },
     "execution_count": 47,
     "metadata": {},
     "output_type": "execute_result"
    }
   ],
   "source": [
    "f = Fun(z -> angle(z) == 0 ? exp(z) : -cos(abs(z)), Γ)\n",
    "f₁, f₂ = pieces(f)\n",
    "first(f₁) + first(f₂)"
   ]
  },
  {
   "cell_type": "markdown",
   "metadata": {},
   "source": [
    "It's Stieltjes transform does not blow up near zero:"
   ]
  },
  {
   "cell_type": "code",
   "execution_count": 48,
   "metadata": {},
   "outputs": [
    {
     "data": {
      "image/png": "[encoded data removed]",
      "text/plain": [
       "200×200 Array{RGB{Float64},2}:\n",
       " RGB{Float64}(0.0,0.904841,1.0)   …  RGB{Float64}(0.72788,0.0,1.0) \n",
       " RGB{Float64}(0.0,0.914858,1.0)      RGB{Float64}(0.72788,0.0,1.0) \n",
       " RGB{Float64}(0.0,0.914858,1.0)      RGB{Float64}(0.737896,0.0,1.0)\n",
       " RGB{Float64}(0.0,0.924875,1.0)      RGB{Float64}(0.737896,0.0,1.0)\n",
       " RGB{Float64}(0.0,0.924875,1.0)      RGB{Float64}(0.747913,0.0,1.0)\n",
       " RGB{Float64}(0.0,0.934891,1.0)   …  RGB{Float64}(0.747913,0.0,1.0)\n",
       " RGB{Float64}(0.0,0.934891,1.0)      RGB{Float64}(0.75793,0.0,1.0) \n",
       " RGB{Float64}(0.0,0.944908,1.0)      RGB{Float64}(0.75793,0.0,1.0) \n",
       " RGB{Float64}(0.0,0.944908,1.0)      RGB{Float64}(0.767947,0.0,1.0)\n",
       " RGB{Float64}(0.0,0.954925,1.0)      RGB{Float64}(0.777963,0.0,1.0)\n",
       " RGB{Float64}(0.0,0.964942,1.0)   …  RGB{Float64}(0.777963,0.0,1.0)\n",
       " RGB{Float64}(0.0,0.964942,1.0)      RGB{Float64}(0.78798,0.0,1.0) \n",
       " RGB{Float64}(0.0,0.974958,1.0)      RGB{Float64}(0.78798,0.0,1.0) \n",
       " ⋮                                ⋱                                \n",
       " RGB{Float64}(0.0767947,1.0,0.0)     RGB{Float64}(1.0,0.520868,0.0)\n",
       " RGB{Float64}(0.0767947,1.0,0.0)     RGB{Float64}(1.0,0.520868,0.0)\n",
       " RGB{Float64}(0.0868114,1.0,0.0)  …  RGB{Float64}(1.0,0.520868,0.0)\n",
       " RGB{Float64}(0.0868114,1.0,0.0)     RGB{Float64}(1.0,0.530885,0.0)\n",
       " RGB{Float64}(0.0868114,1.0,0.0)     RGB{Float64}(1.0,0.530885,0.0)\n",
       " RGB{Float64}(0.096828,1.0,0.0)      RGB{Float64}(1.0,0.540902,0.0)\n",
       " RGB{Float64}(0.096828,1.0,0.0)      RGB{Float64}(1.0,0.540902,0.0)\n",
       " RGB{Float64}(0.106845,1.0,0.0)   …  RGB{Float64}(1.0,0.550918,0.0)\n",
       " RGB{Float64}(0.106845,1.0,0.0)      RGB{Float64}(1.0,0.550918,0.0)\n",
       " RGB{Float64}(0.116861,1.0,0.0)      RGB{Float64}(1.0,0.550918,0.0)\n",
       " RGB{Float64}(0.116861,1.0,0.0)      RGB{Float64}(1.0,0.560935,0.0)\n",
       " RGB{Float64}(0.116861,1.0,0.0)      RGB{Float64}(1.0,0.560935,0.0)"
      ]
     },
     "execution_count": 48,
     "metadata": {},
     "output_type": "execute_result"
    }
   ],
   "source": [
    "xx = linspace(-2,2,200)\n",
    "Z = xx' .+ im*xx\n",
    "portrait(stieltjes.(f,Z))"
   ]
  },
  {
   "cell_type": "markdown",
   "metadata": {},
   "source": [
    "Each component has a logarithmic singularity:"
   ]
  },
  {
   "cell_type": "code",
   "execution_count": 49,
   "metadata": {},
   "outputs": [
    {
     "data": {
      "text/plain": [
       "-15.133399294132497 + 0.0im"
      ]
     },
     "execution_count": 49,
     "metadata": {},
     "output_type": "execute_result"
    }
   ],
   "source": [
    "stieltjes(f₁, -0.000001)"
   ]
  },
  {
   "cell_type": "code",
   "execution_count": 50,
   "metadata": {},
   "outputs": [
    {
     "data": {
      "text/plain": [
       "13.575698815971107 + 1.5707948403214076im"
      ]
     },
     "execution_count": 50,
     "metadata": {},
     "output_type": "execute_result"
    }
   ],
   "source": [
    "stieltjes(f₂, -0.000001)"
   ]
  },
  {
   "cell_type": "markdown",
   "metadata": {},
   "source": [
    "But these are cancelled when summed together:"
   ]
  },
  {
   "cell_type": "code",
   "execution_count": 51,
   "metadata": {},
   "outputs": [
    {
     "data": {
      "text/plain": [
       "-1.5577004781613901 + 1.5707948403214076im"
      ]
     },
     "execution_count": 51,
     "metadata": {},
     "output_type": "execute_result"
    }
   ],
   "source": [
    "stieltjes(f, -0.000001)"
   ]
  },
  {
   "cell_type": "markdown",
   "metadata": {},
   "source": [
    "This is easy to see with log numbers:"
   ]
  },
  {
   "cell_type": "code",
   "execution_count": 52,
   "metadata": {},
   "outputs": [
    {
     "data": {
      "text/plain": [
       "(1.0000000000000009 + 0.0im)log ε + -1.3179021514543992 + 0.0im"
      ]
     },
     "execution_count": 52,
     "metadata": {},
     "output_type": "execute_result"
    }
   ],
   "source": [
    "stieltjes(f₁, RiemannDual(0,-1))"
   ]
  },
  {
   "cell_type": "code",
   "execution_count": 53,
   "metadata": {
    "scrolled": true
   },
   "outputs": [
    {
     "data": {
      "text/plain": [
       "(-1.000000000000001 + 0.0im)log ε + -0.23981174200057237 + 1.5707963267948983im"
      ]
     },
     "execution_count": 53,
     "metadata": {},
     "output_type": "execute_result"
    }
   ],
   "source": [
    "stieltjes(f₂, RiemannDual(0,-1))"
   ]
  },
  {
   "cell_type": "code",
   "execution_count": 54,
   "metadata": {},
   "outputs": [
    {
     "data": {
      "text/plain": [
       "(-2.220446049250313e-16 + 0.0im)log ε + -1.5577138934549715 + 1.5707963267948983im"
      ]
     },
     "execution_count": 54,
     "metadata": {},
     "output_type": "execute_result"
    }
   ],
   "source": [
    "stieltjes(f, RiemannDual(0,-1))"
   ]
  },
  {
   "cell_type": "markdown",
   "metadata": {},
   "source": [
    "The value still depends on the angle:"
   ]
  },
  {
   "cell_type": "code",
   "execution_count": 55,
   "metadata": {},
   "outputs": [
    {
     "data": {
      "text/plain": [
       "(-1.5577138934549715 - 4.712388980384694im, -1.5577138934549715 + 1.5707963267948992im)"
      ]
     },
     "execution_count": 55,
     "metadata": {},
     "output_type": "execute_result"
    }
   ],
   "source": [
    "finitepart(stieltjes(f,RiemannDual(0,1+im))),\n",
    "    finitepart(stieltjes(f,RiemannDual(0,-1+im)))"
   ]
  },
  {
   "cell_type": "markdown",
   "metadata": {},
   "source": [
    "## Product condition and cyclic junction condition\n",
    "\n",
    "Now consider a Riemann–Hilbert problem which satisfies the _product condition_. That is, the product of the jumps is I:"
   ]
  },
  {
   "cell_type": "code",
   "execution_count": 56,
   "metadata": {},
   "outputs": [
    {
     "data": {
      "text/plain": [
       "2×2 Array{Complex{Float64},2}:\n",
       "          1.0+0.0im  6.84142e-18+0.0im\n",
       " -6.84142e-18+0.0im          1.0+0.0im"
      ]
     },
     "execution_count": 56,
     "metadata": {},
     "output_type": "execute_result"
    }
   ],
   "source": [
    "G₁, G₂, G₃, G₄ = first.(pieces(G))\n",
    "\n",
    "G₄*G₃*G₂*G₁"
   ]
  },
  {
   "cell_type": "markdown",
   "metadata": {},
   "source": [
    "The _cyclic junction condition_ is a property satisfied by the right-hand side:"
   ]
  },
  {
   "cell_type": "code",
   "execution_count": 57,
   "metadata": {},
   "outputs": [
    {
     "data": {
      "text/plain": [
       "6.841415457043595e-18"
      ]
     },
     "execution_count": 57,
     "metadata": {},
     "output_type": "execute_result"
    }
   ],
   "source": [
    "F = G-I\n",
    "F₁, F₂, F₃, F₄ = first.(pieces(F))\n",
    "\n",
    "F₁*G₂*G₃*G₄ + F₂*G₃*G₄ + F₃*G₄ + F₄   |> norm"
   ]
  },
  {
   "cell_type": "markdown",
   "metadata": {},
   "source": [
    "This is due to a telescoping sum argument. In general, any function `U` that satisfies the zero sum condition has the property that $(I - (G-I)C^-) U $ satisfies the cyclic junction condition.\n",
    "\n",
    "\n",
    "Zero-sum condition also gets us continuity in each sector:"
   ]
  },
  {
   "cell_type": "code",
   "execution_count": 58,
   "metadata": {},
   "outputs": [
    {
     "data": {
      "text/plain": [
       "6.483657258559754e-16"
      ]
     },
     "execution_count": 58,
     "metadata": {},
     "output_type": "execute_result"
    }
   ],
   "source": [
    "z₁, z₂, z₃, z₄ = exp(π*im/6), exp(5π*im/6), exp(-5π*im/6), exp(-π*im/6)\n",
    "\n",
    "U = istieltjes(Φ)\n",
    "U₁, U₂, U₃, U₄ = pieces(U)\n",
    "\n",
    "C₁₊, C₂₊, C₃₊, C₄₊ = finitepart.(\n",
    "        stieltjes(U₁,RiemannDual(0,z₁)⁺) +\n",
    "            stieltjes(U₂,RiemannDual(0,z₁)) +\n",
    "            stieltjes(U₃,RiemannDual(0,z₁)) +\n",
    "            stieltjes(U₄,RiemannDual(0,z₁))  \n",
    "        ) ,\n",
    "        finitepart.(\n",
    "        stieltjes(U₁,RiemannDual(0,z₂)) +\n",
    "            stieltjes(U₂,RiemannDual(0,z₂)⁺) +\n",
    "            stieltjes(U₃,RiemannDual(0,z₂)) +\n",
    "            stieltjes(U₄,RiemannDual(0,z₂))  \n",
    "        ) ,\n",
    "        finitepart.(\n",
    "        stieltjes(U₁,RiemannDual(0,z₃)) +\n",
    "            stieltjes(U₂,RiemannDual(0,z₃)) +\n",
    "            stieltjes(U₃,RiemannDual(0,z₃)⁺) +\n",
    "            stieltjes(U₄,RiemannDual(0,z₃))  \n",
    "        ) ,\n",
    "        finitepart.(\n",
    "        stieltjes(U₁,RiemannDual(0,z₄)) +\n",
    "            stieltjes(U₂,RiemannDual(0,z₄)) +\n",
    "            stieltjes(U₃,RiemannDual(0,z₄)) +\n",
    "            stieltjes(U₄,RiemannDual(0,z₄)⁺)  \n",
    "        ) \n",
    "\n",
    "C₁₋, C₂₋, C₃₋, C₄₋ = finitepart.(\n",
    "            stieltjes(U₁,RiemannDual(0,z₁)⁻) +\n",
    "            stieltjes(U₂,RiemannDual(0,z₁)) +\n",
    "            stieltjes(U₃,RiemannDual(0,z₁)) +\n",
    "            stieltjes(U₄,RiemannDual(0,z₁))  \n",
    "        ) ,\n",
    "        finitepart.(\n",
    "            stieltjes(U₁,RiemannDual(0,z₂)) +\n",
    "            stieltjes(U₂,RiemannDual(0,z₂)⁻) +\n",
    "            stieltjes(U₃,RiemannDual(0,z₂)) +\n",
    "            stieltjes(U₄,RiemannDual(0,z₂))  \n",
    "        ) ,\n",
    "        finitepart.(\n",
    "            stieltjes(U₁,RiemannDual(0,z₃)) +\n",
    "            stieltjes(U₂,RiemannDual(0,z₃)) +\n",
    "            stieltjes(U₃,RiemannDual(0,z₃)⁻) +\n",
    "            stieltjes(U₄,RiemannDual(0,z₃))  \n",
    "        ) ,\n",
    "        finitepart.(\n",
    "            stieltjes(U₁,RiemannDual(0,z₄)) +\n",
    "            stieltjes(U₂,RiemannDual(0,z₄)) +\n",
    "            stieltjes(U₃,RiemannDual(0,z₄)) +\n",
    "            stieltjes(U₄,RiemannDual(0,z₄)⁻)  \n",
    "        ) ;\n",
    "\n",
    "\n",
    "norm(C₁₊ - C₂₋)"
   ]
  },
  {
   "cell_type": "markdown",
   "metadata": {},
   "source": [
    "Thus combined with the cyclical jump condition, we satisfy the jumps:"
   ]
  },
  {
   "cell_type": "code",
   "execution_count": 59,
   "metadata": {},
   "outputs": [
    {
     "data": {
      "text/plain": [
       "true"
      ]
     },
     "execution_count": 59,
     "metadata": {},
     "output_type": "execute_result"
    }
   ],
   "source": [
    "C₄₊ ≈ C₄₋*G₄ + F₄\n",
    "C₄₊ ≈ C₃₊*G₄ + F₄\n",
    "C₄₊ ≈ C₃₋*G₃*G₄ + F₃*G₄ + F₄\n",
    "C₄₊ ≈ C₂₊*G₃*G₄ + F₃*G₄ + F₄\n",
    "C₄₊ ≈ C₁₊*G₂*G₃*G₄ + F₂*G₃*G₄ + F₃*G₄ + F₄\n",
    "C₄₊ ≈ C₁₋*G₁*G₂*G₃*G₄ + F₁*G₂*G₃*G₄ + F₂*G₃*G₄ + F₃*G₄ + F₄"
   ]
  },
  {
   "cell_type": "code",
   "execution_count": 60,
   "metadata": {},
   "outputs": [
    {
     "data": {
      "text/plain": [
       "6.841415457043595e-18"
      ]
     },
     "execution_count": 60,
     "metadata": {},
     "output_type": "execute_result"
    }
   ],
   "source": [
    "norm( F₁*G₂*G₃*G₄ + F₂*G₃*G₄ + F₃*G₄ + F₄)"
   ]
  },
  {
   "cell_type": "markdown",
   "metadata": {},
   "source": [
    "## 2017 v 2023    (Future directions.)\n",
    "\n",
    "\n",
    "President Ivanka Trump.... 😰\n",
    "\n",
    "\n",
    "\n",
    "\n",
    "\n",
    "#### Banded operators\n",
    "\n",
    "Chebyshev singularities lead to banded operators:"
   ]
  },
  {
   "cell_type": "code",
   "execution_count": 61,
   "metadata": {},
   "outputs": [
    {
     "data": {
      "text/plain": [
       "HilbertWrapper:(1-x^2)^-0.5[Chebyshev(【-1.0,1.0】)]→Ultraspherical(1,【-1.0,1.0】)\n",
       " 0.0  1.0                                           \n",
       " 0.0  0.0  1.0                                      \n",
       "      0.0  0.0  1.0                                 \n",
       "           0.0  0.0  1.0                            \n",
       "                0.0  0.0  1.0                       \n",
       "                     0.0  0.0  1.0                  \n",
       "                          0.0  0.0  1.0             \n",
       "                               0.0  0.0  1.0        \n",
       "                                    0.0  0.0  1.0   \n",
       "                                         0.0  0.0  ⋱\n",
       "                                               ⋱   ⋱"
      ]
     },
     "execution_count": 61,
     "metadata": {},
     "output_type": "execute_result"
    }
   ],
   "source": [
    "H = Hilbert() : ChebyshevWeight()"
   ]
  },
  {
   "cell_type": "markdown",
   "metadata": {},
   "source": [
    "Thus $ I - (G-I)C^-$ can be represented on a single interval when $G$ has appropriate decay to 1:"
   ]
  },
  {
   "cell_type": "code",
   "execution_count": 62,
   "metadata": {},
   "outputs": [
    {
     "data": {
      "text/plain": [
       "PlusOperator:(1-x^2)^-0.5[Chebyshev(【-1.0,1.0】)]→(1-x^2)^-0.5[Ultraspherical(1,【-1.0,1.0】)]\n",
       "    1.08864+0.0im          0.0+0.0880911im  …         0.0+0.0535527im  ⋱\n",
       "        0.0+0.0im     0.502188+0.0im            0.0118945+0.0im        ⋱\n",
       "  -0.084268+0.0im          0.0-0.0837981im            0.0-0.0535835im  ⋱\n",
       "        0.0+0.0im  -0.00405148+0.0im           -0.0226296+0.0im        ⋱\n",
       "   0.076165+0.0im          0.0+0.0758392im            0.0+0.0533786im  ⋱\n",
       "        0.0+0.0im   0.00534752+0.0im        …   0.0312126+0.0im        ⋱\n",
       " -0.0654699+0.0im          0.0-0.0653164im            0.0-0.052508im   ⋱\n",
       "        0.0+0.0im  -0.00596396+0.0im            -0.536959+0.0im        ⋱\n",
       "   0.053542+0.0im          0.0+0.0535527im            0.0+0.0505444im  ⋱\n",
       "        0.0+0.0im   0.00593056+0.0im             0.539582+0.0im        ⋱\n",
       "            ⋱                  ⋱            …             ⋱            ⋱"
      ]
     },
     "execution_count": 62,
     "metadata": {},
     "output_type": "execute_result"
    }
   ],
   "source": [
    "G̃ = Fun(x->exp(-40x^2),ChebyshevWeight())\n",
    "G = Fun(x->1+exp(-40x^2),Chebyshev())\n",
    "(I+G)/2 + im/2*G̃*H"
   ]
  },
  {
   "cell_type": "markdown",
   "metadata": {},
   "source": [
    "How to do this with junctions?"
   ]
  },
  {
   "cell_type": "markdown",
   "metadata": {},
   "source": [
    "#### Hierarchical structure\n",
    "\n",
    "Stieltjes transforms have low rank structure when evaluated off the interval:"
   ]
  },
  {
   "cell_type": "code",
   "execution_count": 63,
   "metadata": {},
   "outputs": [
    {
     "data": {
      "text/plain": [
       "8.244707787129415e-9"
      ]
     },
     "execution_count": 63,
     "metadata": {},
     "output_type": "execute_result"
    }
   ],
   "source": [
    "Fun(z -> stieltjes(P(15),z), Legendre(Segment(1+im,2+2im))) |>norm"
   ]
  },
  {
   "cell_type": "code",
   "execution_count": 64,
   "metadata": {},
   "outputs": [
    {
     "data": {
      "text/plain": [
       "12"
      ]
     },
     "execution_count": 64,
     "metadata": {},
     "output_type": "execute_result"
    }
   ],
   "source": [
    "K = LowRankFun((z,ζ) -> 1/(z-ζ), Legendre()*Legendre(Segment(1+im,2+2im)))\n",
    "\n",
    "rank(K)"
   ]
  },
  {
   "cell_type": "markdown",
   "metadata": {},
   "source": [
    "This is exactly the sort of structure that makes Fast Multipole Method / Hierarchical matrices fast.  We can exploit this by plugging in RiemannHilbert.jl into HierarchicalMatrices.jl."
   ]
  }
 ],
 "metadata": {
  "kernelspec": {
   "display_name": "Julia 1.1.0",
   "language": "julia",
   "name": "julia-1.1"
  },
  "language_info": {
   "file_extension": ".jl",
   "mimetype": "application/julia",
   "name": "julia",
   "version": "1.1.0"
  }
 },
 "nbformat": 4,
 "nbformat_minor": 2
}
