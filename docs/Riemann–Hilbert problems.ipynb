{
 "cells": [
  {
   "cell_type": "code",
   "execution_count": 2,
   "metadata": {},
   "outputs": [],
   "source": [
    "using ApproxFun, SingularIntegralEquations, RiemannHilbert, Plots, QuadGK, DualNumbers, ComplexPhasePortrait, LinearAlgebra\n",
    "import ApproxFunBase: SequenceSpace, BasisFunctional, ℓ⁰, SpaceOperator, piece, pieces, npieces\n",
    "import ApproxFunOrthogonalPolynomials: Recurrence \n",
    "import RiemannHilbert: RiemannDual, logpart, finitepart, istieltjes, LogNumber\n",
    "import SingularIntegralEquations: ⁺, ⁻"
   ]
  },
  {
   "cell_type": "markdown",
   "metadata": {},
   "source": [
    "# Riemann–Hilbert problems\n",
    "\n",
    "Sheehan Olver\n",
    "<br>\n",
    "_Imperial College_"
   ]
  },
  {
   "cell_type": "markdown",
   "metadata": {},
   "source": [
    "## RiemannHilbert.jl\n",
    "\n",
    "An in-development package for solving Riemann–Hilbert problems, that builds on ApproxFun.jl and SingularIntegralEquations.jl.\n",
    "\n",
    "Here's an example of calculating the Hastings–McLeod solution. This has the following contour:"
   ]
  },
  {
   "cell_type": "code",
   "execution_count": 3,
   "metadata": {
    "scrolled": false
   },
   "outputs": [
    {
     "data": {
      "image/svg+xml": [
       "<?xml version=\"1.0\" encoding=\"utf-8\"?>\n",
       "<svg xmlns=\"http://www.w3.org/2000/svg\" xmlns:xlink=\"http://www.w3.org/1999/xlink\" width=\"600\" height=\"400\" viewBox=\"0 0 2400 1600\">\n",
       "<defs>\n",
       "  <clipPath id=\"clip5600\">\n",
       "    <rect x=\"0\" y=\"0\" width=\"2400\" height=\"1600\"/>\n",
       "  </clipPath>\n",
       "</defs>\n",
       "<polygon clip-path=\"url(#clip5600)\" points=\"\n",
       "0,1600 2400,1600 2400,0 0,0 \n",
       "  \" fill=\"#ffffff\" fill-rule=\"evenodd\" fill-opacity=\"1\"/>\n",
       "<defs>\n",
       "  <clipPath id=\"clip5601\">\n",
       "    <rect x=\"480\" y=\"0\" width=\"1681\" height=\"1600\"/>\n",
       "  </clipPath>\n",
       "</defs>\n",
       "<polygon clip-path=\"url(#clip5600)\" points=\"\n",
       "182.008,1487.47 2352.76,1487.47 2352.76,47.2441 182.008,47.2441 \n",
       "  \" fill=\"#ffffff\" fill-rule=\"evenodd\" fill-opacity=\"1\"/>\n",
       "<defs>\n",
       "  <clipPath id=\"clip5602\">\n",
       "    <rect x=\"182\" y=\"47\" width=\"2172\" height=\"1441\"/>\n",
       "  </clipPath>\n",
       "</defs>\n",
       "<polyline clip-path=\"url(#clip5602)\" style=\"stroke:#000000; stroke-width:2; stroke-opacity:0.1; fill:none\" points=\"\n",
       "  321.323,1487.47 321.323,47.2441 \n",
       "  \"/>\n",
       "<polyline clip-path=\"url(#clip5602)\" style=\"stroke:#000000; stroke-width:2; stroke-opacity:0.1; fill:none\" points=\"\n",
       "  794.352,1487.47 794.352,47.2441 \n",
       "  \"/>\n",
       "<polyline clip-path=\"url(#clip5602)\" style=\"stroke:#000000; stroke-width:2; stroke-opacity:0.1; fill:none\" points=\"\n",
       "  1267.38,1487.47 1267.38,47.2441 \n",
       "  \"/>\n",
       "<polyline clip-path=\"url(#clip5602)\" style=\"stroke:#000000; stroke-width:2; stroke-opacity:0.1; fill:none\" points=\"\n",
       "  1740.41,1487.47 1740.41,47.2441 \n",
       "  \"/>\n",
       "<polyline clip-path=\"url(#clip5602)\" style=\"stroke:#000000; stroke-width:2; stroke-opacity:0.1; fill:none\" points=\"\n",
       "  2213.44,1487.47 2213.44,47.2441 \n",
       "  \"/>\n",
       "<polyline clip-path=\"url(#clip5602)\" style=\"stroke:#000000; stroke-width:2; stroke-opacity:0.1; fill:none\" points=\"\n",
       "  182.008,1310.95 2352.76,1310.95 \n",
       "  \"/>\n",
       "<polyline clip-path=\"url(#clip5602)\" style=\"stroke:#000000; stroke-width:2; stroke-opacity:0.1; fill:none\" points=\"\n",
       "  182.008,1039.15 2352.76,1039.15 \n",
       "  \"/>\n",
       "<polyline clip-path=\"url(#clip5602)\" style=\"stroke:#000000; stroke-width:2; stroke-opacity:0.1; fill:none\" points=\"\n",
       "  182.008,767.359 2352.76,767.359 \n",
       "  \"/>\n",
       "<polyline clip-path=\"url(#clip5602)\" style=\"stroke:#000000; stroke-width:2; stroke-opacity:0.1; fill:none\" points=\"\n",
       "  182.008,495.564 2352.76,495.564 \n",
       "  \"/>\n",
       "<polyline clip-path=\"url(#clip5602)\" style=\"stroke:#000000; stroke-width:2; stroke-opacity:0.1; fill:none\" points=\"\n",
       "  182.008,223.769 2352.76,223.769 \n",
       "  \"/>\n",
       "<polyline clip-path=\"url(#clip5600)\" style=\"stroke:#000000; stroke-width:4; stroke-opacity:1; fill:none\" points=\"\n",
       "  182.008,1487.47 2352.76,1487.47 \n",
       "  \"/>\n",
       "<polyline clip-path=\"url(#clip5600)\" style=\"stroke:#000000; stroke-width:4; stroke-opacity:1; fill:none\" points=\"\n",
       "  182.008,1487.47 182.008,47.2441 \n",
       "  \"/>\n",
       "<polyline clip-path=\"url(#clip5600)\" style=\"stroke:#000000; stroke-width:4; stroke-opacity:1; fill:none\" points=\"\n",
       "  321.323,1487.47 321.323,1465.87 \n",
       "  \"/>\n",
       "<polyline clip-path=\"url(#clip5600)\" style=\"stroke:#000000; stroke-width:4; stroke-opacity:1; fill:none\" points=\"\n",
       "  794.352,1487.47 794.352,1465.87 \n",
       "  \"/>\n",
       "<polyline clip-path=\"url(#clip5600)\" style=\"stroke:#000000; stroke-width:4; stroke-opacity:1; fill:none\" points=\"\n",
       "  1267.38,1487.47 1267.38,1465.87 \n",
       "  \"/>\n",
       "<polyline clip-path=\"url(#clip5600)\" style=\"stroke:#000000; stroke-width:4; stroke-opacity:1; fill:none\" points=\"\n",
       "  1740.41,1487.47 1740.41,1465.87 \n",
       "  \"/>\n",
       "<polyline clip-path=\"url(#clip5600)\" style=\"stroke:#000000; stroke-width:4; stroke-opacity:1; fill:none\" points=\"\n",
       "  2213.44,1487.47 2213.44,1465.87 \n",
       "  \"/>\n",
       "<polyline clip-path=\"url(#clip5600)\" style=\"stroke:#000000; stroke-width:4; stroke-opacity:1; fill:none\" points=\"\n",
       "  182.008,1310.95 214.569,1310.95 \n",
       "  \"/>\n",
       "<polyline clip-path=\"url(#clip5600)\" style=\"stroke:#000000; stroke-width:4; stroke-opacity:1; fill:none\" points=\"\n",
       "  182.008,1039.15 214.569,1039.15 \n",
       "  \"/>\n",
       "<polyline clip-path=\"url(#clip5600)\" style=\"stroke:#000000; stroke-width:4; stroke-opacity:1; fill:none\" points=\"\n",
       "  182.008,767.359 214.569,767.359 \n",
       "  \"/>\n",
       "<polyline clip-path=\"url(#clip5600)\" style=\"stroke:#000000; stroke-width:4; stroke-opacity:1; fill:none\" points=\"\n",
       "  182.008,495.564 214.569,495.564 \n",
       "  \"/>\n",
       "<polyline clip-path=\"url(#clip5600)\" style=\"stroke:#000000; stroke-width:4; stroke-opacity:1; fill:none\" points=\"\n",
       "  182.008,223.769 214.569,223.769 \n",
       "  \"/>\n",
       "<g clip-path=\"url(#clip5600)\">\n",
       "<text style=\"fill:#000000; fill-opacity:1; font-family:Arial,Helvetica Neue,Helvetica,sans-serif; font-size:48px; text-anchor:middle;\" transform=\"rotate(0, 321.323, 1541.47)\" x=\"321.323\" y=\"1541.47\">-2</text>\n",
       "</g>\n",
       "<g clip-path=\"url(#clip5600)\">\n",
       "<text style=\"fill:#000000; fill-opacity:1; font-family:Arial,Helvetica Neue,Helvetica,sans-serif; font-size:48px; text-anchor:middle;\" transform=\"rotate(0, 794.352, 1541.47)\" x=\"794.352\" y=\"1541.47\">-1</text>\n",
       "</g>\n",
       "<g clip-path=\"url(#clip5600)\">\n",
       "<text style=\"fill:#000000; fill-opacity:1; font-family:Arial,Helvetica Neue,Helvetica,sans-serif; font-size:48px; text-anchor:middle;\" transform=\"rotate(0, 1267.38, 1541.47)\" x=\"1267.38\" y=\"1541.47\">0</text>\n",
       "</g>\n",
       "<g clip-path=\"url(#clip5600)\">\n",
       "<text style=\"fill:#000000; fill-opacity:1; font-family:Arial,Helvetica Neue,Helvetica,sans-serif; font-size:48px; text-anchor:middle;\" transform=\"rotate(0, 1740.41, 1541.47)\" x=\"1740.41\" y=\"1541.47\">1</text>\n",
       "</g>\n",
       "<g clip-path=\"url(#clip5600)\">\n",
       "<text style=\"fill:#000000; fill-opacity:1; font-family:Arial,Helvetica Neue,Helvetica,sans-serif; font-size:48px; text-anchor:middle;\" transform=\"rotate(0, 2213.44, 1541.47)\" x=\"2213.44\" y=\"1541.47\">2</text>\n",
       "</g>\n",
       "<g clip-path=\"url(#clip5600)\">\n",
       "<text style=\"fill:#000000; fill-opacity:1; font-family:Arial,Helvetica Neue,Helvetica,sans-serif; font-size:48px; text-anchor:end;\" transform=\"rotate(0, 158.008, 1328.45)\" x=\"158.008\" y=\"1328.45\">-1.0</text>\n",
       "</g>\n",
       "<g clip-path=\"url(#clip5600)\">\n",
       "<text style=\"fill:#000000; fill-opacity:1; font-family:Arial,Helvetica Neue,Helvetica,sans-serif; font-size:48px; text-anchor:end;\" transform=\"rotate(0, 158.008, 1056.65)\" x=\"158.008\" y=\"1056.65\">-0.5</text>\n",
       "</g>\n",
       "<g clip-path=\"url(#clip5600)\">\n",
       "<text style=\"fill:#000000; fill-opacity:1; font-family:Arial,Helvetica Neue,Helvetica,sans-serif; font-size:48px; text-anchor:end;\" transform=\"rotate(0, 158.008, 784.859)\" x=\"158.008\" y=\"784.859\">0.0</text>\n",
       "</g>\n",
       "<g clip-path=\"url(#clip5600)\">\n",
       "<text style=\"fill:#000000; fill-opacity:1; font-family:Arial,Helvetica Neue,Helvetica,sans-serif; font-size:48px; text-anchor:end;\" transform=\"rotate(0, 158.008, 513.064)\" x=\"158.008\" y=\"513.064\">0.5</text>\n",
       "</g>\n",
       "<g clip-path=\"url(#clip5600)\">\n",
       "<text style=\"fill:#000000; fill-opacity:1; font-family:Arial,Helvetica Neue,Helvetica,sans-serif; font-size:48px; text-anchor:end;\" transform=\"rotate(0, 158.008, 241.269)\" x=\"158.008\" y=\"241.269\">1.0</text>\n",
       "</g>\n",
       "<polyline clip-path=\"url(#clip5602)\" style=\"stroke:#009af9; stroke-width:4; stroke-opacity:1; fill:none\" points=\"\n",
       "  2291.32,88.0053 2289.71,89.0739 2286.49,91.2076 2281.68,94.3998 2275.29,98.6404 2267.34,103.916 2257.85,110.21 2246.86,117.503 2234.4,125.772 2220.5,134.99 \n",
       "  2205.22,145.129 2188.6,156.157 2170.69,168.039 2151.55,180.737 2131.24,194.213 2109.82,208.422 2087.37,223.322 2063.94,238.864 2039.62,255 2014.48,271.679 \n",
       "  1988.6,288.849 1962.07,306.456 1934.96,324.443 1907.35,342.756 1879.35,361.335 1851.03,380.123 1822.49,399.06 1793.81,418.087 1765.09,437.144 1736.41,456.171 \n",
       "  1707.87,475.108 1679.55,493.896 1651.55,512.476 1623.95,530.788 1596.84,548.776 1570.3,566.382 1544.42,583.552 1519.28,600.231 1494.96,616.367 1471.54,631.909 \n",
       "  1449.08,646.809 1427.66,661.019 1407.35,674.494 1388.21,687.193 1370.3,699.074 1353.68,710.102 1338.4,720.241 1324.51,729.46 1312.04,737.728 1301.05,745.021 \n",
       "  1291.56,751.315 1283.61,756.591 1277.22,760.831 1272.41,764.024 1269.19,766.157 1267.58,767.226 \n",
       "  \"/>\n",
       "<polyline clip-path=\"url(#clip5602)\" style=\"stroke:#009af9; stroke-width:4; stroke-opacity:1; fill:none\" points=\"\n",
       "  243.444,88.0053 245.055,89.0739 248.271,91.2076 253.082,94.3998 259.474,98.6404 267.425,103.916 276.912,110.21 287.904,117.503 300.366,125.772 314.26,134.99 \n",
       "  329.542,145.129 346.163,156.157 364.072,168.039 383.212,180.737 403.522,194.213 424.94,208.422 447.396,223.322 470.822,238.864 495.143,255 520.282,271.679 \n",
       "  546.161,288.849 572.697,306.456 599.809,324.443 627.41,342.756 655.413,361.335 683.73,380.123 712.273,399.06 740.951,418.087 769.674,437.144 798.352,456.171 \n",
       "  826.895,475.108 855.212,493.896 883.215,512.476 910.816,530.788 937.927,548.776 964.464,566.382 990.343,583.552 1015.48,600.231 1039.8,616.367 1063.23,631.909 \n",
       "  1085.69,646.809 1107.1,661.019 1127.41,674.494 1146.55,687.193 1164.46,699.074 1181.08,710.102 1196.36,720.241 1210.26,729.46 1222.72,737.728 1233.71,745.021 \n",
       "  1243.2,751.315 1251.15,756.591 1257.54,760.831 1262.35,764.024 1265.57,766.157 1267.18,767.226 \n",
       "  \"/>\n",
       "<polyline clip-path=\"url(#clip5602)\" style=\"stroke:#009af9; stroke-width:4; stroke-opacity:1; fill:none\" points=\"\n",
       "  243.444,1446.71 245.055,1445.64 248.271,1443.51 253.082,1440.32 259.474,1436.08 267.425,1430.8 276.912,1424.51 287.904,1417.22 300.366,1408.95 314.26,1399.73 \n",
       "  329.542,1389.59 346.163,1378.56 364.072,1366.68 383.212,1353.98 403.522,1340.51 424.94,1326.3 447.396,1311.4 470.822,1295.85 495.143,1279.72 520.282,1263.04 \n",
       "  546.161,1245.87 572.697,1228.26 599.809,1210.28 627.41,1191.96 655.413,1173.38 683.73,1154.6 712.273,1135.66 740.951,1116.63 769.674,1097.57 798.352,1078.55 \n",
       "  826.895,1059.61 855.212,1040.82 883.215,1022.24 910.816,1003.93 937.927,985.943 964.464,968.337 990.343,951.167 1015.48,934.488 1039.8,918.352 1063.23,902.809 \n",
       "  1085.69,887.91 1107.1,873.7 1127.41,860.225 1146.55,847.526 1164.46,835.644 1181.08,824.617 1196.36,814.478 1210.26,805.259 1222.72,796.991 1233.71,789.698 \n",
       "  1243.2,783.404 1251.15,778.128 1257.54,773.887 1262.35,770.695 1265.57,768.562 1267.18,767.493 \n",
       "  \"/>\n",
       "<polyline clip-path=\"url(#clip5602)\" style=\"stroke:#009af9; stroke-width:4; stroke-opacity:1; fill:none\" points=\"\n",
       "  2291.32,1446.71 2289.71,1445.64 2286.49,1443.51 2281.68,1440.32 2275.29,1436.08 2267.34,1430.8 2257.85,1424.51 2246.86,1417.22 2234.4,1408.95 2220.5,1399.73 \n",
       "  2205.22,1389.59 2188.6,1378.56 2170.69,1366.68 2151.55,1353.98 2131.24,1340.51 2109.82,1326.3 2087.37,1311.4 2063.94,1295.85 2039.62,1279.72 2014.48,1263.04 \n",
       "  1988.6,1245.87 1962.07,1228.26 1934.96,1210.28 1907.35,1191.96 1879.35,1173.38 1851.03,1154.6 1822.49,1135.66 1793.81,1116.63 1765.09,1097.57 1736.41,1078.55 \n",
       "  1707.87,1059.61 1679.55,1040.82 1651.55,1022.24 1623.95,1003.93 1596.84,985.943 1570.3,968.337 1544.42,951.167 1519.28,934.488 1494.96,918.352 1471.54,902.809 \n",
       "  1449.08,887.91 1427.66,873.7 1407.35,860.225 1388.21,847.526 1370.3,835.644 1353.68,824.617 1338.4,814.478 1324.51,805.259 1312.04,796.991 1301.05,789.698 \n",
       "  1291.56,783.404 1283.61,778.128 1277.22,773.887 1272.41,770.695 1269.19,768.562 1267.58,767.493 \n",
       "  \"/>\n",
       "<polygon clip-path=\"url(#clip5600)\" points=\"\n",
       "1989.93,251.724 2280.76,251.724 2280.76,130.764 1989.93,130.764 \n",
       "  \" fill=\"#ffffff\" fill-rule=\"evenodd\" fill-opacity=\"1\"/>\n",
       "<polyline clip-path=\"url(#clip5600)\" style=\"stroke:#000000; stroke-width:4; stroke-opacity:1; fill:none\" points=\"\n",
       "  1989.93,251.724 2280.76,251.724 2280.76,130.764 1989.93,130.764 1989.93,251.724 \n",
       "  \"/>\n",
       "<polyline clip-path=\"url(#clip5600)\" style=\"stroke:#009af9; stroke-width:4; stroke-opacity:1; fill:none\" points=\"\n",
       "  2013.93,191.244 2157.93,191.244 \n",
       "  \"/>\n",
       "<g clip-path=\"url(#clip5600)\">\n",
       "<text style=\"fill:#000000; fill-opacity:1; font-family:Arial,Helvetica Neue,Helvetica,sans-serif; font-size:48px; text-anchor:start;\" transform=\"rotate(0, 2181.93, 208.744)\" x=\"2181.93\" y=\"208.744\">y1</text>\n",
       "</g>\n",
       "</svg>\n"
      ]
     },
     "execution_count": 3,
     "metadata": {},
     "output_type": "execute_result"
    }
   ],
   "source": [
    "Γ = Segment(0, 2.5exp(im*π/6))   ∪ \n",
    "    Segment(0, 2.5exp(5im*π/6))  ∪\n",
    "    Segment(0, 2.5exp(-5im*π/6)) ∪ \n",
    "    Segment(0, 2.5exp(-im*π/6))\n",
    "\n",
    "plot(Γ)"
   ]
  },
  {
   "cell_type": "markdown",
   "metadata": {},
   "source": [
    "We now define the jump:"
   ]
  },
  {
   "cell_type": "code",
   "execution_count": 4,
   "metadata": {},
   "outputs": [],
   "source": [
    "s₁ = im\n",
    "s₃ = -im\n",
    "\n",
    "G = Fun( z -> if angle(z) ≈ π/6\n",
    "                    [1                 0; \n",
    "                     s₁*exp(8im/3*z^3) 1]\n",
    "                elseif angle(z) ≈ 5π/6\n",
    "                    [1                 0; \n",
    "                     s₃*exp(8im/3*z^3) 1]\n",
    "                elseif angle(z) ≈ -π/6\n",
    "                    [1                -s₃*exp(-8im/3*z^3); \n",
    "                     0                 1]\n",
    "                elseif angle(z) ≈ -5π/6\n",
    "                    [1                -s₁*exp(-8im/3*z^3); \n",
    "                     0                 1]\n",
    "                end\n",
    "                    , Γ);"
   ]
  },
  {
   "cell_type": "markdown",
   "metadata": {},
   "source": [
    "We can now solve the Riemann–Hilbert problem. The default is to solve $\\Phi_+ = G \\Phi_-$, so we transpose twice:"
   ]
  },
  {
   "cell_type": "code",
   "execution_count": 8,
   "metadata": {},
   "outputs": [],
   "source": [
    "Φ = transpose(rhsolve(transpose(G), 800));"
   ]
  },
  {
   "cell_type": "code",
   "execution_count": 9,
   "metadata": {},
   "outputs": [
    {
     "data": {
      "text/plain": [
       "2×2 Array{Complex{Float64},2}:\n",
       "         1.0-0.000345453im  -0.00183531+6.75051e-6im \n",
       " -0.00183531-6.75051e-6im           1.0+0.000345453im"
      ]
     },
     "execution_count": 9,
     "metadata": {},
     "output_type": "execute_result"
    }
   ],
   "source": [
    "Φ(100.0)"
   ]
  },
  {
   "cell_type": "code",
   "execution_count": 10,
   "metadata": {},
   "outputs": [
    {
     "data": {
      "image/png": "[encoded data removed]",
      "text/plain": [
       "200×200 Array{RGB{Float64},2} with eltype RGB{Float64}:\n",
       " RGB{Float64}(1.0,0.801336,0.0)  …  RGB{Float64}(0.0,1.0,0.193656)\n",
       " RGB{Float64}(1.0,0.791319,0.0)     RGB{Float64}(0.0,1.0,0.203673)\n",
       " RGB{Float64}(1.0,0.791319,0.0)     RGB{Float64}(0.0,1.0,0.203673)\n",
       " RGB{Float64}(1.0,0.781302,0.0)     RGB{Float64}(0.0,1.0,0.213689)\n",
       " RGB{Float64}(1.0,0.781302,0.0)     RGB{Float64}(0.0,1.0,0.213689)\n",
       " RGB{Float64}(1.0,0.781302,0.0)  …  RGB{Float64}(0.0,1.0,0.213689)\n",
       " RGB{Float64}(1.0,0.771285,0.0)     RGB{Float64}(0.0,1.0,0.223706)\n",
       " RGB{Float64}(1.0,0.771285,0.0)     RGB{Float64}(0.0,1.0,0.223706)\n",
       " RGB{Float64}(1.0,0.761269,0.0)     RGB{Float64}(0.0,1.0,0.233723)\n",
       " RGB{Float64}(1.0,0.761269,0.0)     RGB{Float64}(0.0,1.0,0.233723)\n",
       " RGB{Float64}(1.0,0.751252,0.0)  …  RGB{Float64}(0.0,1.0,0.24374) \n",
       " RGB{Float64}(1.0,0.751252,0.0)     RGB{Float64}(0.0,1.0,0.24374) \n",
       " RGB{Float64}(1.0,0.741235,0.0)     RGB{Float64}(0.0,1.0,0.253756)\n",
       " ⋮                               ⋱                                \n",
       " RGB{Float64}(1.0,0.0,0.641068)     RGB{Float64}(0.0,0.353923,1.0)\n",
       " RGB{Float64}(1.0,0.0,0.641068)     RGB{Float64}(0.0,0.353923,1.0)\n",
       " RGB{Float64}(1.0,0.0,0.651085)  …  RGB{Float64}(0.0,0.343907,1.0)\n",
       " RGB{Float64}(1.0,0.0,0.651085)     RGB{Float64}(0.0,0.343907,1.0)\n",
       " RGB{Float64}(1.0,0.0,0.661102)     RGB{Float64}(0.0,0.33389,1.0) \n",
       " RGB{Float64}(1.0,0.0,0.671119)     RGB{Float64}(0.0,0.323873,1.0)\n",
       " RGB{Float64}(1.0,0.0,0.671119)     RGB{Float64}(0.0,0.323873,1.0)\n",
       " RGB{Float64}(1.0,0.0,0.681135)  …  RGB{Float64}(0.0,0.313856,1.0)\n",
       " RGB{Float64}(1.0,0.0,0.681135)     RGB{Float64}(0.0,0.313856,1.0)\n",
       " RGB{Float64}(1.0,0.0,0.691152)     RGB{Float64}(0.0,0.30384,1.0) \n",
       " RGB{Float64}(1.0,0.0,0.691152)     RGB{Float64}(0.0,0.30384,1.0) \n",
       " RGB{Float64}(1.0,0.0,0.701169)     RGB{Float64}(0.0,0.293823,1.0)"
      ]
     },
     "execution_count": 10,
     "metadata": {},
     "output_type": "execute_result"
    }
   ],
   "source": [
    "xx = range(-3.5,3.5,length=200)\n",
    "Z = Φ[1,2].(xx' .+ im.*xx)\n",
    "portrait(Z)"
   ]
  },
  {
   "cell_type": "code",
   "execution_count": 11,
   "metadata": {},
   "outputs": [
    {
     "data": {
      "text/plain": [
       "8.263986678835547e-16"
      ]
     },
     "execution_count": 11,
     "metadata": {},
     "output_type": "execute_result"
    }
   ],
   "source": [
    "ζ = exp(im*π/6)\n",
    "Φ((ζ)⁺) - Φ((ζ)⁻)*G(ζ) |> norm"
   ]
  },
  {
   "cell_type": "markdown",
   "metadata": {},
   "source": [
    "To recover Painleve II, we actually want the limit:"
   ]
  },
  {
   "cell_type": "code",
   "execution_count": 12,
   "metadata": {},
   "outputs": [
    {
     "data": {
      "text/plain": [
       "2×2 Array{Complex{Float64},2}:\n",
       "   10000.0-0.0345457im   -0.183531+6.75028e-6im\n",
       " -0.183531-6.75028e-6im    10000.0+0.0345457im "
      ]
     },
     "execution_count": 12,
     "metadata": {},
     "output_type": "execute_result"
    }
   ],
   "source": [
    "10000.0Φ(10000.0)"
   ]
  },
  {
   "cell_type": "code",
   "execution_count": 13,
   "metadata": {},
   "outputs": [
    {
     "data": {
      "text/plain": [
       "-0.36706155154807807 - 6.938893903907228e-17im"
      ]
     },
     "execution_count": 13,
     "metadata": {},
     "output_type": "execute_result"
    }
   ],
   "source": [
    "z = Fun(ℂ)\n",
    "2(z*Φ[1,2])(Inf)"
   ]
  },
  {
   "cell_type": "markdown",
   "metadata": {},
   "source": [
    "## Stieltjes transforms, Cauchy transforms, Riemann–Hilbert problems and singular integral equations\n",
    "\n",
    "\n",
    "The Stieltjes transform is defined via\n",
    "$$\n",
    "    {\\cal S}_\\Gamma f(z) = \\int_\\Gamma {f(\\zeta) \\over z - \\zeta} {\\rm d} \\zeta\n",
    "$$\n",
    "And the Cauchy transform is\n",
    "$$\n",
    "    {\\cal C}_\\Gamma f(z) = -{1 \\over 2 \\pi {\\rm i}} {\\cal S}_\\Gamma(z)\n",
    "$$\n",
    "\n",
    "The solution is given by\n",
    "$$\n",
    "\\Phi(z) = I + {\\cal S}_\\Gamma U(z)\n",
    "$$ for some $U$ defined on $\\Gamma$:"
   ]
  },
  {
   "cell_type": "code",
   "execution_count": 14,
   "metadata": {},
   "outputs": [
    {
     "data": {
      "image/svg+xml": [
       "<?xml version=\"1.0\" encoding=\"utf-8\"?>\n",
       "<svg xmlns=\"http://www.w3.org/2000/svg\" xmlns:xlink=\"http://www.w3.org/1999/xlink\" width=\"600\" height=\"400\" viewBox=\"0 0 2400 1600\">\n",
       "<defs>\n",
       "  <clipPath id=\"clip6000\">\n",
       "    <rect x=\"0\" y=\"0\" width=\"2400\" height=\"1600\"/>\n",
       "  </clipPath>\n",
       "</defs>\n",
       "<polygon clip-path=\"url(#clip6000)\" points=\"\n",
       "0,1600 2400,1600 2400,0 0,0 \n",
       "  \" fill=\"#ffffff\" fill-rule=\"evenodd\" fill-opacity=\"1\"/>\n",
       "<defs>\n",
       "  <clipPath id=\"clip6001\">\n",
       "    <rect x=\"480\" y=\"0\" width=\"1681\" height=\"1600\"/>\n",
       "  </clipPath>\n",
       "</defs>\n",
       "<polygon clip-path=\"url(#clip6000)\" points=\"\n",
       "182.008,1487.47 2352.76,1487.47 2352.76,47.2441 182.008,47.2441 \n",
       "  \" fill=\"#ffffff\" fill-rule=\"evenodd\" fill-opacity=\"1\"/>\n",
       "<defs>\n",
       "  <clipPath id=\"clip6002\">\n",
       "    <rect x=\"182\" y=\"47\" width=\"2172\" height=\"1441\"/>\n",
       "  </clipPath>\n",
       "</defs>\n",
       "<polyline clip-path=\"url(#clip6002)\" style=\"stroke:#000000; stroke-width:2; stroke-opacity:0.1; fill:none\" points=\"\n",
       "  321.323,1487.47 321.323,47.2441 \n",
       "  \"/>\n",
       "<polyline clip-path=\"url(#clip6002)\" style=\"stroke:#000000; stroke-width:2; stroke-opacity:0.1; fill:none\" points=\"\n",
       "  794.352,1487.47 794.352,47.2441 \n",
       "  \"/>\n",
       "<polyline clip-path=\"url(#clip6002)\" style=\"stroke:#000000; stroke-width:2; stroke-opacity:0.1; fill:none\" points=\"\n",
       "  1267.38,1487.47 1267.38,47.2441 \n",
       "  \"/>\n",
       "<polyline clip-path=\"url(#clip6002)\" style=\"stroke:#000000; stroke-width:2; stroke-opacity:0.1; fill:none\" points=\"\n",
       "  1740.41,1487.47 1740.41,47.2441 \n",
       "  \"/>\n",
       "<polyline clip-path=\"url(#clip6002)\" style=\"stroke:#000000; stroke-width:2; stroke-opacity:0.1; fill:none\" points=\"\n",
       "  2213.44,1487.47 2213.44,47.2441 \n",
       "  \"/>\n",
       "<polyline clip-path=\"url(#clip6002)\" style=\"stroke:#000000; stroke-width:2; stroke-opacity:0.1; fill:none\" points=\"\n",
       "  182.008,1310.95 2352.76,1310.95 \n",
       "  \"/>\n",
       "<polyline clip-path=\"url(#clip6002)\" style=\"stroke:#000000; stroke-width:2; stroke-opacity:0.1; fill:none\" points=\"\n",
       "  182.008,1039.15 2352.76,1039.15 \n",
       "  \"/>\n",
       "<polyline clip-path=\"url(#clip6002)\" style=\"stroke:#000000; stroke-width:2; stroke-opacity:0.1; fill:none\" points=\"\n",
       "  182.008,767.359 2352.76,767.359 \n",
       "  \"/>\n",
       "<polyline clip-path=\"url(#clip6002)\" style=\"stroke:#000000; stroke-width:2; stroke-opacity:0.1; fill:none\" points=\"\n",
       "  182.008,495.564 2352.76,495.564 \n",
       "  \"/>\n",
       "<polyline clip-path=\"url(#clip6002)\" style=\"stroke:#000000; stroke-width:2; stroke-opacity:0.1; fill:none\" points=\"\n",
       "  182.008,223.769 2352.76,223.769 \n",
       "  \"/>\n",
       "<polyline clip-path=\"url(#clip6000)\" style=\"stroke:#000000; stroke-width:4; stroke-opacity:1; fill:none\" points=\"\n",
       "  182.008,1487.47 2352.76,1487.47 \n",
       "  \"/>\n",
       "<polyline clip-path=\"url(#clip6000)\" style=\"stroke:#000000; stroke-width:4; stroke-opacity:1; fill:none\" points=\"\n",
       "  182.008,1487.47 182.008,47.2441 \n",
       "  \"/>\n",
       "<polyline clip-path=\"url(#clip6000)\" style=\"stroke:#000000; stroke-width:4; stroke-opacity:1; fill:none\" points=\"\n",
       "  321.323,1487.47 321.323,1465.87 \n",
       "  \"/>\n",
       "<polyline clip-path=\"url(#clip6000)\" style=\"stroke:#000000; stroke-width:4; stroke-opacity:1; fill:none\" points=\"\n",
       "  794.352,1487.47 794.352,1465.87 \n",
       "  \"/>\n",
       "<polyline clip-path=\"url(#clip6000)\" style=\"stroke:#000000; stroke-width:4; stroke-opacity:1; fill:none\" points=\"\n",
       "  1267.38,1487.47 1267.38,1465.87 \n",
       "  \"/>\n",
       "<polyline clip-path=\"url(#clip6000)\" style=\"stroke:#000000; stroke-width:4; stroke-opacity:1; fill:none\" points=\"\n",
       "  1740.41,1487.47 1740.41,1465.87 \n",
       "  \"/>\n",
       "<polyline clip-path=\"url(#clip6000)\" style=\"stroke:#000000; stroke-width:4; stroke-opacity:1; fill:none\" points=\"\n",
       "  2213.44,1487.47 2213.44,1465.87 \n",
       "  \"/>\n",
       "<polyline clip-path=\"url(#clip6000)\" style=\"stroke:#000000; stroke-width:4; stroke-opacity:1; fill:none\" points=\"\n",
       "  182.008,1310.95 214.569,1310.95 \n",
       "  \"/>\n",
       "<polyline clip-path=\"url(#clip6000)\" style=\"stroke:#000000; stroke-width:4; stroke-opacity:1; fill:none\" points=\"\n",
       "  182.008,1039.15 214.569,1039.15 \n",
       "  \"/>\n",
       "<polyline clip-path=\"url(#clip6000)\" style=\"stroke:#000000; stroke-width:4; stroke-opacity:1; fill:none\" points=\"\n",
       "  182.008,767.359 214.569,767.359 \n",
       "  \"/>\n",
       "<polyline clip-path=\"url(#clip6000)\" style=\"stroke:#000000; stroke-width:4; stroke-opacity:1; fill:none\" points=\"\n",
       "  182.008,495.564 214.569,495.564 \n",
       "  \"/>\n",
       "<polyline clip-path=\"url(#clip6000)\" style=\"stroke:#000000; stroke-width:4; stroke-opacity:1; fill:none\" points=\"\n",
       "  182.008,223.769 214.569,223.769 \n",
       "  \"/>\n",
       "<g clip-path=\"url(#clip6000)\">\n",
       "<text style=\"fill:#000000; fill-opacity:1; font-family:Arial,Helvetica Neue,Helvetica,sans-serif; font-size:48px; text-anchor:middle;\" transform=\"rotate(0, 321.323, 1541.47)\" x=\"321.323\" y=\"1541.47\">-2</text>\n",
       "</g>\n",
       "<g clip-path=\"url(#clip6000)\">\n",
       "<text style=\"fill:#000000; fill-opacity:1; font-family:Arial,Helvetica Neue,Helvetica,sans-serif; font-size:48px; text-anchor:middle;\" transform=\"rotate(0, 794.352, 1541.47)\" x=\"794.352\" y=\"1541.47\">-1</text>\n",
       "</g>\n",
       "<g clip-path=\"url(#clip6000)\">\n",
       "<text style=\"fill:#000000; fill-opacity:1; font-family:Arial,Helvetica Neue,Helvetica,sans-serif; font-size:48px; text-anchor:middle;\" transform=\"rotate(0, 1267.38, 1541.47)\" x=\"1267.38\" y=\"1541.47\">0</text>\n",
       "</g>\n",
       "<g clip-path=\"url(#clip6000)\">\n",
       "<text style=\"fill:#000000; fill-opacity:1; font-family:Arial,Helvetica Neue,Helvetica,sans-serif; font-size:48px; text-anchor:middle;\" transform=\"rotate(0, 1740.41, 1541.47)\" x=\"1740.41\" y=\"1541.47\">1</text>\n",
       "</g>\n",
       "<g clip-path=\"url(#clip6000)\">\n",
       "<text style=\"fill:#000000; fill-opacity:1; font-family:Arial,Helvetica Neue,Helvetica,sans-serif; font-size:48px; text-anchor:middle;\" transform=\"rotate(0, 2213.44, 1541.47)\" x=\"2213.44\" y=\"1541.47\">2</text>\n",
       "</g>\n",
       "<g clip-path=\"url(#clip6000)\">\n",
       "<text style=\"fill:#000000; fill-opacity:1; font-family:Arial,Helvetica Neue,Helvetica,sans-serif; font-size:48px; text-anchor:end;\" transform=\"rotate(0, 158.008, 1328.45)\" x=\"158.008\" y=\"1328.45\">-1.0</text>\n",
       "</g>\n",
       "<g clip-path=\"url(#clip6000)\">\n",
       "<text style=\"fill:#000000; fill-opacity:1; font-family:Arial,Helvetica Neue,Helvetica,sans-serif; font-size:48px; text-anchor:end;\" transform=\"rotate(0, 158.008, 1056.65)\" x=\"158.008\" y=\"1056.65\">-0.5</text>\n",
       "</g>\n",
       "<g clip-path=\"url(#clip6000)\">\n",
       "<text style=\"fill:#000000; fill-opacity:1; font-family:Arial,Helvetica Neue,Helvetica,sans-serif; font-size:48px; text-anchor:end;\" transform=\"rotate(0, 158.008, 784.859)\" x=\"158.008\" y=\"784.859\">0.0</text>\n",
       "</g>\n",
       "<g clip-path=\"url(#clip6000)\">\n",
       "<text style=\"fill:#000000; fill-opacity:1; font-family:Arial,Helvetica Neue,Helvetica,sans-serif; font-size:48px; text-anchor:end;\" transform=\"rotate(0, 158.008, 513.064)\" x=\"158.008\" y=\"513.064\">0.5</text>\n",
       "</g>\n",
       "<g clip-path=\"url(#clip6000)\">\n",
       "<text style=\"fill:#000000; fill-opacity:1; font-family:Arial,Helvetica Neue,Helvetica,sans-serif; font-size:48px; text-anchor:end;\" transform=\"rotate(0, 158.008, 241.269)\" x=\"158.008\" y=\"241.269\">1.0</text>\n",
       "</g>\n",
       "<polyline clip-path=\"url(#clip6002)\" style=\"stroke:#009af9; stroke-width:4; stroke-opacity:1; fill:none\" points=\"\n",
       "  2291.32,88.0053 2289.71,89.0739 2286.49,91.2076 2281.68,94.3998 2275.29,98.6404 2267.34,103.916 2257.85,110.21 2246.86,117.503 2234.4,125.772 2220.5,134.99 \n",
       "  2205.22,145.129 2188.6,156.157 2170.69,168.039 2151.55,180.737 2131.24,194.213 2109.82,208.422 2087.37,223.322 2063.94,238.864 2039.62,255 2014.48,271.679 \n",
       "  1988.6,288.849 1962.07,306.456 1934.96,324.443 1907.35,342.756 1879.35,361.335 1851.03,380.123 1822.49,399.06 1793.81,418.087 1765.09,437.144 1736.41,456.171 \n",
       "  1707.87,475.108 1679.55,493.896 1651.55,512.476 1623.95,530.788 1596.84,548.776 1570.3,566.382 1544.42,583.552 1519.28,600.231 1494.96,616.367 1471.54,631.909 \n",
       "  1449.08,646.809 1427.66,661.019 1407.35,674.494 1388.21,687.193 1370.3,699.074 1353.68,710.102 1338.4,720.241 1324.51,729.46 1312.04,737.728 1301.05,745.021 \n",
       "  1291.56,751.315 1283.61,756.591 1277.22,760.831 1272.41,764.024 1269.19,766.157 1267.58,767.226 \n",
       "  \"/>\n",
       "<polyline clip-path=\"url(#clip6002)\" style=\"stroke:#009af9; stroke-width:4; stroke-opacity:1; fill:none\" points=\"\n",
       "  243.444,88.0053 245.055,89.0739 248.271,91.2076 253.082,94.3998 259.474,98.6404 267.425,103.916 276.912,110.21 287.904,117.503 300.366,125.772 314.26,134.99 \n",
       "  329.542,145.129 346.163,156.157 364.072,168.039 383.212,180.737 403.522,194.213 424.94,208.422 447.396,223.322 470.822,238.864 495.143,255 520.282,271.679 \n",
       "  546.161,288.849 572.697,306.456 599.809,324.443 627.41,342.756 655.413,361.335 683.73,380.123 712.273,399.06 740.951,418.087 769.674,437.144 798.352,456.171 \n",
       "  826.895,475.108 855.212,493.896 883.215,512.476 910.816,530.788 937.927,548.776 964.464,566.382 990.343,583.552 1015.48,600.231 1039.8,616.367 1063.23,631.909 \n",
       "  1085.69,646.809 1107.1,661.019 1127.41,674.494 1146.55,687.193 1164.46,699.074 1181.08,710.102 1196.36,720.241 1210.26,729.46 1222.72,737.728 1233.71,745.021 \n",
       "  1243.2,751.315 1251.15,756.591 1257.54,760.831 1262.35,764.024 1265.57,766.157 1267.18,767.226 \n",
       "  \"/>\n",
       "<polyline clip-path=\"url(#clip6002)\" style=\"stroke:#009af9; stroke-width:4; stroke-opacity:1; fill:none\" points=\"\n",
       "  243.444,1446.71 245.055,1445.64 248.271,1443.51 253.082,1440.32 259.474,1436.08 267.425,1430.8 276.912,1424.51 287.904,1417.22 300.366,1408.95 314.26,1399.73 \n",
       "  329.542,1389.59 346.163,1378.56 364.072,1366.68 383.212,1353.98 403.522,1340.51 424.94,1326.3 447.396,1311.4 470.822,1295.85 495.143,1279.72 520.282,1263.04 \n",
       "  546.161,1245.87 572.697,1228.26 599.809,1210.28 627.41,1191.96 655.413,1173.38 683.73,1154.6 712.273,1135.66 740.951,1116.63 769.674,1097.57 798.352,1078.55 \n",
       "  826.895,1059.61 855.212,1040.82 883.215,1022.24 910.816,1003.93 937.927,985.943 964.464,968.337 990.343,951.167 1015.48,934.488 1039.8,918.352 1063.23,902.809 \n",
       "  1085.69,887.91 1107.1,873.7 1127.41,860.225 1146.55,847.526 1164.46,835.644 1181.08,824.617 1196.36,814.478 1210.26,805.259 1222.72,796.991 1233.71,789.698 \n",
       "  1243.2,783.404 1251.15,778.128 1257.54,773.887 1262.35,770.695 1265.57,768.562 1267.18,767.493 \n",
       "  \"/>\n",
       "<polyline clip-path=\"url(#clip6002)\" style=\"stroke:#009af9; stroke-width:4; stroke-opacity:1; fill:none\" points=\"\n",
       "  2291.32,1446.71 2289.71,1445.64 2286.49,1443.51 2281.68,1440.32 2275.29,1436.08 2267.34,1430.8 2257.85,1424.51 2246.86,1417.22 2234.4,1408.95 2220.5,1399.73 \n",
       "  2205.22,1389.59 2188.6,1378.56 2170.69,1366.68 2151.55,1353.98 2131.24,1340.51 2109.82,1326.3 2087.37,1311.4 2063.94,1295.85 2039.62,1279.72 2014.48,1263.04 \n",
       "  1988.6,1245.87 1962.07,1228.26 1934.96,1210.28 1907.35,1191.96 1879.35,1173.38 1851.03,1154.6 1822.49,1135.66 1793.81,1116.63 1765.09,1097.57 1736.41,1078.55 \n",
       "  1707.87,1059.61 1679.55,1040.82 1651.55,1022.24 1623.95,1003.93 1596.84,985.943 1570.3,968.337 1544.42,951.167 1519.28,934.488 1494.96,918.352 1471.54,902.809 \n",
       "  1449.08,887.91 1427.66,873.7 1407.35,860.225 1388.21,847.526 1370.3,835.644 1353.68,824.617 1338.4,814.478 1324.51,805.259 1312.04,796.991 1301.05,789.698 \n",
       "  1291.56,783.404 1283.61,778.128 1277.22,773.887 1272.41,770.695 1269.19,768.562 1267.58,767.493 \n",
       "  \"/>\n",
       "<polygon clip-path=\"url(#clip6000)\" points=\"\n",
       "1989.93,251.724 2280.76,251.724 2280.76,130.764 1989.93,130.764 \n",
       "  \" fill=\"#ffffff\" fill-rule=\"evenodd\" fill-opacity=\"1\"/>\n",
       "<polyline clip-path=\"url(#clip6000)\" style=\"stroke:#000000; stroke-width:4; stroke-opacity:1; fill:none\" points=\"\n",
       "  1989.93,251.724 2280.76,251.724 2280.76,130.764 1989.93,130.764 1989.93,251.724 \n",
       "  \"/>\n",
       "<polyline clip-path=\"url(#clip6000)\" style=\"stroke:#009af9; stroke-width:4; stroke-opacity:1; fill:none\" points=\"\n",
       "  2013.93,191.244 2157.93,191.244 \n",
       "  \"/>\n",
       "<g clip-path=\"url(#clip6000)\">\n",
       "<text style=\"fill:#000000; fill-opacity:1; font-family:Arial,Helvetica Neue,Helvetica,sans-serif; font-size:48px; text-anchor:start;\" transform=\"rotate(0, 2181.93, 208.744)\" x=\"2181.93\" y=\"208.744\">y1</text>\n",
       "</g>\n",
       "</svg>\n"
      ]
     },
     "execution_count": 14,
     "metadata": {},
     "output_type": "execute_result"
    }
   ],
   "source": [
    "U = istieltjes(Φ)\n",
    "plot(domain(U))"
   ]
  },
  {
   "cell_type": "code",
   "execution_count": 15,
   "metadata": {},
   "outputs": [
    {
     "data": {
      "text/plain": [
       "true"
      ]
     },
     "execution_count": 15,
     "metadata": {},
     "output_type": "execute_result"
    }
   ],
   "source": [
    "I + stieltjes(U,10.0) == Φ(10.0)"
   ]
  },
  {
   "cell_type": "markdown",
   "metadata": {},
   "source": [
    "Thus we want to solve:"
   ]
  },
  {
   "cell_type": "code",
   "execution_count": 16,
   "metadata": {},
   "outputs": [
    {
     "data": {
      "text/plain": [
       "true"
      ]
     },
     "execution_count": 16,
     "metadata": {},
     "output_type": "execute_result"
    }
   ],
   "source": [
    "Φ((ζ)⁺) ≈ Φ((ζ)⁻)*G(ζ)\n",
    "I + stieltjes(U,(ζ)⁺) ≈ (I + stieltjes(U,(ζ)⁻))*G(ζ)\n",
    "stieltjes(U,(ζ)⁺) - stieltjes(U,(ζ)⁻)*G(ζ) ≈ G(ζ)-I\n",
    "V = U*(-2π*im)\n",
    "cauchy(V,(ζ)⁺) - cauchy(V,(ζ)⁻)*G(ζ) ≈ G(ζ)-I"
   ]
  },
  {
   "cell_type": "markdown",
   "metadata": {},
   "source": [
    "We also have Plemelj that tells us ${\\cal C}^+ -{\\cal C^-} = I$, this changes (simplifies?) the equation to:"
   ]
  },
  {
   "cell_type": "code",
   "execution_count": 17,
   "metadata": {},
   "outputs": [
    {
     "data": {
      "text/plain": [
       "true"
      ]
     },
     "execution_count": 17,
     "metadata": {},
     "output_type": "execute_result"
    }
   ],
   "source": [
    "V(ζ) + cauchy(V,(ζ)⁻) - cauchy(V,(ζ)⁻)*G(ζ) ≈ G(ζ)-I\n",
    "V(ζ)  - cauchy(V,(ζ)⁻)*(G(ζ)-I) ≈ G(ζ)-I"
   ]
  },
  {
   "cell_type": "markdown",
   "metadata": {
    "collapsed": true
   },
   "source": [
    "## Stieltjes transforms and OPs\n",
    "\n",
    "The Stieltjes transform of weighted orthogonal polynomials \n",
    "satisfy the same recurrence as OPs themselves. \n",
    "\n",
    "We need to calculate Stieltjes transforms of OPs:"
   ]
  },
  {
   "cell_type": "code",
   "execution_count": 18,
   "metadata": {},
   "outputs": [
    {
     "data": {
      "image/png": "[encoded data removed]",
      "text/plain": [
       "200×200 Array{RGB{Float64},2} with eltype RGB{Float64}:\n",
       " RGB{Float64}(0.69783,0.0,1.0)   …  RGB{Float64}(0.69783,1.0,0.0) \n",
       " RGB{Float64}(0.66778,0.0,1.0)      RGB{Float64}(0.66778,1.0,0.0) \n",
       " RGB{Float64}(0.63773,0.0,1.0)      RGB{Float64}(0.63773,1.0,0.0) \n",
       " RGB{Float64}(0.617696,0.0,1.0)     RGB{Float64}(0.617696,1.0,0.0)\n",
       " RGB{Float64}(0.587646,0.0,1.0)     RGB{Float64}(0.587646,1.0,0.0)\n",
       " RGB{Float64}(0.557596,0.0,1.0)  …  RGB{Float64}(0.557596,1.0,0.0)\n",
       " RGB{Float64}(0.527546,0.0,1.0)     RGB{Float64}(0.527546,1.0,0.0)\n",
       " RGB{Float64}(0.497496,0.0,1.0)     RGB{Float64}(0.497496,1.0,0.0)\n",
       " RGB{Float64}(0.467446,0.0,1.0)     RGB{Float64}(0.467446,1.0,0.0)\n",
       " RGB{Float64}(0.447412,0.0,1.0)     RGB{Float64}(0.447412,1.0,0.0)\n",
       " RGB{Float64}(0.417362,0.0,1.0)  …  RGB{Float64}(0.417362,1.0,0.0)\n",
       " RGB{Float64}(0.387312,0.0,1.0)     RGB{Float64}(0.387312,1.0,0.0)\n",
       " RGB{Float64}(0.357262,0.0,1.0)     RGB{Float64}(0.357262,1.0,0.0)\n",
       " ⋮                               ⋱                                \n",
       " RGB{Float64}(0.387312,1.0,0.0)     RGB{Float64}(0.387312,0.0,1.0)\n",
       " RGB{Float64}(0.417362,1.0,0.0)     RGB{Float64}(0.417362,0.0,1.0)\n",
       " RGB{Float64}(0.447412,1.0,0.0)  …  RGB{Float64}(0.447412,0.0,1.0)\n",
       " RGB{Float64}(0.467446,1.0,0.0)     RGB{Float64}(0.467446,0.0,1.0)\n",
       " RGB{Float64}(0.497496,1.0,0.0)     RGB{Float64}(0.497496,0.0,1.0)\n",
       " RGB{Float64}(0.527546,1.0,0.0)     RGB{Float64}(0.527546,0.0,1.0)\n",
       " RGB{Float64}(0.557596,1.0,0.0)     RGB{Float64}(0.557596,0.0,1.0)\n",
       " RGB{Float64}(0.587646,1.0,0.0)  …  RGB{Float64}(0.587646,0.0,1.0)\n",
       " RGB{Float64}(0.617696,1.0,0.0)     RGB{Float64}(0.617696,0.0,1.0)\n",
       " RGB{Float64}(0.63773,1.0,0.0)      RGB{Float64}(0.63773,0.0,1.0) \n",
       " RGB{Float64}(0.66778,1.0,0.0)      RGB{Float64}(0.66778,0.0,1.0) \n",
       " RGB{Float64}(0.69783,1.0,0.0)      RGB{Float64}(0.69783,0.0,1.0) "
      ]
     },
     "execution_count": 18,
     "metadata": {},
     "output_type": "execute_result"
    }
   ],
   "source": [
    "P = k -> Fun(Legendre(), [zeros(k);1])\n",
    "\n",
    "xx = range(-2.,2.,length=200)\n",
    "Z = xx' .+ im.*xx\n",
    "\n",
    "portrait(stieltjes.(P(5), Z))"
   ]
  },
  {
   "cell_type": "code",
   "execution_count": 19,
   "metadata": {},
   "outputs": [
    {
     "data": {
      "image/png": "[encoded data removed]",
      "text/plain": [
       "200×200 Array{RGB{Float64},2} with eltype RGB{Float64}:\n",
       " RGB{Float64}(0.497496,0.0,1.0)  …  RGB{Float64}(0.497496,1.0,0.0)\n",
       " RGB{Float64}(0.477462,0.0,1.0)     RGB{Float64}(0.477462,1.0,0.0)\n",
       " RGB{Float64}(0.447412,0.0,1.0)     RGB{Float64}(0.447412,1.0,0.0)\n",
       " RGB{Float64}(0.417362,0.0,1.0)     RGB{Float64}(0.417362,1.0,0.0)\n",
       " RGB{Float64}(0.387312,0.0,1.0)     RGB{Float64}(0.387312,1.0,0.0)\n",
       " RGB{Float64}(0.357262,0.0,1.0)  …  RGB{Float64}(0.357262,1.0,0.0)\n",
       " RGB{Float64}(0.327212,0.0,1.0)     RGB{Float64}(0.327212,1.0,0.0)\n",
       " RGB{Float64}(0.297162,0.0,1.0)     RGB{Float64}(0.297162,1.0,0.0)\n",
       " RGB{Float64}(0.267112,0.0,1.0)     RGB{Float64}(0.267112,1.0,0.0)\n",
       " RGB{Float64}(0.227045,0.0,1.0)     RGB{Float64}(0.227045,1.0,0.0)\n",
       " RGB{Float64}(0.196995,0.0,1.0)  …  RGB{Float64}(0.196995,1.0,0.0)\n",
       " RGB{Float64}(0.166945,0.0,1.0)     RGB{Float64}(0.166945,1.0,0.0)\n",
       " RGB{Float64}(0.136895,0.0,1.0)     RGB{Float64}(0.136895,1.0,0.0)\n",
       " ⋮                               ⋱                                \n",
       " RGB{Float64}(0.166945,1.0,0.0)     RGB{Float64}(0.166945,0.0,1.0)\n",
       " RGB{Float64}(0.196995,1.0,0.0)     RGB{Float64}(0.196995,0.0,1.0)\n",
       " RGB{Float64}(0.227045,1.0,0.0)  …  RGB{Float64}(0.227045,0.0,1.0)\n",
       " RGB{Float64}(0.267112,1.0,0.0)     RGB{Float64}(0.267112,0.0,1.0)\n",
       " RGB{Float64}(0.297162,1.0,0.0)     RGB{Float64}(0.297162,0.0,1.0)\n",
       " RGB{Float64}(0.327212,1.0,0.0)     RGB{Float64}(0.327212,0.0,1.0)\n",
       " RGB{Float64}(0.357262,1.0,0.0)     RGB{Float64}(0.357262,0.0,1.0)\n",
       " RGB{Float64}(0.387312,1.0,0.0)  …  RGB{Float64}(0.387312,0.0,1.0)\n",
       " RGB{Float64}(0.417362,1.0,0.0)     RGB{Float64}(0.417362,0.0,1.0)\n",
       " RGB{Float64}(0.447412,1.0,0.0)     RGB{Float64}(0.447412,0.0,1.0)\n",
       " RGB{Float64}(0.477462,1.0,0.0)     RGB{Float64}(0.477462,0.0,1.0)\n",
       " RGB{Float64}(0.497496,1.0,0.0)     RGB{Float64}(0.507513,0.0,1.0)"
      ]
     },
     "execution_count": 19,
     "metadata": {},
     "output_type": "execute_result"
    }
   ],
   "source": [
    "portrait(Z.^(-6))"
   ]
  },
  {
   "cell_type": "markdown",
   "metadata": {},
   "source": [
    "Recall: the Jacobi operator is a tridiagonal operator that encodes multiplication by $x$:"
   ]
  },
  {
   "cell_type": "code",
   "execution_count": 20,
   "metadata": {},
   "outputs": [
    {
     "data": {
      "text/plain": [
       "0.0"
      ]
     },
     "execution_count": 20,
     "metadata": {},
     "output_type": "execute_result"
    }
   ],
   "source": [
    "x = Fun(Legendre())\n",
    "J = Recurrence(Legendre())\n",
    "\n",
    "\n",
    "f = Fun(exp, Legendre())\n",
    "norm(J*f - x*f)"
   ]
  },
  {
   "cell_type": "markdown",
   "metadata": {},
   "source": [
    "The Jacobi operator also encodes the three-term recurrence:"
   ]
  },
  {
   "cell_type": "code",
   "execution_count": 21,
   "metadata": {},
   "outputs": [
    {
     "data": {
      "text/plain": [
       "true"
      ]
     },
     "execution_count": 21,
     "metadata": {},
     "output_type": "execute_result"
    }
   ],
   "source": [
    "n=0\n",
    "x*P(n) ≈ J[n+1,n+1]*P(n) + J[n+2,n+1]*P(n+1)\n",
    "\n",
    "\n",
    "n=1\n",
    "x*P(n) ≈ J[n,n+1]*P(n-1) + J[n+1,n+1]*P(n) + J[n+2,n+1]*P(n+1)\n"
   ]
  },
  {
   "cell_type": "markdown",
   "metadata": {},
   "source": [
    "The Stieltjes transform satisfies the exact same recurrence for $n \\geq 1$:"
   ]
  },
  {
   "cell_type": "code",
   "execution_count": 22,
   "metadata": {},
   "outputs": [
    {
     "data": {
      "text/plain": [
       "true"
      ]
     },
     "execution_count": 22,
     "metadata": {},
     "output_type": "execute_result"
    }
   ],
   "source": [
    "z = 1.0+2.0im\n",
    "w = 1 # in general, the weight corresponding to OP\n",
    "Q = (n,z) -> sum(P(n)*w/(z-x)) # sum means integral\n",
    "\n",
    "n = 1\n",
    "z*Q(n,z) ≈ J[n,n+1]*Q(n-1,z) + J[n+1,n+1]*Q(n,z) + J[n+2,n+1]*Q(n+1,z)"
   ]
  },
  {
   "cell_type": "markdown",
   "metadata": {},
   "source": [
    "But not for $n = 0$:"
   ]
  },
  {
   "cell_type": "code",
   "execution_count": 23,
   "metadata": {},
   "outputs": [
    {
     "data": {
      "text/plain": [
       "false"
      ]
     },
     "execution_count": 23,
     "metadata": {},
     "output_type": "execute_result"
    }
   ],
   "source": [
    "n = 0\n",
    "z*Q(n,z) ≈ J[n+1,n+1]*Q(n,z) + J[n+2,n+1]*Q(n+1,z)"
   ]
  },
  {
   "cell_type": "markdown",
   "metadata": {},
   "source": [
    "But if we know `Q(0,z)` and `Q(1,z)` in closed form (We do!), we can calculate `Q` via recurrence. \n",
    "\n",
    "I like to represent this as a lower triangular operator:"
   ]
  },
  {
   "cell_type": "code",
   "execution_count": 24,
   "metadata": {},
   "outputs": [
    {
     "data": {
      "text/plain": [
       "InterlaceOperator : SequenceSpace() → 3-element ArraySpace:\n",
       "Space[ConstantSpace, ConstantSpace, SequenceSpace()]\n",
       " 1.0                 0.0                  …  0.0                 ⋯\n",
       " 0.0                 1.0                     0.0                 ⋱\n",
       " 0.3333333333333333  0.0                     0.0                 ⋱\n",
       " 0.0                 0.39999999999999997     0.0                 ⋱\n",
       " 0.0                 0.0                     0.0                 ⋱\n",
       " 0.0                 0.0                  …  0.0                 ⋱\n",
       " 0.0                 0.0                     0.0                 ⋱\n",
       " 0.0                 0.0                     0.0                 ⋱\n",
       " 0.0                 0.0                     0.0                 ⋱\n",
       " 0.0                 0.0                     0.5294117647058824  ⋱\n",
       "  ⋮                   ⋱                   …   ⋱                  ⋱"
      ]
     },
     "execution_count": 24,
     "metadata": {},
     "output_type": "execute_result"
    }
   ],
   "source": [
    "L = z -> [BasisFunctional(1);\n",
    "     BasisFunctional(2);\n",
    "    SpaceOperator(transpose(J - z*I)[2:end,:],ℓ⁰,ℓ⁰)]\n",
    "        \n",
    "L(0)        "
   ]
  },
  {
   "cell_type": "code",
   "execution_count": 25,
   "metadata": {},
   "outputs": [
    {
     "data": {
      "text/plain": [
       "5-element Array{Complex{Float64},1}:\n",
       "    0.34657359027997253 - 0.7853981633974483im   \n",
       "   -0.08263008292513074 - 0.09225098283750298im  \n",
       "   -0.02047897101517343 + 0.006432358667077497im \n",
       " -0.0004860919654602121 + 0.0039580162862197284im\n",
       "   0.000655510320055656 + 0.0004009376214656593im"
      ]
     },
     "execution_count": 25,
     "metadata": {},
     "output_type": "execute_result"
    }
   ],
   "source": [
    "μ₀ = stieltjes(P(0)*w,z)\n",
    "μ₁ = stieltjes(P(1)*w,z)\n",
    "\n",
    "n = 5\n",
    "u = L(z)[1:n,1:n] \\ [μ₀; μ₁; zeros(n-2)]"
   ]
  },
  {
   "cell_type": "markdown",
   "metadata": {},
   "source": [
    "This works great on or near the interval:"
   ]
  },
  {
   "cell_type": "code",
   "execution_count": 26,
   "metadata": {},
   "outputs": [
    {
     "data": {
      "text/plain": [
       "100-element Array{Complex{Float64},1}:\n",
       "  0.20067069546215124 - 3.1415926535897927im  \n",
       "  -1.9799329304537843 - 0.3141592653589794im  \n",
       "  -0.3973252872991432 + 1.5236724369910486im  \n",
       "   1.2537344057526651 + 0.4633849164044942im  \n",
       "   0.5173974864810735 - 1.0616619673724992im  \n",
       "  -0.9098559770355384 - 0.561807087250645im   \n",
       "   -0.597971501190743 + 0.7817203401477975im  \n",
       "   0.6688247015236087 + 0.6267255665280007im  \n",
       "   0.6486296950775765 - 0.5664942539053223im  \n",
       "  -0.4719919033952208 - 0.66409386265145im    \n",
       "  -0.6734451872149104 + 0.38366699461101433im \n",
       "   0.3005167400728086 + 0.6769672104725115im  \n",
       "   0.6749237967942893 - 0.22194269638619826im \n",
       "                      ⋮                       \n",
       "  0.14184941367271484 + 0.22634421744973532im \n",
       "  0.23805329322050453 - 0.11784046844462849im \n",
       " -0.09292715409138425 - 0.24726644153539204im \n",
       " -0.25392063603186216 + 0.06736395129918642im \n",
       "  0.04140894981448789 + 0.25797833139669324im \n",
       "  0.25942757082257345 - 0.015321337512756154im\n",
       "  0.01064109831526331 - 0.25828184927001063im \n",
       " -0.25457973578066756 - 0.0362244339474118im  \n",
       " -0.06118101347250797 + 0.2483842603359941im  \n",
       "  0.23978207293736778 + 0.0852717719941878im  \n",
       "   0.1082684564195096 - 0.22888238468066074im \n",
       "  -0.2158157025898757 - 0.12995572357211532im "
      ]
     },
     "execution_count": 26,
     "metadata": {},
     "output_type": "execute_result"
    }
   ],
   "source": [
    "z = 0.1+eps()im\n",
    "\n",
    "μ₀ = stieltjes(P(0)*w,z)\n",
    "μ₁ = stieltjes(P(1)*w,z)\n",
    "\n",
    "n = 100\n",
    "u = L(z)[1:n,1:n] \\ [μ₀; μ₁; zeros(n-2)]"
   ]
  },
  {
   "cell_type": "code",
   "execution_count": 27,
   "metadata": {},
   "outputs": [
    {
     "data": {
      "text/plain": [
       "2.7755575615628914e-17 + 1.1102230246251565e-16im"
      ]
     },
     "execution_count": 27,
     "metadata": {},
     "output_type": "execute_result"
    }
   ],
   "source": [
    "stieltjes(P(n-1),z)-u[end]"
   ]
  },
  {
   "cell_type": "markdown",
   "metadata": {},
   "source": [
    "Note this is _much_ better than quadrature:"
   ]
  },
  {
   "cell_type": "code",
   "execution_count": 28,
   "metadata": {},
   "outputs": [
    {
     "name": "stdout",
     "output_type": "stream",
     "text": [
      "  0.000079 seconds (31 allocations: 6.375 KiB)\n",
      "  0.067869 seconds (819 allocations: 24.827 MiB, 26.75% gc time)\n",
      "abs(sum(P(n - 1) / (z - x)) - μ) = 4.392606376355813e-14\n",
      "  1.357889 seconds (2.46 M allocations: 128.622 MiB, 5.79% gc time)\n",
      "abs((quadgk((x->begin\n",
      "                    #= In[28]:6 =#\n",
      "                    (P(n - 1))(x) / (z - x)\n",
      "                end), -1, 1))[1] - μ) = 4.3885418357208767e-16\n"
     ]
    }
   ],
   "source": [
    "z=0.1+0.001im\n",
    "@time μ=stieltjes(P(n-1),z)\n",
    "@time sum(P(n-1)/(z-x))\n",
    "@show abs(sum(P(n-1)/(z-x))-μ)\n",
    "@time quadgk(x->P(n-1)(x)/(z-x),-1,1)\n",
    "@show abs(quadgk(x->P(n-1)(x)/(z-x),-1,1)[1] - μ);"
   ]
  },
  {
   "cell_type": "markdown",
   "metadata": {},
   "source": [
    "Unfortunately, this breaks down for large $z$:"
   ]
  },
  {
   "cell_type": "code",
   "execution_count": 29,
   "metadata": {},
   "outputs": [
    {
     "data": {
      "text/plain": [
       "100-element Array{Float64,1}:\n",
       "      0.020000666706669522  \n",
       "      6.667066695240317e-5  \n",
       "      2.6668952571412785e-7 \n",
       "      1.142984085868605e-9  \n",
       "      5.0707414099784735e-12\n",
       "     -1.6538148987588797e-12\n",
       "     -3.074250159474433e-10 \n",
       "     -5.709179969175481e-8  \n",
       "     -1.0704443445315075e-5 \n",
       "     -0.002021899680293121  \n",
       "     -0.38415130525659225   \n",
       "    -73.33613836745825      \n",
       " -14055.741048399677        \n",
       "      ⋮                     \n",
       "     -3.9496900117655246e178\n",
       "     -7.854805097786174e180 \n",
       "     -1.5621944002918002e183\n",
       "     -3.1071441442662403e185\n",
       "     -6.180360461213906e187 \n",
       "     -1.2293958060198338e190\n",
       "     -2.445651787132766e192 \n",
       "     -4.865438225763328e194 \n",
       "     -9.679952785716854e196 \n",
       "     -1.925963071583903e199 \n",
       "     -3.8321776469863156e201\n",
       "     -7.625455777961642e203 "
      ]
     },
     "execution_count": 29,
     "metadata": {},
     "output_type": "execute_result"
    }
   ],
   "source": [
    "z = 100.0\n",
    "\n",
    "μ₀ = stieltjes(P(0)*w,z)\n",
    "μ₁ = stieltjes(P(1)*w,z)\n",
    "\n",
    "n = 100\n",
    "u = L(z)[1:n,1:n] \\ [μ₀; μ₁; zeros(n-2)]"
   ]
  },
  {
   "cell_type": "code",
   "execution_count": 30,
   "metadata": {},
   "outputs": [
    {
     "data": {
      "text/plain": [
       "0.0"
      ]
     },
     "execution_count": 30,
     "metadata": {},
     "output_type": "execute_result"
    }
   ],
   "source": [
    "stieltjes(P(n-1), z)"
   ]
  },
  {
   "cell_type": "markdown",
   "metadata": {},
   "source": [
    "But note that the true stieltjes is in $\\ell^2$:"
   ]
  },
  {
   "cell_type": "code",
   "execution_count": 31,
   "metadata": {},
   "outputs": [
    {
     "data": {
      "text/plain": [
       "0.020000777828880434"
      ]
     },
     "execution_count": 31,
     "metadata": {},
     "output_type": "execute_result"
    }
   ],
   "source": [
    "[stieltjes(P(k), z) for k=0:100] |> norm"
   ]
  },
  {
   "cell_type": "markdown",
   "metadata": {},
   "source": [
    "Thus we can solve it using one boundary condition:"
   ]
  },
  {
   "cell_type": "code",
   "execution_count": 32,
   "metadata": {},
   "outputs": [
    {
     "data": {
      "text/plain": [
       "InterlaceOperator : SequenceSpace() → 2-element ArraySpace:\n",
       "Space[ConstantSpace, SequenceSpace()]\n",
       " 1.0                    0.0                  …     0.0                 ⋯\n",
       " 0.3333333333333333  -100.0                        0.0                 ⋱\n",
       " 0.0                    0.39999999999999997        0.0                 ⋱\n",
       " 0.0                    0.0                        0.0                 ⋱\n",
       " 0.0                    0.0                        0.0                 ⋱\n",
       " 0.0                    0.0                  …     0.0                 ⋱\n",
       " 0.0                    0.0                        0.0                 ⋱\n",
       " 0.0                    0.0                        0.0                 ⋱\n",
       " 0.0                    0.0                        0.5294117647058824  ⋱\n",
       " 0.0                    0.0                     -100.0                 ⋱\n",
       "  ⋮                      ⋱                   …      ⋱                  ⋱"
      ]
     },
     "execution_count": 32,
     "metadata": {},
     "output_type": "execute_result"
    }
   ],
   "source": [
    "T = z -> [BasisFunctional(1);\n",
    "    SpaceOperator(transpose(J - z*I)[2:end,:],ℓ⁰,ℓ⁰)]\n",
    "T(z)"
   ]
  },
  {
   "cell_type": "code",
   "execution_count": 38,
   "metadata": {},
   "outputs": [
    {
     "data": {
      "text/plain": [
       "100-element Array{Float64,1}:\n",
       " 0.020000666706669522   \n",
       " 6.667066695240317e-5   \n",
       " 2.666895257144473e-7   \n",
       " 1.1429841391064577e-9  \n",
       " 5.080057794657254e-12  \n",
       " 2.3091753139353408e-14 \n",
       " 1.065800004129641e-16  \n",
       " 4.973858189823564e-19  \n",
       " 2.3406978482382525e-21 \n",
       " 1.1087794019770231e-23 \n",
       " 5.280034191637557e-26  \n",
       " 2.525296987630347e-28  \n",
       " 1.2121729040401978e-30 \n",
       " ⋮                      \n",
       " 6.09287145569266e-206  \n",
       " 3.0294922753741863e-208\n",
       " 1.5064150369499735e-210\n",
       " 7.491103591762882e-213 \n",
       " 3.7253987099462816e-215\n",
       " 1.852784717942273e-217 \n",
       " 9.215138511587441e-220 \n",
       " 4.583560451533549e-222 \n",
       " 2.2799627188325937e-224\n",
       " 1.1341636567013033e-226\n",
       " 5.6421734618294046e-229\n",
       " 2.806910415683975e-231 "
      ]
     },
     "execution_count": 38,
     "metadata": {},
     "output_type": "execute_result"
    }
   ],
   "source": [
    "z = 100.0\n",
    "\n",
    "μ₀ = stieltjes(P(0)*w,z)        \n",
    "        \n",
    "n = 100\n",
    "u = T(z)[1:n,1:n] \\ [μ₀;zeros(n-1)]"
   ]
  },
  {
   "cell_type": "code",
   "execution_count": 39,
   "metadata": {},
   "outputs": [
    {
     "data": {
      "text/plain": [
       "5.739713219974347e-23"
      ]
     },
     "execution_count": 39,
     "metadata": {},
     "output_type": "execute_result"
    }
   ],
   "source": [
    "norm(u - [stieltjes(P(k), z) for k=0:n-1])"
   ]
  },
  {
   "cell_type": "markdown",
   "metadata": {},
   "source": [
    "In practice, this can be determined adaptively using adaptive QR or F.W.J. Olver's algorithm (adaptive Gaussian elimination), but that's getting away.\n",
    "\n",
    "Thus we have this algorithm:\n",
    "\n",
    "1. If $z$ is close to $[-1,1]$ (where closed depends on $n$), solve a lower triangular system using forward recurrence.\n",
    "2. If $z$ is far from $[-1,1]$, solve a tridiagonal system using adaptive QR."
   ]
  },
  {
   "cell_type": "markdown",
   "metadata": {},
   "source": [
    "## Dual numbers and \"Log numbers\"\n",
    "\n",
    "We want to capture the behaviour of the singularities to set up a collocation system:"
   ]
  },
  {
   "cell_type": "code",
   "execution_count": 40,
   "metadata": {},
   "outputs": [
    {
     "data": {
      "text/plain": [
       "35.85252983289078"
      ]
     },
     "execution_count": 40,
     "metadata": {},
     "output_type": "execute_result"
    }
   ],
   "source": [
    "f = Fun(exp, -1..1)\n",
    "stieltjes(f, 1.000001)"
   ]
  },
  {
   "cell_type": "code",
   "execution_count": 41,
   "metadata": {},
   "outputs": [
    {
     "data": {
      "text/plain": [
       "35.852495347781634 - 4.269828356622018im"
      ]
     },
     "execution_count": 41,
     "metadata": {},
     "output_type": "execute_result"
    }
   ],
   "source": [
    "stieltjes(f, 1+0.000001im)"
   ]
  },
  {
   "cell_type": "markdown",
   "metadata": {},
   "source": [
    "The value has a \"log part\" which blows up, and a \"finite part\" that depends on the angle of approach. How do we represent this on a computer?\n",
    "\n",
    "For inspiration, we use dual numbers:"
   ]
  },
  {
   "cell_type": "code",
   "execution_count": 42,
   "metadata": {},
   "outputs": [
    {
     "data": {
      "text/plain": [
       "0.5403023058681398 - 1.682941969615793ɛ"
      ]
     },
     "execution_count": 42,
     "metadata": {},
     "output_type": "execute_result"
    }
   ],
   "source": [
    "x = dual(1,2)\n",
    "cos(x)"
   ]
  },
  {
   "cell_type": "code",
   "execution_count": 43,
   "metadata": {},
   "outputs": [
    {
     "data": {
      "text/plain": [
       "(0.5403023058681398, -1.682941969615793)"
      ]
     },
     "execution_count": 43,
     "metadata": {},
     "output_type": "execute_result"
    }
   ],
   "source": [
    "cos(1), -2sin(1)"
   ]
  },
  {
   "cell_type": "code",
   "execution_count": 44,
   "metadata": {},
   "outputs": [
    {
     "data": {
      "text/plain": [
       "0.8575532158463934 + 0.8656973695406469ɛ"
      ]
     },
     "execution_count": 44,
     "metadata": {},
     "output_type": "execute_result"
    }
   ],
   "source": [
    "cos(cos(x))"
   ]
  },
  {
   "cell_type": "code",
   "execution_count": 45,
   "metadata": {},
   "outputs": [
    {
     "data": {
      "text/plain": [
       "(0.8575532158463934, 0.8656973695406469)"
      ]
     },
     "execution_count": 45,
     "metadata": {},
     "output_type": "execute_result"
    }
   ],
   "source": [
    "cos(cos(1)), 2sin(cos(1))*sin(1)"
   ]
  },
  {
   "cell_type": "markdown",
   "metadata": {},
   "source": [
    "This is _not_ numerical differentation: it is numerically stable."
   ]
  },
  {
   "cell_type": "code",
   "execution_count": 46,
   "metadata": {},
   "outputs": [
    {
     "data": {
      "text/plain": [
       "0.16885248872798114 + 0.007397239571120209ɛ"
      ]
     },
     "execution_count": 46,
     "metadata": {},
     "output_type": "execute_result"
    }
   ],
   "source": [
    "# cos^n(x)\n",
    "n = 100\n",
    "ret = sin(x)\n",
    "for k=1:n-1\n",
    "    ret = sin(ret)\n",
    "end\n",
    "ret"
   ]
  },
  {
   "cell_type": "code",
   "execution_count": 47,
   "metadata": {},
   "outputs": [
    {
     "data": {
      "text/plain": [
       "-3.469446951953614e-18"
      ]
     },
     "execution_count": 47,
     "metadata": {},
     "output_type": "execute_result"
    }
   ],
   "source": [
    "dualpart(ret) - 2*0.0036986197855601063"
   ]
  },
  {
   "cell_type": "markdown",
   "metadata": {},
   "source": [
    "The direction can be complex as well:"
   ]
  },
  {
   "cell_type": "code",
   "execution_count": 48,
   "metadata": {},
   "outputs": [
    {
     "data": {
      "text/plain": [
       "0.5403023058681398 - 0.0im + 0.0ɛ - 0.8414709848078965imɛ"
      ]
     },
     "execution_count": 48,
     "metadata": {},
     "output_type": "execute_result"
    }
   ],
   "source": [
    "cos(dual(1.0,im))"
   ]
  },
  {
   "cell_type": "code",
   "execution_count": 49,
   "metadata": {},
   "outputs": [
    {
     "data": {
      "text/plain": [
       "0.0 + 1.0im + 0.5ɛ + 0.0imɛ"
      ]
     },
     "execution_count": 49,
     "metadata": {},
     "output_type": "execute_result"
    }
   ],
   "source": [
    "sqrt(dual(-1.0+0im,im))"
   ]
  },
  {
   "cell_type": "code",
   "execution_count": 50,
   "metadata": {},
   "outputs": [
    {
     "data": {
      "text/plain": [
       "0.0 - 1.0im + 0.5ɛ + 0.0imɛ"
      ]
     },
     "execution_count": 50,
     "metadata": {},
     "output_type": "execute_result"
    }
   ],
   "source": [
    "sqrt(dual(-1.0-0im,-im))"
   ]
  },
  {
   "cell_type": "code",
   "execution_count": 51,
   "metadata": {},
   "outputs": [
    {
     "data": {
      "text/plain": [
       "Dual{Float64}(-Inf,Inf)"
      ]
     },
     "execution_count": 51,
     "metadata": {},
     "output_type": "execute_result"
    }
   ],
   "source": [
    "log(dual(0.0,1.0))"
   ]
  },
  {
   "cell_type": "markdown",
   "metadata": {},
   "source": [
    "We use a dual-like number to annotate a number with a direction. When evaluated on a logarithmic singularity, it returns a \"Log number\", which represents local logarithmic behaviour of a function $f(z)$ by two numbers $a$ and $b$ so that\n",
    "$$\n",
    "f(c + hd) \\sim a \\log h + b\n",
    "$$"
   ]
  },
  {
   "cell_type": "code",
   "execution_count": 52,
   "metadata": {},
   "outputs": [
    {
     "data": {
      "text/plain": [
       "(1.0 + 0.0im)log ε + 0.0 + 0.0im"
      ]
     },
     "execution_count": 52,
     "metadata": {},
     "output_type": "execute_result"
    }
   ],
   "source": [
    "log(RiemannDual(0.0,1.0))"
   ]
  },
  {
   "cell_type": "code",
   "execution_count": 53,
   "metadata": {},
   "outputs": [
    {
     "data": {
      "text/plain": [
       "(1.0 + 0.0im)log ε + 0.0 + 1.5707963267948966im"
      ]
     },
     "execution_count": 53,
     "metadata": {},
     "output_type": "execute_result"
    }
   ],
   "source": [
    "l = log(RiemannDual(0.0,im))"
   ]
  },
  {
   "cell_type": "code",
   "execution_count": 54,
   "metadata": {},
   "outputs": [
    {
     "data": {
      "text/plain": [
       "-11.512925464970229 + 1.5707963267948966im"
      ]
     },
     "execution_count": 54,
     "metadata": {},
     "output_type": "execute_result"
    }
   ],
   "source": [
    "h = 0.00001\n",
    "logpart(l)*log(h) + finitepart(l)"
   ]
  },
  {
   "cell_type": "code",
   "execution_count": 55,
   "metadata": {},
   "outputs": [
    {
     "data": {
      "text/plain": [
       "29.593415861168136 - 4.269867111336779im"
      ]
     },
     "execution_count": 55,
     "metadata": {},
     "output_type": "execute_result"
    }
   ],
   "source": [
    "l = stieltjes(f, RiemannDual(1.0,im))\n",
    "\n",
    "l(h)"
   ]
  },
  {
   "cell_type": "code",
   "execution_count": 56,
   "metadata": {},
   "outputs": [
    {
     "data": {
      "text/plain": [
       "29.59345855815111 - 4.269542154749188im"
      ]
     },
     "execution_count": 56,
     "metadata": {},
     "output_type": "execute_result"
    }
   ],
   "source": [
    "stieltjes(f, 1.0 + im*h)"
   ]
  },
  {
   "cell_type": "markdown",
   "metadata": {},
   "source": [
    "## Zero-sum condition\n",
    "\n",
    "When we have contours meeting at a junction, it's possible for the logarithmic singularities to cancel. This is the case if they satisfy the \"zero-sum condition\": that the values of the limits sum to zero. \n",
    "\n",
    "Here's a simple example of two contours who have 0 as a joint junction point:"
   ]
  },
  {
   "cell_type": "code",
   "execution_count": 57,
   "metadata": {},
   "outputs": [
    {
     "data": {
      "image/svg+xml": [
       "<?xml version=\"1.0\" encoding=\"utf-8\"?>\n",
       "<svg xmlns=\"http://www.w3.org/2000/svg\" xmlns:xlink=\"http://www.w3.org/1999/xlink\" width=\"600\" height=\"400\" viewBox=\"0 0 2400 1600\">\n",
       "<defs>\n",
       "  <clipPath id=\"clip6400\">\n",
       "    <rect x=\"0\" y=\"0\" width=\"2400\" height=\"1600\"/>\n",
       "  </clipPath>\n",
       "</defs>\n",
       "<polygon clip-path=\"url(#clip6400)\" points=\"\n",
       "0,1600 2400,1600 2400,0 0,0 \n",
       "  \" fill=\"#ffffff\" fill-rule=\"evenodd\" fill-opacity=\"1\"/>\n",
       "<defs>\n",
       "  <clipPath id=\"clip6401\">\n",
       "    <rect x=\"480\" y=\"0\" width=\"1681\" height=\"1600\"/>\n",
       "  </clipPath>\n",
       "</defs>\n",
       "<polygon clip-path=\"url(#clip6400)\" points=\"\n",
       "141.865,1487.47 2352.76,1487.47 2352.76,47.2441 141.865,47.2441 \n",
       "  \" fill=\"#ffffff\" fill-rule=\"evenodd\" fill-opacity=\"1\"/>\n",
       "<defs>\n",
       "  <clipPath id=\"clip6402\">\n",
       "    <rect x=\"141\" y=\"47\" width=\"2212\" height=\"1441\"/>\n",
       "  </clipPath>\n",
       "</defs>\n",
       "<polyline clip-path=\"url(#clip6402)\" style=\"stroke:#000000; stroke-width:2; stroke-opacity:0.1; fill:none\" points=\"\n",
       "  141.865,1487.47 141.865,47.2441 \n",
       "  \"/>\n",
       "<polyline clip-path=\"url(#clip6402)\" style=\"stroke:#000000; stroke-width:2; stroke-opacity:0.1; fill:none\" points=\"\n",
       "  694.587,1487.47 694.587,47.2441 \n",
       "  \"/>\n",
       "<polyline clip-path=\"url(#clip6402)\" style=\"stroke:#000000; stroke-width:2; stroke-opacity:0.1; fill:none\" points=\"\n",
       "  1247.31,1487.47 1247.31,47.2441 \n",
       "  \"/>\n",
       "<polyline clip-path=\"url(#clip6402)\" style=\"stroke:#000000; stroke-width:2; stroke-opacity:0.1; fill:none\" points=\"\n",
       "  1800.03,1487.47 1800.03,47.2441 \n",
       "  \"/>\n",
       "<polyline clip-path=\"url(#clip6402)\" style=\"stroke:#000000; stroke-width:2; stroke-opacity:0.1; fill:none\" points=\"\n",
       "  2352.76,1487.47 2352.76,47.2441 \n",
       "  \"/>\n",
       "<polyline clip-path=\"url(#clip6402)\" style=\"stroke:#000000; stroke-width:2; stroke-opacity:0.1; fill:none\" points=\"\n",
       "  141.865,1487.47 2352.76,1487.47 \n",
       "  \"/>\n",
       "<polyline clip-path=\"url(#clip6402)\" style=\"stroke:#000000; stroke-width:2; stroke-opacity:0.1; fill:none\" points=\"\n",
       "  141.865,1127.42 2352.76,1127.42 \n",
       "  \"/>\n",
       "<polyline clip-path=\"url(#clip6402)\" style=\"stroke:#000000; stroke-width:2; stroke-opacity:0.1; fill:none\" points=\"\n",
       "  141.865,767.359 2352.76,767.359 \n",
       "  \"/>\n",
       "<polyline clip-path=\"url(#clip6402)\" style=\"stroke:#000000; stroke-width:2; stroke-opacity:0.1; fill:none\" points=\"\n",
       "  141.865,407.302 2352.76,407.302 \n",
       "  \"/>\n",
       "<polyline clip-path=\"url(#clip6402)\" style=\"stroke:#000000; stroke-width:2; stroke-opacity:0.1; fill:none\" points=\"\n",
       "  141.865,47.2441 2352.76,47.2441 \n",
       "  \"/>\n",
       "<polyline clip-path=\"url(#clip6400)\" style=\"stroke:#000000; stroke-width:4; stroke-opacity:1; fill:none\" points=\"\n",
       "  141.865,1487.47 2352.76,1487.47 \n",
       "  \"/>\n",
       "<polyline clip-path=\"url(#clip6400)\" style=\"stroke:#000000; stroke-width:4; stroke-opacity:1; fill:none\" points=\"\n",
       "  141.865,1487.47 141.865,47.2441 \n",
       "  \"/>\n",
       "<polyline clip-path=\"url(#clip6400)\" style=\"stroke:#000000; stroke-width:4; stroke-opacity:1; fill:none\" points=\"\n",
       "  141.865,1487.47 141.865,1465.87 \n",
       "  \"/>\n",
       "<polyline clip-path=\"url(#clip6400)\" style=\"stroke:#000000; stroke-width:4; stroke-opacity:1; fill:none\" points=\"\n",
       "  694.587,1487.47 694.587,1465.87 \n",
       "  \"/>\n",
       "<polyline clip-path=\"url(#clip6400)\" style=\"stroke:#000000; stroke-width:4; stroke-opacity:1; fill:none\" points=\"\n",
       "  1247.31,1487.47 1247.31,1465.87 \n",
       "  \"/>\n",
       "<polyline clip-path=\"url(#clip6400)\" style=\"stroke:#000000; stroke-width:4; stroke-opacity:1; fill:none\" points=\"\n",
       "  1800.03,1487.47 1800.03,1465.87 \n",
       "  \"/>\n",
       "<polyline clip-path=\"url(#clip6400)\" style=\"stroke:#000000; stroke-width:4; stroke-opacity:1; fill:none\" points=\"\n",
       "  2352.76,1487.47 2352.76,1465.87 \n",
       "  \"/>\n",
       "<polyline clip-path=\"url(#clip6400)\" style=\"stroke:#000000; stroke-width:4; stroke-opacity:1; fill:none\" points=\"\n",
       "  141.865,1487.47 175.028,1487.47 \n",
       "  \"/>\n",
       "<polyline clip-path=\"url(#clip6400)\" style=\"stroke:#000000; stroke-width:4; stroke-opacity:1; fill:none\" points=\"\n",
       "  141.865,1127.42 175.028,1127.42 \n",
       "  \"/>\n",
       "<polyline clip-path=\"url(#clip6400)\" style=\"stroke:#000000; stroke-width:4; stroke-opacity:1; fill:none\" points=\"\n",
       "  141.865,767.359 175.028,767.359 \n",
       "  \"/>\n",
       "<polyline clip-path=\"url(#clip6400)\" style=\"stroke:#000000; stroke-width:4; stroke-opacity:1; fill:none\" points=\"\n",
       "  141.865,407.302 175.028,407.302 \n",
       "  \"/>\n",
       "<polyline clip-path=\"url(#clip6400)\" style=\"stroke:#000000; stroke-width:4; stroke-opacity:1; fill:none\" points=\"\n",
       "  141.865,47.2441 175.028,47.2441 \n",
       "  \"/>\n",
       "<g clip-path=\"url(#clip6400)\">\n",
       "<text style=\"fill:#000000; fill-opacity:1; font-family:Arial,Helvetica Neue,Helvetica,sans-serif; font-size:48px; text-anchor:middle;\" transform=\"rotate(0, 141.865, 1541.47)\" x=\"141.865\" y=\"1541.47\">-2</text>\n",
       "</g>\n",
       "<g clip-path=\"url(#clip6400)\">\n",
       "<text style=\"fill:#000000; fill-opacity:1; font-family:Arial,Helvetica Neue,Helvetica,sans-serif; font-size:48px; text-anchor:middle;\" transform=\"rotate(0, 694.587, 1541.47)\" x=\"694.587\" y=\"1541.47\">-1</text>\n",
       "</g>\n",
       "<g clip-path=\"url(#clip6400)\">\n",
       "<text style=\"fill:#000000; fill-opacity:1; font-family:Arial,Helvetica Neue,Helvetica,sans-serif; font-size:48px; text-anchor:middle;\" transform=\"rotate(0, 1247.31, 1541.47)\" x=\"1247.31\" y=\"1541.47\">0</text>\n",
       "</g>\n",
       "<g clip-path=\"url(#clip6400)\">\n",
       "<text style=\"fill:#000000; fill-opacity:1; font-family:Arial,Helvetica Neue,Helvetica,sans-serif; font-size:48px; text-anchor:middle;\" transform=\"rotate(0, 1800.03, 1541.47)\" x=\"1800.03\" y=\"1541.47\">1</text>\n",
       "</g>\n",
       "<g clip-path=\"url(#clip6400)\">\n",
       "<text style=\"fill:#000000; fill-opacity:1; font-family:Arial,Helvetica Neue,Helvetica,sans-serif; font-size:48px; text-anchor:middle;\" transform=\"rotate(0, 2352.76, 1541.47)\" x=\"2352.76\" y=\"1541.47\">2</text>\n",
       "</g>\n",
       "<g clip-path=\"url(#clip6400)\">\n",
       "<text style=\"fill:#000000; fill-opacity:1; font-family:Arial,Helvetica Neue,Helvetica,sans-serif; font-size:48px; text-anchor:end;\" transform=\"rotate(0, 117.865, 1504.97)\" x=\"117.865\" y=\"1504.97\">-2</text>\n",
       "</g>\n",
       "<g clip-path=\"url(#clip6400)\">\n",
       "<text style=\"fill:#000000; fill-opacity:1; font-family:Arial,Helvetica Neue,Helvetica,sans-serif; font-size:48px; text-anchor:end;\" transform=\"rotate(0, 117.865, 1144.92)\" x=\"117.865\" y=\"1144.92\">-1</text>\n",
       "</g>\n",
       "<g clip-path=\"url(#clip6400)\">\n",
       "<text style=\"fill:#000000; fill-opacity:1; font-family:Arial,Helvetica Neue,Helvetica,sans-serif; font-size:48px; text-anchor:end;\" transform=\"rotate(0, 117.865, 784.859)\" x=\"117.865\" y=\"784.859\">0</text>\n",
       "</g>\n",
       "<g clip-path=\"url(#clip6400)\">\n",
       "<text style=\"fill:#000000; fill-opacity:1; font-family:Arial,Helvetica Neue,Helvetica,sans-serif; font-size:48px; text-anchor:end;\" transform=\"rotate(0, 117.865, 424.802)\" x=\"117.865\" y=\"424.802\">1</text>\n",
       "</g>\n",
       "<g clip-path=\"url(#clip6400)\">\n",
       "<text style=\"fill:#000000; fill-opacity:1; font-family:Arial,Helvetica Neue,Helvetica,sans-serif; font-size:48px; text-anchor:end;\" transform=\"rotate(0, 117.865, 64.7441)\" x=\"117.865\" y=\"64.7441\">2</text>\n",
       "</g>\n",
       "<polyline clip-path=\"url(#clip6402)\" style=\"stroke:#009af9; stroke-width:4; stroke-opacity:1; fill:none\" points=\"\n",
       "  1799.92,767.359 1799.06,767.359 1797.32,767.359 1794.72,767.359 1791.27,767.359 1786.98,767.359 1781.86,767.359 1775.93,767.359 1769.2,767.359 1761.71,767.359 \n",
       "  1753.46,767.359 1744.49,767.359 1734.82,767.359 1724.49,767.359 1713.53,767.359 1701.97,767.359 1689.85,767.359 1677.21,767.359 1664.08,767.359 1650.52,767.359 \n",
       "  1636.55,767.359 1622.23,767.359 1607.6,767.359 1592.7,767.359 1577.59,767.359 1562.3,767.359 1546.9,767.359 1531.42,767.359 1515.92,767.359 1500.44,767.359 \n",
       "  1485.04,767.359 1469.76,767.359 1454.64,767.359 1439.75,767.359 1425.12,767.359 1410.79,767.359 1396.83,767.359 1383.26,767.359 1370.13,767.359 1357.49,767.359 \n",
       "  1345.37,767.359 1333.81,767.359 1322.85,767.359 1312.52,767.359 1302.86,767.359 1293.89,767.359 1285.64,767.359 1278.14,767.359 1271.41,767.359 1265.48,767.359 \n",
       "  1260.36,767.359 1256.07,767.359 1252.62,767.359 1250.02,767.359 1248.29,767.359 1247.42,767.359 \n",
       "  \"/>\n",
       "<polyline clip-path=\"url(#clip6402)\" style=\"stroke:#009af9; stroke-width:4; stroke-opacity:1; fill:none\" points=\"\n",
       "  1247.31,407.373 1247.31,407.939 1247.31,409.069 1247.31,410.761 1247.31,413.008 1247.31,415.804 1247.31,419.139 1247.31,423.003 1247.31,427.385 1247.31,432.269 \n",
       "  1247.31,437.642 1247.31,443.486 1247.31,449.782 1247.31,456.511 1247.31,463.651 1247.31,471.181 1247.31,479.076 1247.31,487.312 1247.31,495.862 1247.31,504.701 \n",
       "  1247.31,513.799 1247.31,523.128 1247.31,532.66 1247.31,542.364 1247.31,552.209 1247.31,562.164 1247.31,572.199 1247.31,582.281 1247.31,592.38 1247.31,602.462 \n",
       "  1247.31,612.497 1247.31,622.452 1247.31,632.298 1247.31,642.001 1247.31,651.533 1247.31,660.862 1247.31,669.961 1247.31,678.799 1247.31,687.349 1247.31,695.585 \n",
       "  1247.31,703.48 1247.31,711.01 1247.31,718.15 1247.31,724.879 1247.31,731.176 1247.31,737.019 1247.31,742.392 1247.31,747.276 1247.31,751.658 1247.31,755.522 \n",
       "  1247.31,758.858 1247.31,761.653 1247.31,763.9 1247.31,765.592 1247.31,766.722 1247.31,767.289 \n",
       "  \"/>\n",
       "<polygon clip-path=\"url(#clip6400)\" points=\"\n",
       "1989.93,251.724 2280.76,251.724 2280.76,130.764 1989.93,130.764 \n",
       "  \" fill=\"#ffffff\" fill-rule=\"evenodd\" fill-opacity=\"1\"/>\n",
       "<polyline clip-path=\"url(#clip6400)\" style=\"stroke:#000000; stroke-width:4; stroke-opacity:1; fill:none\" points=\"\n",
       "  1989.93,251.724 2280.76,251.724 2280.76,130.764 1989.93,130.764 1989.93,251.724 \n",
       "  \"/>\n",
       "<polyline clip-path=\"url(#clip6400)\" style=\"stroke:#009af9; stroke-width:4; stroke-opacity:1; fill:none\" points=\"\n",
       "  2013.93,191.244 2157.93,191.244 \n",
       "  \"/>\n",
       "<g clip-path=\"url(#clip6400)\">\n",
       "<text style=\"fill:#000000; fill-opacity:1; font-family:Arial,Helvetica Neue,Helvetica,sans-serif; font-size:48px; text-anchor:start;\" transform=\"rotate(0, 2181.93, 208.744)\" x=\"2181.93\" y=\"208.744\">y1</text>\n",
       "</g>\n",
       "</svg>\n"
      ]
     },
     "execution_count": 57,
     "metadata": {},
     "output_type": "execute_result"
    }
   ],
   "source": [
    "Γ = Segment(0,1) ∪ Segment(0, im)\n",
    "\n",
    "plot(Γ;xlims=(-2,2),ylims=(-2,2))"
   ]
  },
  {
   "cell_type": "markdown",
   "metadata": {},
   "source": [
    "And here's a function that satisfies the zero-sum condition:"
   ]
  },
  {
   "cell_type": "code",
   "execution_count": 58,
   "metadata": {},
   "outputs": [
    {
     "data": {
      "text/plain": [
       "-5.551115123125783e-16 + 0.0im"
      ]
     },
     "execution_count": 58,
     "metadata": {},
     "output_type": "execute_result"
    }
   ],
   "source": [
    "f = Fun(z -> angle(z) == 0 ? exp(z) : -cos(abs(z)), Γ)\n",
    "f₁, f₂ = pieces(f)\n",
    "first(f₁) + first(f₂)"
   ]
  },
  {
   "cell_type": "markdown",
   "metadata": {},
   "source": [
    "It's Stieltjes transform does not blow up near zero:"
   ]
  },
  {
   "cell_type": "code",
   "execution_count": 59,
   "metadata": {},
   "outputs": [
    {
     "data": {
      "image/png": "[encoded data removed]",
      "text/plain": [
       "200×200 Array{RGB{Float64},2} with eltype RGB{Float64}:\n",
       " RGB{Float64}(0.0,0.904841,1.0)   …  RGB{Float64}(0.72788,0.0,1.0) \n",
       " RGB{Float64}(0.0,0.914858,1.0)      RGB{Float64}(0.72788,0.0,1.0) \n",
       " RGB{Float64}(0.0,0.914858,1.0)      RGB{Float64}(0.737896,0.0,1.0)\n",
       " RGB{Float64}(0.0,0.924875,1.0)      RGB{Float64}(0.737896,0.0,1.0)\n",
       " RGB{Float64}(0.0,0.924875,1.0)      RGB{Float64}(0.747913,0.0,1.0)\n",
       " RGB{Float64}(0.0,0.934891,1.0)   …  RGB{Float64}(0.747913,0.0,1.0)\n",
       " RGB{Float64}(0.0,0.934891,1.0)      RGB{Float64}(0.75793,0.0,1.0) \n",
       " RGB{Float64}(0.0,0.944908,1.0)      RGB{Float64}(0.75793,0.0,1.0) \n",
       " RGB{Float64}(0.0,0.944908,1.0)      RGB{Float64}(0.767947,0.0,1.0)\n",
       " RGB{Float64}(0.0,0.954925,1.0)      RGB{Float64}(0.777963,0.0,1.0)\n",
       " RGB{Float64}(0.0,0.964942,1.0)   …  RGB{Float64}(0.777963,0.0,1.0)\n",
       " RGB{Float64}(0.0,0.964942,1.0)      RGB{Float64}(0.78798,0.0,1.0) \n",
       " RGB{Float64}(0.0,0.974958,1.0)      RGB{Float64}(0.78798,0.0,1.0) \n",
       " ⋮                                ⋱                                \n",
       " RGB{Float64}(0.0767947,1.0,0.0)     RGB{Float64}(1.0,0.520868,0.0)\n",
       " RGB{Float64}(0.0767947,1.0,0.0)     RGB{Float64}(1.0,0.520868,0.0)\n",
       " RGB{Float64}(0.0868114,1.0,0.0)  …  RGB{Float64}(1.0,0.520868,0.0)\n",
       " RGB{Float64}(0.0868114,1.0,0.0)     RGB{Float64}(1.0,0.530885,0.0)\n",
       " RGB{Float64}(0.0868114,1.0,0.0)     RGB{Float64}(1.0,0.530885,0.0)\n",
       " RGB{Float64}(0.096828,1.0,0.0)      RGB{Float64}(1.0,0.540902,0.0)\n",
       " RGB{Float64}(0.096828,1.0,0.0)      RGB{Float64}(1.0,0.540902,0.0)\n",
       " RGB{Float64}(0.106845,1.0,0.0)   …  RGB{Float64}(1.0,0.550918,0.0)\n",
       " RGB{Float64}(0.106845,1.0,0.0)      RGB{Float64}(1.0,0.550918,0.0)\n",
       " RGB{Float64}(0.116861,1.0,0.0)      RGB{Float64}(1.0,0.550918,0.0)\n",
       " RGB{Float64}(0.116861,1.0,0.0)      RGB{Float64}(1.0,0.560935,0.0)\n",
       " RGB{Float64}(0.116861,1.0,0.0)      RGB{Float64}(1.0,0.560935,0.0)"
      ]
     },
     "execution_count": 59,
     "metadata": {},
     "output_type": "execute_result"
    }
   ],
   "source": [
    "xx = range(-2,2,length=200)\n",
    "Z = xx' .+ im*xx\n",
    "portrait(stieltjes.(f,Z))"
   ]
  },
  {
   "cell_type": "markdown",
   "metadata": {},
   "source": [
    "Each component has a logarithmic singularity:"
   ]
  },
  {
   "cell_type": "code",
   "execution_count": 60,
   "metadata": {},
   "outputs": [
    {
     "data": {
      "text/plain": [
       "-15.133399294132499 + 0.0im"
      ]
     },
     "execution_count": 60,
     "metadata": {},
     "output_type": "execute_result"
    }
   ],
   "source": [
    "stieltjes(f₁, -0.000001)"
   ]
  },
  {
   "cell_type": "code",
   "execution_count": 61,
   "metadata": {},
   "outputs": [
    {
     "data": {
      "text/plain": [
       "13.575698815971109 + 1.5707948403214074im"
      ]
     },
     "execution_count": 61,
     "metadata": {},
     "output_type": "execute_result"
    }
   ],
   "source": [
    "stieltjes(f₂, -0.000001)"
   ]
  },
  {
   "cell_type": "markdown",
   "metadata": {},
   "source": [
    "But these are cancelled when summed together:"
   ]
  },
  {
   "cell_type": "code",
   "execution_count": 62,
   "metadata": {},
   "outputs": [
    {
     "data": {
      "text/plain": [
       "-1.5577004781613901 + 1.5707948403214074im"
      ]
     },
     "execution_count": 62,
     "metadata": {},
     "output_type": "execute_result"
    }
   ],
   "source": [
    "stieltjes(f, -0.000001)"
   ]
  },
  {
   "cell_type": "markdown",
   "metadata": {},
   "source": [
    "This is easy to see with log numbers:"
   ]
  },
  {
   "cell_type": "code",
   "execution_count": 63,
   "metadata": {},
   "outputs": [
    {
     "data": {
      "text/plain": [
       "(1.0000000000000007 + 0.0im)log ε + -1.3179021514543987 + 0.0im"
      ]
     },
     "execution_count": 63,
     "metadata": {},
     "output_type": "execute_result"
    }
   ],
   "source": [
    "stieltjes(f₁, RiemannDual(0,-1))"
   ]
  },
  {
   "cell_type": "code",
   "execution_count": 64,
   "metadata": {
    "scrolled": true
   },
   "outputs": [
    {
     "data": {
      "text/plain": [
       "(-1.0000000000000013 + 0.0im)log ε + -0.23981174200057068 + 1.5707963267948988im"
      ]
     },
     "execution_count": 64,
     "metadata": {},
     "output_type": "execute_result"
    }
   ],
   "source": [
    "stieltjes(f₂, RiemannDual(0,-1))"
   ]
  },
  {
   "cell_type": "code",
   "execution_count": 65,
   "metadata": {},
   "outputs": [
    {
     "data": {
      "text/plain": [
       "(-6.661338147750939e-16 + 0.0im)log ε + -1.5577138934549695 + 1.5707963267948988im"
      ]
     },
     "execution_count": 65,
     "metadata": {},
     "output_type": "execute_result"
    }
   ],
   "source": [
    "stieltjes(f, RiemannDual(0,-1))"
   ]
  },
  {
   "cell_type": "markdown",
   "metadata": {},
   "source": [
    "The value still depends on the angle:"
   ]
  },
  {
   "cell_type": "code",
   "execution_count": 66,
   "metadata": {},
   "outputs": [
    {
     "data": {
      "text/plain": [
       "(-1.5577138934549697 - 4.712388980384695im, -1.5577138934549697 + 1.5707963267948983im)"
      ]
     },
     "execution_count": 66,
     "metadata": {},
     "output_type": "execute_result"
    }
   ],
   "source": [
    "finitepart(stieltjes(f,RiemannDual(0,1+im))),\n",
    "    finitepart(stieltjes(f,RiemannDual(0,-1+im)))"
   ]
  },
  {
   "cell_type": "markdown",
   "metadata": {},
   "source": [
    "## Product condition and cyclic junction condition\n",
    "\n",
    "Now consider a Riemann–Hilbert problem which satisfies the _product condition_. That is, the product of the jumps is I:"
   ]
  },
  {
   "cell_type": "code",
   "execution_count": 67,
   "metadata": {},
   "outputs": [
    {
     "data": {
      "text/plain": [
       "2×2 Array{Complex{Float64},2}:\n",
       "          1.0+0.0im  6.84142e-18+0.0im\n",
       " -6.84142e-18+0.0im          1.0+0.0im"
      ]
     },
     "execution_count": 67,
     "metadata": {},
     "output_type": "execute_result"
    }
   ],
   "source": [
    "G₁, G₂, G₃, G₄ = first.(pieces(G))\n",
    "\n",
    "G₄*G₃*G₂*G₁"
   ]
  },
  {
   "cell_type": "markdown",
   "metadata": {},
   "source": [
    "The _cyclic junction condition_ is a property satisfied by the right-hand side:"
   ]
  },
  {
   "cell_type": "code",
   "execution_count": 68,
   "metadata": {},
   "outputs": [
    {
     "data": {
      "text/plain": [
       "9.675222525179979e-18"
      ]
     },
     "execution_count": 68,
     "metadata": {},
     "output_type": "execute_result"
    }
   ],
   "source": [
    "F = G-I\n",
    "F₁, F₂, F₃, F₄ = first.(pieces(F))\n",
    "\n",
    "F₁*G₂*G₃*G₄ + F₂*G₃*G₄ + F₃*G₄ + F₄   |> norm"
   ]
  },
  {
   "cell_type": "markdown",
   "metadata": {},
   "source": [
    "This is due to a telescoping sum argument. In general, any function `U` that satisfies the zero sum condition has the property that $(I - (G-I)C^-) U $ satisfies the cyclic junction condition.\n",
    "\n",
    "\n",
    "Zero-sum condition also gets us continuity in each sector:"
   ]
  },
  {
   "cell_type": "code",
   "execution_count": 69,
   "metadata": {},
   "outputs": [
    {
     "data": {
      "text/plain": [
       "6.214465357936134e-16"
      ]
     },
     "execution_count": 69,
     "metadata": {},
     "output_type": "execute_result"
    }
   ],
   "source": [
    "z₁, z₂, z₃, z₄ = exp(π*im/6), exp(5π*im/6), exp(-5π*im/6), exp(-π*im/6)\n",
    "\n",
    "U = istieltjes(Φ)\n",
    "U₁, U₂, U₃, U₄ = pieces(U)\n",
    "\n",
    "C₁₊, C₂₊, C₃₊, C₄₊ = finitepart.(\n",
    "        stieltjes(U₁,RiemannDual(0,z₁)⁺) +\n",
    "            stieltjes(U₂,RiemannDual(0,z₁)) +\n",
    "            stieltjes(U₃,RiemannDual(0,z₁)) +\n",
    "            stieltjes(U₄,RiemannDual(0,z₁))  \n",
    "        ) ,\n",
    "        finitepart.(\n",
    "        stieltjes(U₁,RiemannDual(0,z₂)) +\n",
    "            stieltjes(U₂,RiemannDual(0,z₂)⁺) +\n",
    "            stieltjes(U₃,RiemannDual(0,z₂)) +\n",
    "            stieltjes(U₄,RiemannDual(0,z₂))  \n",
    "        ) ,\n",
    "        finitepart.(\n",
    "        stieltjes(U₁,RiemannDual(0,z₃)) +\n",
    "            stieltjes(U₂,RiemannDual(0,z₃)) +\n",
    "            stieltjes(U₃,RiemannDual(0,z₃)⁺) +\n",
    "            stieltjes(U₄,RiemannDual(0,z₃))  \n",
    "        ) ,\n",
    "        finitepart.(\n",
    "        stieltjes(U₁,RiemannDual(0,z₄)) +\n",
    "            stieltjes(U₂,RiemannDual(0,z₄)) +\n",
    "            stieltjes(U₃,RiemannDual(0,z₄)) +\n",
    "            stieltjes(U₄,RiemannDual(0,z₄)⁺)  \n",
    "        ) \n",
    "\n",
    "C₁₋, C₂₋, C₃₋, C₄₋ = finitepart.(\n",
    "            stieltjes(U₁,RiemannDual(0,z₁)⁻) +\n",
    "            stieltjes(U₂,RiemannDual(0,z₁)) +\n",
    "            stieltjes(U₃,RiemannDual(0,z₁)) +\n",
    "            stieltjes(U₄,RiemannDual(0,z₁))  \n",
    "        ) ,\n",
    "        finitepart.(\n",
    "            stieltjes(U₁,RiemannDual(0,z₂)) +\n",
    "            stieltjes(U₂,RiemannDual(0,z₂)⁻) +\n",
    "            stieltjes(U₃,RiemannDual(0,z₂)) +\n",
    "            stieltjes(U₄,RiemannDual(0,z₂))  \n",
    "        ) ,\n",
    "        finitepart.(\n",
    "            stieltjes(U₁,RiemannDual(0,z₃)) +\n",
    "            stieltjes(U₂,RiemannDual(0,z₃)) +\n",
    "            stieltjes(U₃,RiemannDual(0,z₃)⁻) +\n",
    "            stieltjes(U₄,RiemannDual(0,z₃))  \n",
    "        ) ,\n",
    "        finitepart.(\n",
    "            stieltjes(U₁,RiemannDual(0,z₄)) +\n",
    "            stieltjes(U₂,RiemannDual(0,z₄)) +\n",
    "            stieltjes(U₃,RiemannDual(0,z₄)) +\n",
    "            stieltjes(U₄,RiemannDual(0,z₄)⁻)  \n",
    "        ) ;\n",
    "\n",
    "\n",
    "norm(C₁₊ - C₂₋)"
   ]
  },
  {
   "cell_type": "markdown",
   "metadata": {},
   "source": [
    "Thus combined with the cyclical jump condition, we satisfy the jumps:"
   ]
  },
  {
   "cell_type": "code",
   "execution_count": 70,
   "metadata": {},
   "outputs": [
    {
     "data": {
      "text/plain": [
       "true"
      ]
     },
     "execution_count": 70,
     "metadata": {},
     "output_type": "execute_result"
    }
   ],
   "source": [
    "C₄₊ ≈ C₄₋*G₄ + F₄\n",
    "C₄₊ ≈ C₃₊*G₄ + F₄\n",
    "C₄₊ ≈ C₃₋*G₃*G₄ + F₃*G₄ + F₄\n",
    "C₄₊ ≈ C₂₊*G₃*G₄ + F₃*G₄ + F₄\n",
    "C₄₊ ≈ C₁₊*G₂*G₃*G₄ + F₂*G₃*G₄ + F₃*G₄ + F₄\n",
    "C₄₊ ≈ C₁₋*G₁*G₂*G₃*G₄ + F₁*G₂*G₃*G₄ + F₂*G₃*G₄ + F₃*G₄ + F₄"
   ]
  },
  {
   "cell_type": "code",
   "execution_count": 71,
   "metadata": {},
   "outputs": [
    {
     "data": {
      "text/plain": [
       "9.675222525179979e-18"
      ]
     },
     "execution_count": 71,
     "metadata": {},
     "output_type": "execute_result"
    }
   ],
   "source": [
    "norm( F₁*G₂*G₃*G₄ + F₂*G₃*G₄ + F₃*G₄ + F₄)"
   ]
  },
  {
   "cell_type": "markdown",
   "metadata": {},
   "source": [
    "## 2017 v 2023    (Future directions.)\n",
    "\n",
    "\n",
    "President Ivanka Trump.... 😰\n",
    "\n",
    "\n",
    "\n",
    "\n",
    "\n",
    "#### Banded operators\n",
    "\n",
    "Chebyshev singularities lead to banded operators:"
   ]
  },
  {
   "cell_type": "code",
   "execution_count": 72,
   "metadata": {},
   "outputs": [
    {
     "data": {
      "text/plain": [
       "HilbertWrapper : (1-x^2)^-0.5[Chebyshev(the segment [-1.0,1.0])] → Ultraspherical(1,the segment [-1.0,1.0])\n",
       " 0.0  1.0  0.0  0.0  0.0  0.0  0.0  0.0  0.0  0.0  ⋯\n",
       " 0.0  0.0  1.0  0.0  0.0  0.0  0.0  0.0  0.0  0.0  ⋱\n",
       " 0.0  0.0  0.0  1.0  0.0  0.0  0.0  0.0  0.0  0.0  ⋱\n",
       " 0.0  0.0  0.0  0.0  1.0  0.0  0.0  0.0  0.0  0.0  ⋱\n",
       " 0.0  0.0  0.0  0.0  0.0  1.0  0.0  0.0  0.0  0.0  ⋱\n",
       " 0.0  0.0  0.0  0.0  0.0  0.0  1.0  0.0  0.0  0.0  ⋱\n",
       " 0.0  0.0  0.0  0.0  0.0  0.0  0.0  1.0  0.0  0.0  ⋱\n",
       " 0.0  0.0  0.0  0.0  0.0  0.0  0.0  0.0  1.0  0.0  ⋱\n",
       " 0.0  0.0  0.0  0.0  0.0  0.0  0.0  0.0  0.0  1.0  ⋱\n",
       " 0.0  0.0  0.0  0.0  0.0  0.0  0.0  0.0  0.0  0.0  ⋱\n",
       "  ⋮    ⋱    ⋱    ⋱    ⋱    ⋱    ⋱    ⋱    ⋱    ⋱   ⋱"
      ]
     },
     "execution_count": 72,
     "metadata": {},
     "output_type": "execute_result"
    }
   ],
   "source": [
    "H = Hilbert() : ChebyshevWeight(Segment(-1,1),0)"
   ]
  },
  {
   "cell_type": "markdown",
   "metadata": {},
   "source": [
    "Thus $ I - (G-I)C^-$ can be represented on a single interval when $G$ has appropriate decay to 1:"
   ]
  },
  {
   "cell_type": "code",
   "execution_count": 73,
   "metadata": {},
   "outputs": [
    {
     "data": {
      "text/plain": [
       "PlusOperator : (1-x^2)^-0.5[Chebyshev(the segment [-1.0,1.0])] → (1-x^2)^-0.5[Ultraspherical(1,the segment [-1.0,1.0])]\n",
       "   1.0886432670340571 + 0.0im  …  ⋯\n",
       "                  0.0 + 0.0im     ⋱\n",
       " -0.08426795592489292 + 0.0im     ⋱\n",
       "                  0.0 + 0.0im     ⋱\n",
       "   0.0761649869582432 + 0.0im     ⋱\n",
       "                  0.0 + 0.0im  …  ⋱\n",
       " -0.06546994432074481 + 0.0im     ⋱\n",
       "                  0.0 + 0.0im     ⋱\n",
       " 0.053542023442444714 + 0.0im     ⋱\n",
       "                  0.0 + 0.0im     ⋱\n",
       "                       ⋮       …  ⋱"
      ]
     },
     "execution_count": 73,
     "metadata": {},
     "output_type": "execute_result"
    }
   ],
   "source": [
    "G̃ = Fun(x->exp(-40x^2),ChebyshevWeight(Segment(-1,1),0))\n",
    "G = Fun(x->1+exp(-40x^2),Chebyshev())\n",
    "(I+G)/2 + im/2*G̃*H"
   ]
  },
  {
   "cell_type": "markdown",
   "metadata": {},
   "source": [
    "How to do this with junctions?"
   ]
  },
  {
   "cell_type": "markdown",
   "metadata": {},
   "source": [
    "#### Hierarchical structure\n",
    "\n",
    "Stieltjes transforms have low rank structure when evaluated off the interval:"
   ]
  },
  {
   "cell_type": "code",
   "execution_count": 74,
   "metadata": {},
   "outputs": [
    {
     "data": {
      "text/plain": [
       "8.244707787129414e-9"
      ]
     },
     "execution_count": 74,
     "metadata": {},
     "output_type": "execute_result"
    }
   ],
   "source": [
    "Fun(z -> stieltjes(P(15),z), Legendre(Segment(1+im,2+2im))) |>norm"
   ]
  },
  {
   "cell_type": "code",
   "execution_count": 64,
   "metadata": {},
   "outputs": [
    {
     "data": {
      "text/plain": [
       "12"
      ]
     },
     "execution_count": 64,
     "metadata": {},
     "output_type": "execute_result"
    }
   ],
   "source": [
    "K = LowRankFun((z,ζ) -> 1/(z-ζ), Legendre()*Legendre(Segment(1+im,2+2im)))\n",
    "\n",
    "rank(K)"
   ]
  },
  {
   "cell_type": "markdown",
   "metadata": {},
   "source": [
    "This is exactly the sort of structure that makes Fast Multipole Method / Hierarchical matrices fast.  We can exploit this by plugging in RiemannHilbert.jl into HierarchicalMatrices.jl."
   ]
  }
 ],
 "metadata": {
  "kernelspec": {
   "display_name": "Julia 1.1.0",
   "language": "julia",
   "name": "julia-1.1"
  },
  "language_info": {
   "file_extension": ".jl",
   "mimetype": "application/julia",
   "name": "julia",
   "version": "1.1.0"
  }
 },
 "nbformat": 4,
 "nbformat_minor": 2
}
